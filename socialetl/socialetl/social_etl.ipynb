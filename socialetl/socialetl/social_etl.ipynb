{
 "cells": [
  {
   "cell_type": "code",
   "execution_count": 2,
   "metadata": {},
   "outputs": [],
   "source": [
    "import logging\n",
    "import os\n",
    "from abc import ABC, abstractmethod\n",
    "from dataclasses import asdict, dataclass\n",
    "from datetime import datetime, timedelta\n",
    "from typing import Callable, List, Tuple\n",
    "\n",
    "import praw\n",
    "import tweepy\n",
    "from dotenv import load_dotenv"
   ]
  },
  {
   "cell_type": "code",
   "execution_count": 2,
   "metadata": {},
   "outputs": [
    {
     "data": {
      "text/plain": [
       "True"
      ]
     },
     "execution_count": 2,
     "metadata": {},
     "output_type": "execute_result"
    }
   ],
   "source": [
    "load_dotenv()"
   ]
  },
  {
   "cell_type": "code",
   "execution_count": 3,
   "metadata": {},
   "outputs": [],
   "source": [
    "logging.info('No transformation applied.')"
   ]
  },
  {
   "cell_type": "code",
   "execution_count": null,
   "metadata": {},
   "outputs": [],
   "source": [
    "def list_tables(db_name: str):\n",
    "    with sqlite3.connect(db_name) as conn:\n",
    "        cursor = conn.cursor()\n",
    "        cursor.execute(\"SELECT name FROM sqlite_master WHERE type='table';\")\n",
    "        tables = cursor.fetchall()\n",
    "        return [table[0] for table in tables]\n",
    "\n",
    "# Gọi hàm để in ra danh sách các bảng\n",
    "tables = list_tables('./data/socialetl.db')\n",
    "print(tables)"
   ]
  },
  {
   "cell_type": "code",
   "execution_count": null,
   "metadata": {},
   "outputs": [],
   "source": [
    "def read_table(db_name: str, table_name: str):\n",
    "    with sqlite3.connect(db_name) as conn:\n",
    "        cursor = conn.cursor()\n",
    "        cursor.execute(f\"SELECT * FROM {table_name};\")\n",
    "        rows = cursor.fetchall()\n",
    "        return rows\n",
    "\n",
    "# Gọi hàm để đọc dữ liệu từ bảng cụ thể\n",
    "table_name = 'social_posts'  # Thay 'your_table_name' bằng tên bảng bạn muốn đọc\n",
    "data_from_table = read_table('./data/socialetl.db', table_name)\n",
    "print(data_from_table)"
   ]
  },
  {
   "cell_type": "code",
   "execution_count": 3,
   "metadata": {},
   "outputs": [],
   "source": [
    "REDDIT_CLIENT_ID='9df3vSq_jjssCjJ7nbT_cg'\n",
    "REDDIT_CLIENT_SECRET='yQxsfT7ClvyHDXebhuvk0w-WOX78eA'\n",
    "REDDIT_USER_AGENT='ggeddit'\n",
    "\n",
    "def extract():\n",
    "    client = praw.Reddit(\n",
    "        client_id=REDDIT_CLIENT_ID,\n",
    "        client_secret=REDDIT_CLIENT_SECRET,\n",
    "        user_agent=REDDIT_USER_AGENT,\n",
    "    )\n",
    "    subreddit = client.subreddit('dataengineering')\n",
    "    top_subreddit = subreddit.hot(limit=100)\n",
    "    data = []\n",
    "    for submission in top_subreddit:\n",
    "        data.append(\n",
    "            {\n",
    "                'title': submission.title,\n",
    "                'score': submission.score,\n",
    "                'id': submission.id,\n",
    "                'url': submission.url,\n",
    "                'comments': submission.num_comments,\n",
    "                'created': submission.created,\n",
    "                'text': submission.selftext,\n",
    "            }\n",
    "        )\n",
    "    return data"
   ]
  },
  {
   "cell_type": "code",
   "execution_count": null,
   "metadata": {},
   "outputs": [],
   "source": [
    "data = extract()"
   ]
  },
  {
   "cell_type": "code",
   "execution_count": 4,
   "metadata": {},
   "outputs": [],
   "source": [
    "import sqlite3\n",
    "from contextlib import contextmanager\n",
    "from typing import Iterator"
   ]
  },
  {
   "cell_type": "code",
   "execution_count": 5,
   "metadata": {},
   "outputs": [],
   "source": [
    "class DatabaseConnection:\n",
    "    def __init__(\n",
    "        self, db_type: str = 'sqlite3', db_file: str = 'data/socialetl.db'\n",
    "    ) -> None:\n",
    "        \"\"\"Class to connect to a database.\n",
    "\n",
    "        Args:\n",
    "            db_type (str, optional): Database type.\n",
    "                Defaults to 'sqlite3'.\n",
    "            db_file (str, optional): Database file.\n",
    "                Defaults to 'data/socialetl.db'.\n",
    "        \"\"\"\n",
    "        self._db_type = db_type\n",
    "        self._db_file = db_file\n",
    "\n",
    "    @contextmanager\n",
    "    def managed_cursor(self) -> Iterator[sqlite3.Cursor]:\n",
    "        \"\"\"Function to create a managed database cursor.\n",
    "\n",
    "        Yields:\n",
    "            sqlite3.Cursor: A sqlite3 cursor.\n",
    "        \"\"\"\n",
    "        if self._db_type == 'sqlite3':\n",
    "            _conn = sqlite3.connect(self._db_file)\n",
    "            cur = _conn.cursor()\n",
    "            try:\n",
    "                yield cur\n",
    "            finally:\n",
    "                _conn.commit()\n",
    "                cur.close()\n",
    "                _conn.close()\n"
   ]
  },
  {
   "cell_type": "code",
   "execution_count": 8,
   "metadata": {},
   "outputs": [],
   "source": [
    "def db_factory(\n",
    "    db_type: str = 'sqlite3', db_file: str = 'data/socialetl.db'\n",
    ") -> DatabaseConnection:\n",
    "    \"\"\"Function to create an ETL object.\n",
    "\n",
    "    Args:\n",
    "        db_type (str, optional): Database type.\n",
    "            Defaults to 'sqlite3'.\n",
    "        db_file (str, optional): Database file.\n",
    "            Defaults to 'data/socialetl.db'.\n",
    "\n",
    "    Returns:\n",
    "        DatabaseConnection: A DatabaseConnection object.\n",
    "    \"\"\"\n",
    "    return DatabaseConnection(db_type=db_type, db_file=db_file)"
   ]
  },
  {
   "cell_type": "code",
   "execution_count": null,
   "metadata": {},
   "outputs": [],
   "source": []
  },
  {
   "cell_type": "code",
   "execution_count": null,
   "metadata": {},
   "outputs": [],
   "source": []
  }
 ],
 "metadata": {
  "kernelspec": {
   "display_name": "myenv",
   "language": "python",
   "name": "python3"
  },
  "language_info": {
   "codemirror_mode": {
    "name": "ipython",
    "version": 3
   },
   "file_extension": ".py",
   "mimetype": "text/x-python",
   "name": "python",
   "nbconvert_exporter": "python",
   "pygments_lexer": "ipython3",
   "version": "3.11.9"
  }
 },
 "nbformat": 4,
 "nbformat_minor": 2
}
