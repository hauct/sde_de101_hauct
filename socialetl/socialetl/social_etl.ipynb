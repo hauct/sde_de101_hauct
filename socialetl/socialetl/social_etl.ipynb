{
 "cells": [
  {
   "cell_type": "code",
   "execution_count": 2,
   "metadata": {},
   "outputs": [],
   "source": [
    "import logging\n",
    "import os\n",
    "from abc import ABC, abstractmethod\n",
    "from dataclasses import asdict, dataclass\n",
    "from datetime import datetime, timedelta\n",
    "from typing import Callable, List, Tuple\n",
    "\n",
    "import praw\n",
    "import tweepy\n",
    "from dotenv import load_dotenv"
   ]
  },
  {
   "cell_type": "code",
   "execution_count": 2,
   "metadata": {},
   "outputs": [
    {
     "data": {
      "text/plain": [
       "True"
      ]
     },
     "execution_count": 2,
     "metadata": {},
     "output_type": "execute_result"
    }
   ],
   "source": [
    "load_dotenv()"
   ]
  },
  {
   "cell_type": "code",
   "execution_count": 3,
   "metadata": {},
   "outputs": [],
   "source": [
    "logging.info('No transformation applied.')"
   ]
  },
  {
   "cell_type": "code",
   "execution_count": null,
   "metadata": {},
   "outputs": [],
   "source": [
    "def list_tables(db_name: str):\n",
    "    with sqlite3.connect(db_name) as conn:\n",
    "        cursor = conn.cursor()\n",
    "        cursor.execute(\"SELECT name FROM sqlite_master WHERE type='table';\")\n",
    "        tables = cursor.fetchall()\n",
    "        return [table[0] for table in tables]\n",
    "\n",
    "# Gọi hàm để in ra danh sách các bảng\n",
    "tables = list_tables('./data/socialetl.db')\n",
    "print(tables)"
   ]
  },
  {
   "cell_type": "code",
   "execution_count": null,
   "metadata": {},
   "outputs": [],
   "source": [
    "def read_table(db_name: str, table_name: str):\n",
    "    with sqlite3.connect(db_name) as conn:\n",
    "        cursor = conn.cursor()\n",
    "        cursor.execute(f\"SELECT * FROM {table_name};\")\n",
    "        rows = cursor.fetchall()\n",
    "        return rows\n",
    "\n",
    "# Gọi hàm để đọc dữ liệu từ bảng cụ thể\n",
    "table_name = 'social_posts'  # Thay 'your_table_name' bằng tên bảng bạn muốn đọc\n",
    "data_from_table = read_table('./data/socialetl.db', table_name)\n",
    "print(data_from_table)"
   ]
  },
  {
   "cell_type": "code",
   "execution_count": 3,
   "metadata": {},
   "outputs": [],
   "source": [
    "REDDIT_CLIENT_ID='9df3vSq_jjssCjJ7nbT_cg'\n",
    "REDDIT_CLIENT_SECRET='yQxsfT7ClvyHDXebhuvk0w-WOX78eA'\n",
    "REDDIT_USER_AGENT='ggeddit'\n",
    "\n",
    "def extract():\n",
    "    client = praw.Reddit(\n",
    "        client_id=REDDIT_CLIENT_ID,\n",
    "        client_secret=REDDIT_CLIENT_SECRET,\n",
    "        user_agent=REDDIT_USER_AGENT,\n",
    "    )\n",
    "    subreddit = client.subreddit('dataengineering')\n",
    "    top_subreddit = subreddit.hot(limit=100)\n",
    "    data = []\n",
    "    for submission in top_subreddit:\n",
    "        data.append(\n",
    "            {\n",
    "                'title': submission.title,\n",
    "                'score': submission.score,\n",
    "                'id': submission.id,\n",
    "                'url': submission.url,\n",
    "                'comments': submission.num_comments,\n",
    "                'created': submission.created,\n",
    "                'text': submission.selftext,\n",
    "            }\n",
    "        )\n",
    "    return data"
   ]
  },
  {
   "cell_type": "code",
   "execution_count": null,
   "metadata": {},
   "outputs": [],
   "source": [
    "data = extract()"
   ]
  },
  {
   "cell_type": "code",
   "execution_count": 4,
   "metadata": {},
   "outputs": [],
   "source": [
    "import sqlite3\n",
    "from contextlib import contextmanager\n",
    "from typing import Iterator"
   ]
  },
  {
   "cell_type": "code",
   "execution_count": 5,
   "metadata": {},
   "outputs": [],
   "source": [
    "class DatabaseConnection:\n",
    "    def __init__(\n",
    "        self, db_type: str = 'sqlite3', db_file: str = 'data/socialetl.db'\n",
    "    ) -> None:\n",
    "        \"\"\"Class to connect to a database.\n",
    "\n",
    "        Args:\n",
    "            db_type (str, optional): Database type.\n",
    "                Defaults to 'sqlite3'.\n",
    "            db_file (str, optional): Database file.\n",
    "                Defaults to 'data/socialetl.db'.\n",
    "        \"\"\"\n",
    "        self._db_type = db_type\n",
    "        self._db_file = db_file\n",
    "\n",
    "    @contextmanager\n",
    "    def managed_cursor(self) -> Iterator[sqlite3.Cursor]:\n",
    "        \"\"\"Function to create a managed database cursor.\n",
    "\n",
    "        Yields:\n",
    "            sqlite3.Cursor: A sqlite3 cursor.\n",
    "        \"\"\"\n",
    "        if self._db_type == 'sqlite3':\n",
    "            _conn = sqlite3.connect(self._db_file)\n",
    "            cur = _conn.cursor()\n",
    "            try:\n",
    "                yield cur\n",
    "            finally:\n",
    "                _conn.commit()\n",
    "                cur.close()\n",
    "                _conn.close()\n"
   ]
  },
  {
   "cell_type": "code",
   "execution_count": 8,
   "metadata": {},
   "outputs": [],
   "source": [
    "def db_factory(\n",
    "    db_type: str = 'sqlite3', db_file: str = 'data/socialetl.db'\n",
    ") -> DatabaseConnection:\n",
    "    \"\"\"Function to create an ETL object.\n",
    "\n",
    "    Args:\n",
    "        db_type (str, optional): Database type.\n",
    "            Defaults to 'sqlite3'.\n",
    "        db_file (str, optional): Database file.\n",
    "            Defaults to 'data/socialetl.db'.\n",
    "\n",
    "    Returns:\n",
    "        DatabaseConnection: A DatabaseConnection object.\n",
    "    \"\"\"\n",
    "    return DatabaseConnection(db_type=db_type, db_file=db_file)"
   ]
  },
  {
   "cell_type": "code",
   "execution_count": null,
   "metadata": {},
   "outputs": [],
   "source": []
  },
  {
   "cell_type": "code",
   "execution_count": 8,
   "metadata": {},
   "outputs": [],
   "source": [
    "def log_metadata(func):\n",
    "\n",
    "    def log_wrapper():\n",
    "        print(f'Adding functionality to {func.__name__}')\n",
    "        # do some other thing\n",
    "        return func()\n",
    "\n",
    "    return log_wrapper\n",
    "\n",
    "\n",
    "@log_metadata\n",
    "def some_func():\n",
    "    print('do some thing')"
   ]
  },
  {
   "cell_type": "code",
   "execution_count": 9,
   "metadata": {},
   "outputs": [
    {
     "name": "stdout",
     "output_type": "stream",
     "text": [
      "Adding functionality to some_func\n",
      "do some thing\n"
     ]
    }
   ],
   "source": [
    "some_func()"
   ]
  },
  {
   "cell_type": "code",
   "execution_count": 24,
   "metadata": {},
   "outputs": [],
   "source": [
    "import inspect\n",
    "from utils.db import db_factory\n",
    "\n",
    "def log_metadata(func):\n",
    "    def log_wrapper(*args, **kwargs):\n",
    "        # Lấy thông tin về các tham số đầu vào\n",
    "        input_params = dict(\n",
    "            zip(list(locals().keys())[:-1], list(locals().values())[:-1])\n",
    "        )\n",
    "        param_names = list(\n",
    "            inspect.signature(func).parameters.keys()\n",
    "        )  # order is preserved\n",
    "        input_dict = {}\n",
    "        for v in input_params.get('args'):\n",
    "            input_dict[param_names.pop(0)] = v\n",
    "\n",
    "        Kết nối tới cơ sở dữ liệu và ghi log\n",
    "        db = db_factory()\n",
    "        with db.managed_cursor() as cur:\n",
    "            cur.execute(\n",
    "                (\n",
    "                    'INSERT INTO log_metadata (function_name, input_params)'\n",
    "                    ' VALUES (:func_name, :input_params)'\n",
    "                ),\n",
    "                {\n",
    "                    'func_name': func.__name__,\n",
    "                    'input_params': str(\n",
    "                        input_dict | input_params.get('kwargs')\n",
    "                    ),\n",
    "                },\n",
    "            )\n",
    "        print(input_params)\n",
    "        print(param_names)\n",
    "        print(input_dict)\n",
    "        return func(*args, **kwargs)\n",
    "\n",
    "    return log_wrapper"
   ]
  },
  {
   "cell_type": "code",
   "execution_count": 25,
   "metadata": {},
   "outputs": [],
   "source": [
    "@log_metadata\n",
    "def example_function(a, b, c):\n",
    "    return a + b + c"
   ]
  },
  {
   "cell_type": "code",
   "execution_count": 26,
   "metadata": {},
   "outputs": [
    {
     "name": "stdout",
     "output_type": "stream",
     "text": [
      "{'args': (), 'kwargs': {'a': 'hau', 'b': 'dep', 'c': 'trai'}}\n",
      "['a', 'b', 'c']\n",
      "{}\n"
     ]
    },
    {
     "data": {
      "text/plain": [
       "'haudeptrai'"
      ]
     },
     "execution_count": 26,
     "metadata": {},
     "output_type": "execute_result"
    }
   ],
   "source": [
    "example_function(a='hau', b='dep', c='trai')"
   ]
  },
  {
   "cell_type": "code",
   "execution_count": null,
   "metadata": {},
   "outputs": [],
   "source": []
  }
 ],
 "metadata": {
  "kernelspec": {
   "display_name": "myenv",
   "language": "python",
   "name": "python3"
  },
  "language_info": {
   "codemirror_mode": {
    "name": "ipython",
    "version": 3
   },
   "file_extension": ".py",
   "mimetype": "text/x-python",
   "name": "python",
   "nbconvert_exporter": "python",
   "pygments_lexer": "ipython3",
   "version": "3.13.1"
  }
 },
 "nbformat": 4,
 "nbformat_minor": 2
}
