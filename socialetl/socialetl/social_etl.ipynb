{
 "cells": [
  {
   "cell_type": "code",
   "execution_count": 2,
   "metadata": {},
   "outputs": [],
   "source": [
    "import logging\n",
    "import os\n",
    "from abc import ABC, abstractmethod\n",
    "from dataclasses import asdict, dataclass\n",
    "from datetime import datetime, timedelta\n",
    "from typing import Callable, List, Tuple\n",
    "\n",
    "import praw\n",
    "import tweepy\n",
    "from dotenv import load_dotenv"
   ]
  },
  {
   "cell_type": "code",
   "execution_count": 3,
   "metadata": {},
   "outputs": [
    {
     "data": {
      "text/plain": [
       "True"
      ]
     },
     "execution_count": 3,
     "metadata": {},
     "output_type": "execute_result"
    }
   ],
   "source": [
    "load_dotenv()"
   ]
  },
  {
   "cell_type": "code",
   "execution_count": 7,
   "metadata": {},
   "outputs": [],
   "source": [
    "REDDIT_CLIENT_ID = os.environ['REDDIT_CLIENT_ID']\n",
    "REDDIT_CLIENT_SECRET = os.environ['REDDIT_CLIENT_SECRET']\n",
    "REDDIT_USER_AGENT = os.environ['REDDIT_USER_AGENT']\n",
    "BEARER_TOKEN = os.environ['BEARER_TOKEN']"
   ]
  },
  {
   "cell_type": "code",
   "execution_count": 8,
   "metadata": {},
   "outputs": [],
   "source": [
    "def extract():\n",
    "    client = praw.Reddit(\n",
    "        client_id=REDDIT_CLIENT_ID,\n",
    "        client_secret=REDDIT_CLIENT_SECRET,\n",
    "        user_agent=REDDIT_USER_AGENT,\n",
    "    )\n",
    "    subreddit = client.subreddit('dataengineering')\n",
    "    top_subreddit = subreddit.hot(limit=100)\n",
    "    data = []\n",
    "    for submission in top_subreddit:\n",
    "        data.append(\n",
    "            {\n",
    "                'title': submission.title,\n",
    "                'score': submission.score,\n",
    "                'id': submission.id,\n",
    "                'url': submission.url,\n",
    "                'comments': submission.num_comments,\n",
    "                'created': submission.created,\n",
    "                'text': submission.selftext,\n",
    "            }\n",
    "        )\n",
    "    return data"
   ]
  },
  {
   "cell_type": "code",
   "execution_count": 9,
   "metadata": {},
   "outputs": [
    {
     "name": "stderr",
     "output_type": "stream",
     "text": [
      "Version 7.6.1 of praw is outdated. Version 7.8.1 was released Friday October 25, 2024.\n"
     ]
    }
   ],
   "source": [
    "data = extract()"
   ]
  },
  {
   "cell_type": "code",
   "execution_count": 17,
   "metadata": {},
   "outputs": [
    {
     "name": "stdout",
     "output_type": "stream",
     "text": [
      "Tweet ID: 1869789793137168416\n",
      "Author ID: 10671602\n",
      "Created at: 2024-12-19 17:00:00+00:00\n",
      "Text: Survive the xenomorph threat in Alien: Rogue Incursion, available today on #PSVR2\n",
      "\n",
      "Full trailer: https://t.co/OjmL2Wscgr https://t.co/2UgLWFoOUj\n"
     ]
    }
   ],
   "source": [
    "import os\n",
    "import tweepy\n",
    "import time\n",
    "\n",
    "# Thiết lập bearer token từ biến môi trường\n",
    "bearer_token = os.environ['BEARER_TOKEN']\n",
    "\n",
    "# Khởi tạo client của Tweepy\n",
    "client = tweepy.Client(bearer_token=bearer_token)\n",
    "\n",
    "# ID của bài post bạn muốn lấy thông tin\n",
    "tweet_id = '1869789793137168416'\n",
    "\n",
    "# Lấy thông tin của bài post với thời gian chờ giữa các yêu cầu\n",
    "try:\n",
    "    response = client.get_tweet(tweet_id, tweet_fields=['created_at', 'text', 'author_id'])\n",
    "    if response.data:\n",
    "        tweet = response.data\n",
    "        print(f\"Tweet ID: {tweet.id}\")\n",
    "        print(f\"Author ID: {tweet.author_id}\")\n",
    "        print(f\"Created at: {tweet.created_at}\")\n",
    "        print(f\"Text: {tweet.text}\")\n",
    "    else:\n",
    "        print(\"Không tìm thấy bài post với ID đã cho.\")\n",
    "except tweepy.TweepyException as e:\n",
    "    if e.response.status_code == 403 and 'code' in e.response.json()['errors'][0] and e.response.json()['errors'][0]['code'] == 453:\n",
    "        print(\"Endpoint này yêu cầu quyền truy cập cao hơn.\")\n",
    "    else:\n",
    "        print(\"Đã xảy ra lỗi:\", e)"
   ]
  },
  {
   "cell_type": "code",
   "execution_count": 22,
   "metadata": {},
   "outputs": [],
   "source": [
    "def test_dict(name):\n",
    "    factory = {'hau': ('hello', 2)}\n",
    "    return factory[name]"
   ]
  },
  {
   "cell_type": "code",
   "execution_count": 24,
   "metadata": {},
   "outputs": [
    {
     "name": "stdout",
     "output_type": "stream",
     "text": [
      "hello\n",
      "2\n"
     ]
    }
   ],
   "source": [
    "hau_name, hau_hello = test_dict('hau')\n",
    "print(hau_name)\n",
    "print(hau_hello)"
   ]
  },
  {
   "cell_type": "code",
   "execution_count": 28,
   "metadata": {},
   "outputs": [
    {
     "name": "stdout",
     "output_type": "stream",
     "text": [
      "['hieu', 'hau']\n"
     ]
    }
   ],
   "source": [
    "import random\n",
    "import logging\n",
    "from typing import List\n",
    "\n",
    "# Định nghĩa hàm random_choice_filter\n",
    "def random_choice_filter(\n",
    "    social_data: List[str]\n",
    ") -> List[str]:\n",
    "    logging.info('Randomly choosing 2 social media data points.')\n",
    "    return random.choices(social_data, k=2)\n",
    "\n",
    "# Gọi hàm random_choice_filter với danh sách các chuỗi\n",
    "result = random_choice_filter(['hau', 'hieu', 'huy'])\n",
    "\n",
    "# In kết quả\n",
    "print(result)"
   ]
  }
 ],
 "metadata": {
  "kernelspec": {
   "display_name": "myenv",
   "language": "python",
   "name": "python3"
  },
  "language_info": {
   "codemirror_mode": {
    "name": "ipython",
    "version": 3
   },
   "file_extension": ".py",
   "mimetype": "text/x-python",
   "name": "python",
   "nbconvert_exporter": "python",
   "pygments_lexer": "ipython3",
   "version": "3.11.9"
  }
 },
 "nbformat": 4,
 "nbformat_minor": 2
}
