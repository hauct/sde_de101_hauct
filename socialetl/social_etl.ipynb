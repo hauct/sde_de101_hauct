{
 "cells": [
  {
   "cell_type": "code",
   "execution_count": 2,
   "metadata": {},
   "outputs": [],
   "source": [
    "import praw\n",
    "import os\n",
    "import sqlite3\n"
   ]
  },
  {
   "cell_type": "code",
   "execution_count": 4,
   "metadata": {},
   "outputs": [
    {
     "name": "stdout",
     "output_type": "stream",
     "text": [
      "['social_posts']\n"
     ]
    }
   ],
   "source": [
    "def list_tables(db_name: str):\n",
    "    with sqlite3.connect(db_name) as conn:\n",
    "        cursor = conn.cursor()\n",
    "        cursor.execute(\"SELECT name FROM sqlite_master WHERE type='table';\")\n",
    "        tables = cursor.fetchall()\n",
    "        return [table[0] for table in tables]\n",
    "\n",
    "# Gọi hàm để in ra danh sách các bảng\n",
    "tables = list_tables('./data/socialetl.db')\n",
    "print(tables)"
   ]
  },
  {
   "cell_type": "code",
   "execution_count": 5,
   "metadata": {},
   "outputs": [
    {
     "name": "stdout",
     "output_type": "stream",
     "text": [
      "[('1hf0i5w', 92, '{\\'title\\': \\'What is the purpose of CI/CD and what would happen if we didn’t use it?\\', \\'url\\': \\'https://www.reddit.com/r/dataengineering/comments/1hf0i5w/what_is_the_purpose_of_cicd_and_what_would_happen/\\', \\'comments\\': 48, \\'created\\': 1734291706.0, \\'text\\': \"Hello everyone,\\\\n\\\\nI\\'m currently learning about CI/CD, and I’m still trying to understand its practical benefits. From what I know, it helps detect errors in the code more quickly for example. However, I\\'m unsure of the value of using CI/CD if I’m already committing changes to GitHub. I know this might sound stupid, but as a beginner, I’d really appreciate any examples that could help clarify its usefulness.\"}'), ('1hf042d', 22, \"{'title': 'Is it worth studying a degree?', 'url': 'https://www.reddit.com/r/dataengineering/comments/1hf042d/is_it_worth_studying_a_degree/', 'comments': 39, 'created': 1734290647.0, 'text': 'I’ve been a data engineer for two years now (broke in via self study for a year) and constantly trying to learn by studying textbooks outside of work, and will eventually look into certifications when time permits. \\\\n\\\\nHowever, my girlfriend strongly suggests that I get a masters degree related to this field, to make myself stand out from the crowd when job security gets tougher in the future (she believes job security in tech will change with the advance of AI). She mainly says this because my current undergraduate degree is in an unrelated field.\\\\n\\\\nWhat’s your opinions on this? Personally I never wanted to go down the route of a degree because it costs so much, and I felt I could learn myself as I’ve learnt ‘how to study’.'}\"), ('1hekwrw', 100, \"{'title': 'New job, terrible tech lead', 'url': 'https://www.reddit.com/r/dataengineering/comments/1hekwrw/new_job_terrible_tech_lead/', 'comments': 43, 'created': 1734236985.0, 'text': 'Hey everyone, \\\\n\\\\nSo I just started a new job and the team is great, but the tech lead is terrible. He issues negative comments about my abilities, acts passive aggressively, has laughed when I ask questions, and generally has a condescending tone to me and the other junior on the team. I come from a BI background with experience in SQL and Python and this is my first data engineer role, especially one in corporate with highly structured releases and source control. I was very open that I wanted people to learn from when interviewing, but now I’m made to feel like an idiot and there’s barely any mentorship now that I’m on. I have a lot to learn but he barely helps and any time I’m not actively producing something (like when I take time to consolidate my notes or do training) he makes comments with a tone or even directly suggesting I’m not getting any work done.\\\\n\\\\nI’ve been in the role for two months so far and it’s seriously taking a toll on me mentally. I’ve only heard things from the grapevine, but I guess he agreed to postpone his retirement to stay on the team and get our current project done. All I hear from management (this guy is not my manager) is that Q1 is going to be even crazier than now and it just makes me think this is going to be even worse.\\\\n\\\\nI’ve already spoken to my manager and basically told him all of this. He’s done this to another junior ish person and also to our BA but not as bad as he does to me. I told him that this guy is acting unprofessionally and I need to move to another team to grow as a professional. I guess I’m looking for advice from all of you on how you would deal with it.'}\"), ('1hdhn0z', 147, '{\\'title\\': \\'3 years as a data engineer at FAANG, received offer for a Sr Solutions Architect \\', \\'url\\': \\'https://www.reddit.com/r/dataengineering/comments/1hdhn0z/3_years_as_a_data_engineer_at_faang_received/\\', \\'comments\\': 48, \\'created\\': 1734111571.0, \\'text\\': \"I\\'ve been working 3 years as a data engineer in FAANG, been receiving good performance reviews and now up for promotion. However, I was recently involved in a process in another company for a Sr Solutions Architect with a specialty in Data Engineering. I\\'ve now got the offer, but not sure what to do. I had my plan set on getting my promotion and going back to grad school to study (something I\\'ve been thinking about since I started working and really want to do out personal curiosity for the subject area). Although the process for the position went very well, I feel intimidated by the scope and the senior position and sad to let go of the university idea for the time being. Would love to get some advice on how you\\'ve managed situations where you got an offer for a seemingly much higher level than you are at now, and how easy it is to switch back to a DE role if I don\\'t enjoy the solution architect role.\\\\n\"}'), ('1hcqobm', 33, \"{'title': 'Do you like dbt Cloud?', 'url': 'https://www.reddit.com/r/dataengineering/comments/1hcqobm/do_you_like_dbt_cloud/', 'comments': 47, 'created': 1734025468.0, 'text': 'Do you develop locally? Any extensions or alternatives you seen? What would make dbt Cloud amazing?'}\"), ('1hcmmus', 20, '{\\'title\\': \\'Does a fresh graduate have scope of entering Data Engineering as a fresher\\', \\'url\\': \\'https://i.redd.it/dxaoidm8kf6e1.jpeg\\', \\'comments\\': 43, \\'created\\': 1734014789.0, \\'text\\': \"I graduated this year with a Bachelors in Al & Data Science. In my last semester I worked as a Data Analyst for an mnc which got converted to a full time employment opportuniy in June.\\\\nCut to last month we had layoffs in the company and the entire department was let go. I\\'ve been actively upskilling myself since and wish to transition my career into Data Engineering, but I\\'ve hardly ever come across job posts that want a fresher. Experienced people of reddit, do freshers even have a chance of entering the job market as a data engineer. What I mean by this is would I have to gain some years of experience as a Data Analyst / Data Scientist and then get a chance to switch to DE.\\\\n\\\\nPs : attaching a ss of my current skillset, any advices on what tools I should next focus on.. Or advices in general would also be much appreciated.\"}'), ('1hbsjl5', 517, \"{'title': '7 Projects to Master Data Engineering', 'url': 'https://www.kdnuggets.com/7-projects-master-data-engineering', 'comments': 43, 'created': 1733920758.0, 'text': ''}\")]\n"
     ]
    }
   ],
   "source": [
    "def read_table(db_name: str, table_name: str):\n",
    "    with sqlite3.connect(db_name) as conn:\n",
    "        cursor = conn.cursor()\n",
    "        cursor.execute(f\"SELECT * FROM {table_name};\")\n",
    "        rows = cursor.fetchall()\n",
    "        return rows\n",
    "\n",
    "# Gọi hàm để đọc dữ liệu từ bảng cụ thể\n",
    "table_name = 'social_posts'  # Thay 'your_table_name' bằng tên bảng bạn muốn đọc\n",
    "data_from_table = read_table('./data/socialetl.db', table_name)\n",
    "print(data_from_table)"
   ]
  },
  {
   "cell_type": "code",
   "execution_count": 3,
   "metadata": {},
   "outputs": [],
   "source": [
    "REDDIT_CLIENT_ID='9df3vSq_jjssCjJ7nbT_cg'\n",
    "REDDIT_CLIENT_SECRET='yQxsfT7ClvyHDXebhuvk0w-WOX78eA'\n",
    "REDDIT_USER_AGENT='ggeddit'\n",
    "\n",
    "def extract():\n",
    "    client = praw.Reddit(\n",
    "        client_id=REDDIT_CLIENT_ID,\n",
    "        client_secret=REDDIT_CLIENT_SECRET,\n",
    "        user_agent=REDDIT_USER_AGENT,\n",
    "    )\n",
    "    subreddit = client.subreddit('dataengineering')\n",
    "    top_subreddit = subreddit.hot(limit=100)\n",
    "    data = []\n",
    "    for submission in top_subreddit:\n",
    "        data.append(\n",
    "            {\n",
    "                'title': submission.title,\n",
    "                'score': submission.score,\n",
    "                'id': submission.id,\n",
    "                'url': submission.url,\n",
    "                'comments': submission.num_comments,\n",
    "                'created': submission.created,\n",
    "                'text': submission.selftext,\n",
    "            }\n",
    "        )\n",
    "    return data"
   ]
  },
  {
   "cell_type": "code",
   "execution_count": 4,
   "metadata": {},
   "outputs": [
    {
     "name": "stderr",
     "output_type": "stream",
     "text": [
      "Version 7.6.1 of praw is outdated. Version 7.8.1 was released Friday October 25, 2024.\n"
     ]
    }
   ],
   "source": [
    "data = extract()"
   ]
  },
  {
   "cell_type": "code",
   "execution_count": 6,
   "metadata": {},
   "outputs": [],
   "source": [
    "import sqlite3\n",
    "from contextlib import contextmanager\n",
    "from typing import Iterator"
   ]
  },
  {
   "cell_type": "code",
   "execution_count": null,
   "metadata": {},
   "outputs": [],
   "source": []
  }
 ],
 "metadata": {
  "kernelspec": {
   "display_name": "myenv",
   "language": "python",
   "name": "python3"
  },
  "language_info": {
   "codemirror_mode": {
    "name": "ipython",
    "version": 3
   },
   "file_extension": ".py",
   "mimetype": "text/x-python",
   "name": "python",
   "nbconvert_exporter": "python",
   "pygments_lexer": "ipython3",
   "version": "3.11.9"
  }
 },
 "nbformat": 4,
 "nbformat_minor": 2
}
