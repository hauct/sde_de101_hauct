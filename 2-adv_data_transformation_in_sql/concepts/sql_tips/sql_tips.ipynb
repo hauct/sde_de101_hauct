{
 "cells": [
  {
   "cell_type": "markdown",
   "id": "ce632463-be86-4c9f-94a8-8ecdfc8f37ae",
   "metadata": {},
   "source": [
    "### Code for the blog **[25 SQL tips to level up your data engineering skills](https://www.startdataengineering.com/post/n-sql-tips-de/)**"
   ]
  },
  {
   "cell_type": "markdown",
   "id": "7f4fded1-5f6f-439d-a2ce-f59abf2ff43a",
   "metadata": {
    "jp-MarkdownHeadingCollapsed": true
   },
   "source": [
    "# [SETUP] "
   ]
  },
  {
   "cell_type": "code",
   "execution_count": 1,
   "id": "118da67e-aa4e-45f3-9ca7-b66cd237fde1",
   "metadata": {},
   "outputs": [
    {
     "name": "stdout",
     "output_type": "stream",
     "text": [
      "Cleaning up (if any existing) tpch db file tpch.db\n",
      "The file tpch.db does not exist.\n",
      "Creating TPCH input data at tpch.db\n"
     ]
    }
   ],
   "source": [
    "! python ./setup.py"
   ]
  },
  {
   "cell_type": "markdown",
   "id": "dbcfd5db-87dc-4629-9c25-dd5d9ee8e48c",
   "metadata": {},
   "source": [
    "## Connect to DuckDB"
   ]
  },
  {
   "cell_type": "code",
   "execution_count": 2,
   "id": "38db11b5-5d42-4105-b021-e6a66ec00fcd",
   "metadata": {},
   "outputs": [],
   "source": [
    "import duckdb\n",
    "import pandas as pd\n",
    "\n",
    "%load_ext sql\n",
    "conn = duckdb.connect(\"tpch.db\")\n",
    "%sql conn --alias duckdb"
   ]
  },
  {
   "cell_type": "code",
   "execution_count": 3,
   "id": "e7b0cd41-ae3a-48be-90a8-4864bc8695f3",
   "metadata": {},
   "outputs": [
    {
     "data": {
      "text/html": [
       "<span style=\"None\">Running query in &#x27;duckdb&#x27;</span>"
      ],
      "text/plain": [
       "Running query in 'duckdb'"
      ]
     },
     "metadata": {},
     "output_type": "display_data"
    },
    {
     "data": {
      "text/html": [
       "<table>\n",
       "    <thead>\n",
       "        <tr>\n",
       "            <th>name</th>\n",
       "        </tr>\n",
       "    </thead>\n",
       "    <tbody>\n",
       "        <tr>\n",
       "            <td>customer</td>\n",
       "        </tr>\n",
       "        <tr>\n",
       "            <td>lineitem</td>\n",
       "        </tr>\n",
       "        <tr>\n",
       "            <td>nation</td>\n",
       "        </tr>\n",
       "        <tr>\n",
       "            <td>orders</td>\n",
       "        </tr>\n",
       "        <tr>\n",
       "            <td>part</td>\n",
       "        </tr>\n",
       "        <tr>\n",
       "            <td>partsupp</td>\n",
       "        </tr>\n",
       "        <tr>\n",
       "            <td>region</td>\n",
       "        </tr>\n",
       "        <tr>\n",
       "            <td>supplier</td>\n",
       "        </tr>\n",
       "    </tbody>\n",
       "</table>"
      ],
      "text/plain": [
       "+----------+\n",
       "|   name   |\n",
       "+----------+\n",
       "| customer |\n",
       "| lineitem |\n",
       "|  nation  |\n",
       "|  orders  |\n",
       "|   part   |\n",
       "| partsupp |\n",
       "|  region  |\n",
       "| supplier |\n",
       "+----------+"
      ]
     },
     "execution_count": 3,
     "metadata": {},
     "output_type": "execute_result"
    }
   ],
   "source": [
    "%%sql\n",
    "show tables;"
   ]
  },
  {
   "cell_type": "markdown",
   "id": "9bfae6b7-11f9-4c06-84ca-d8964cc03640",
   "metadata": {},
   "source": [
    "# [Data Model]\n",
    "\n",
    "The TPC-H data represents a car parts seller’s data warehouse, where we record orders, items that make up that order (lineitem), supplier, customer, part (parts sold), region, nation, and partsupp (parts supplier). \n",
    "\n",
    "Note: Have a copy of the data model as you follow along; this will help in understanding the examples provided and in answering exercise questions.\n",
    "\n",
    "![](../../tpch_erd.png)\n"
   ]
  },
  {
   "cell_type": "markdown",
   "id": "6500b7ef-1ab8-4100-a984-5a8ee104777e",
   "metadata": {},
   "source": [
    "# Pre-requisites"
   ]
  },
  {
   "cell_type": "markdown",
   "id": "f6af0dde-1986-446f-abd7-151a508b479b",
   "metadata": {},
   "source": [
    "1. [Basics](https://github.com/josephmachado/adv_data_transformation_in_sql/blob/main/0-basics.ipynb)\n",
    "2. [CTEs](https://github.com/josephmachado/adv_data_transformation_in_sql/blob/main/concepts/CTE/CTE.ipynb)\n",
    "3. [Window functions](https://github.com/josephmachado/adv_data_transformation_in_sql/blob/main/concepts/windows/windows.ipynb)\n",
    "4. [Nested data types](https://github.com/josephmachado/adv_data_transformation_in_sql/blob/main/concepts/nested_data_types/using_nested_data_types.ipynb)"
   ]
  },
  {
   "cell_type": "markdown",
   "id": "a0434f88-742d-4f62-bf65-a0d552981ad6",
   "metadata": {},
   "source": [
    "# SQL tips"
   ]
  },
  {
   "cell_type": "markdown",
   "id": "56948939-3eb6-4f55-a04b-32a27ceeceaa",
   "metadata": {},
   "source": [
    "## 1. Handy functions for common data processing scenarios"
   ]
  },
  {
   "cell_type": "markdown",
   "id": "5484c6f5-62b5-4770-af89-cd8cdb036bc4",
   "metadata": {},
   "source": [
    "### 1.1. Need to filter on WINDOW function without CTE/Subquery use QUALIFY"
   ]
  },
  {
   "cell_type": "code",
   "execution_count": 4,
   "id": "6c7d96f6-3df4-4e3e-8707-4039a9463df5",
   "metadata": {},
   "outputs": [
    {
     "data": {
      "text/html": [
       "<span style=\"None\">Running query in &#x27;duckdb&#x27;</span>"
      ],
      "text/plain": [
       "Running query in 'duckdb'"
      ]
     },
     "metadata": {},
     "output_type": "display_data"
    },
    {
     "data": {
      "text/html": [
       "<table>\n",
       "    <thead>\n",
       "        <tr>\n",
       "            <th>o_orderkey</th>\n",
       "            <th>o_totalprice</th>\n",
       "            <th>price_rank</th>\n",
       "        </tr>\n",
       "    </thead>\n",
       "    <tbody>\n",
       "        <tr>\n",
       "            <td>52965</td>\n",
       "            <td>466001.28</td>\n",
       "            <td>1</td>\n",
       "        </tr>\n",
       "        <tr>\n",
       "            <td>29158</td>\n",
       "            <td>439687.23</td>\n",
       "            <td>2</td>\n",
       "        </tr>\n",
       "        <tr>\n",
       "            <td>44707</td>\n",
       "            <td>431771.98</td>\n",
       "            <td>3</td>\n",
       "        </tr>\n",
       "        <tr>\n",
       "            <td>59106</td>\n",
       "            <td>430619.75</td>\n",
       "            <td>4</td>\n",
       "        </tr>\n",
       "        <tr>\n",
       "            <td>6882</td>\n",
       "            <td>422359.65</td>\n",
       "            <td>5</td>\n",
       "        </tr>\n",
       "        <tr>\n",
       "            <td>57376</td>\n",
       "            <td>411255.46</td>\n",
       "            <td>6</td>\n",
       "        </tr>\n",
       "        <tr>\n",
       "            <td>39456</td>\n",
       "            <td>409770.83</td>\n",
       "            <td>7</td>\n",
       "        </tr>\n",
       "        <tr>\n",
       "            <td>17571</td>\n",
       "            <td>408345.74</td>\n",
       "            <td>8</td>\n",
       "        </tr>\n",
       "        <tr>\n",
       "            <td>39620</td>\n",
       "            <td>406938.36</td>\n",
       "            <td>9</td>\n",
       "        </tr>\n",
       "        <tr>\n",
       "            <td>35460</td>\n",
       "            <td>405742.27</td>\n",
       "            <td>10</td>\n",
       "        </tr>\n",
       "    </tbody>\n",
       "</table>\n",
       "<span style=\"font-style:italic;text-align:center;\">Truncated to <a href=\"https://jupysql.ploomber.io/en/latest/api/configuration.html#displaylimit\">displaylimit</a> of 10.</span>"
      ],
      "text/plain": [
       "+------------+--------------+------------+\n",
       "| o_orderkey | o_totalprice | price_rank |\n",
       "+------------+--------------+------------+\n",
       "|   52965    |  466001.28   |     1      |\n",
       "|   29158    |  439687.23   |     2      |\n",
       "|   44707    |  431771.98   |     3      |\n",
       "|   59106    |  430619.75   |     4      |\n",
       "|    6882    |  422359.65   |     5      |\n",
       "|   57376    |  411255.46   |     6      |\n",
       "|   39456    |  409770.83   |     7      |\n",
       "|   17571    |  408345.74   |     8      |\n",
       "|   39620    |  406938.36   |     9      |\n",
       "|   35460    |  405742.27   |     10     |\n",
       "+------------+--------------+------------+\n",
       "Truncated to displaylimit of 10."
      ]
     },
     "execution_count": 4,
     "metadata": {},
     "output_type": "execute_result"
    }
   ],
   "source": [
    "%%sql\n",
    "SELECT \n",
    "    o_orderkey, \n",
    "    o_totalprice, \n",
    "    RANK() OVER (ORDER BY o_totalprice DESC) AS price_rank\n",
    "FROM orders\n",
    "QUALIFY price_rank <= 10;"
   ]
  },
  {
   "cell_type": "markdown",
   "id": "43ffa008-c4bb-41f9-a71f-035f6aacff72",
   "metadata": {},
   "source": [
    "This query ranks the orders by o_totalprice in descending order and filters the top 10 using the QUALIFY clause. \n",
    "Without QUALIFY we would have to use a subquery or CTE approach to filter on price_rank"
   ]
  },
  {
   "cell_type": "markdown",
   "id": "5c51b130-f7af-46e1-8437-8cfee0966a7b",
   "metadata": {},
   "source": [
    "### 1.2. Need the first/last row in a partition use DISTINCT ON"
   ]
  },
  {
   "cell_type": "code",
   "execution_count": 5,
   "id": "15e43fd8-d4ec-4634-a90a-14b87e240412",
   "metadata": {},
   "outputs": [
    {
     "data": {
      "text/html": [
       "<span style=\"None\">Running query in &#x27;duckdb&#x27;</span>"
      ],
      "text/plain": [
       "Running query in 'duckdb'"
      ]
     },
     "metadata": {},
     "output_type": "display_data"
    },
    {
     "data": {
      "text/html": [
       "<table>\n",
       "    <thead>\n",
       "        <tr>\n",
       "            <th>o_custkey</th>\n",
       "            <th>o_orderdate</th>\n",
       "            <th>o_totalprice</th>\n",
       "        </tr>\n",
       "    </thead>\n",
       "    <tbody>\n",
       "        <tr>\n",
       "            <td>1</td>\n",
       "            <td>1998-03-29</td>\n",
       "            <td>89230.03</td>\n",
       "        </tr>\n",
       "        <tr>\n",
       "            <td>2</td>\n",
       "            <td>1998-05-18</td>\n",
       "            <td>50178.44</td>\n",
       "        </tr>\n",
       "        <tr>\n",
       "            <td>4</td>\n",
       "            <td>1998-06-24</td>\n",
       "            <td>50422.56</td>\n",
       "        </tr>\n",
       "        <tr>\n",
       "            <td>5</td>\n",
       "            <td>1998-04-29</td>\n",
       "            <td>177360.54</td>\n",
       "        </tr>\n",
       "        <tr>\n",
       "            <td>7</td>\n",
       "            <td>1997-12-20</td>\n",
       "            <td>69976.43</td>\n",
       "        </tr>\n",
       "        <tr>\n",
       "            <td>8</td>\n",
       "            <td>1998-07-27</td>\n",
       "            <td>174071.02</td>\n",
       "        </tr>\n",
       "        <tr>\n",
       "            <td>10</td>\n",
       "            <td>1998-08-02</td>\n",
       "            <td>99067.93</td>\n",
       "        </tr>\n",
       "        <tr>\n",
       "            <td>11</td>\n",
       "            <td>1998-01-21</td>\n",
       "            <td>16873.08</td>\n",
       "        </tr>\n",
       "        <tr>\n",
       "            <td>13</td>\n",
       "            <td>1998-05-04</td>\n",
       "            <td>24140.16</td>\n",
       "        </tr>\n",
       "        <tr>\n",
       "            <td>14</td>\n",
       "            <td>1997-11-13</td>\n",
       "            <td>185397.75</td>\n",
       "        </tr>\n",
       "    </tbody>\n",
       "</table>\n",
       "<span style=\"font-style:italic;text-align:center;\">Truncated to <a href=\"https://jupysql.ploomber.io/en/latest/api/configuration.html#displaylimit\">displaylimit</a> of 10.</span>"
      ],
      "text/plain": [
       "+-----------+-------------+--------------+\n",
       "| o_custkey | o_orderdate | o_totalprice |\n",
       "+-----------+-------------+--------------+\n",
       "|     1     |  1998-03-29 |   89230.03   |\n",
       "|     2     |  1998-05-18 |   50178.44   |\n",
       "|     4     |  1998-06-24 |   50422.56   |\n",
       "|     5     |  1998-04-29 |  177360.54   |\n",
       "|     7     |  1997-12-20 |   69976.43   |\n",
       "|     8     |  1998-07-27 |  174071.02   |\n",
       "|     10    |  1998-08-02 |   99067.93   |\n",
       "|     11    |  1998-01-21 |   16873.08   |\n",
       "|     13    |  1998-05-04 |   24140.16   |\n",
       "|     14    |  1997-11-13 |  185397.75   |\n",
       "+-----------+-------------+--------------+\n",
       "Truncated to displaylimit of 10."
      ]
     },
     "execution_count": 5,
     "metadata": {},
     "output_type": "execute_result"
    }
   ],
   "source": [
    "%%sql\n",
    "SELECT DISTINCT ON (o_custkey) \n",
    "    o_custkey, \n",
    "    o_orderdate, \n",
    "    o_totalprice\n",
    "FROM orders\n",
    "ORDER BY o_custkey, o_orderdate DESC;"
   ]
  },
  {
   "cell_type": "markdown",
   "id": "0d31f265-832b-447e-bc75-210d73f8c30f",
   "metadata": {},
   "source": [
    "**DISTINCT ON (o_custkey)** ensures that you get only one row per customer (o_custkey).\n",
    "    The ORDER BY o_custkey, o_orderdate DESC clause ensures that the query returns the most recent order (o_orderdate) for each customer based on the latest order date.\n",
    "\n",
    "This will return the most recent order details (like o_totalprice and o_orderdate) for each customer (o_custkey)."
   ]
  },
  {
   "cell_type": "markdown",
   "id": "73eb922b-9f4b-4109-be15-03e1a8a89159",
   "metadata": {},
   "source": [
    "### 1.3. STRUCT data types are sorted based on their keys from left to right"
   ]
  },
  {
   "cell_type": "code",
   "execution_count": 6,
   "id": "b9a913cc-1935-4e82-b527-69992f49d7a0",
   "metadata": {},
   "outputs": [
    {
     "data": {
      "text/html": [
       "<span style=\"None\">Running query in &#x27;duckdb&#x27;</span>"
      ],
      "text/plain": [
       "Running query in 'duckdb'"
      ]
     },
     "metadata": {},
     "output_type": "display_data"
    },
    {
     "data": {
      "text/html": [
       "<table>\n",
       "    <thead>\n",
       "        <tr>\n",
       "            <th>min_order_date</th>\n",
       "            <th>max_order_date_price</th>\n",
       "        </tr>\n",
       "    </thead>\n",
       "    <tbody>\n",
       "        <tr>\n",
       "            <td>{'o_orderdate': datetime.date(1992, 1, 1), 'o_totalprice': Decimal('29084.44'), 'o_orderkey': 5607}</td>\n",
       "            <td>{'o_orderdate': datetime.date(1998, 8, 2), 'o_totalprice': Decimal('233488.50'), 'o_orderkey': 55205}</td>\n",
       "        </tr>\n",
       "    </tbody>\n",
       "</table>"
      ],
      "text/plain": [
       "+-----------------------------------------------------------------------------------------------------+-------------------------------------------------------------------------------------------------------+\n",
       "|                                            min_order_date                                           |                                          max_order_date_price                                         |\n",
       "+-----------------------------------------------------------------------------------------------------+-------------------------------------------------------------------------------------------------------+\n",
       "| {'o_orderdate': datetime.date(1992, 1, 1), 'o_totalprice': Decimal('29084.44'), 'o_orderkey': 5607} | {'o_orderdate': datetime.date(1998, 8, 2), 'o_totalprice': Decimal('233488.50'), 'o_orderkey': 55205} |\n",
       "+-----------------------------------------------------------------------------------------------------+-------------------------------------------------------------------------------------------------------+"
      ]
     },
     "execution_count": 6,
     "metadata": {},
     "output_type": "execute_result"
    }
   ],
   "source": [
    "%%sql\n",
    "WITH order_struct AS (\n",
    "    SELECT \n",
    "        o_orderkey,\n",
    "        STRUCT_PACK(o_orderdate, o_totalprice, o_orderkey) AS order_info\n",
    "    FROM orders\n",
    ")\n",
    "SELECT \n",
    "    MIN(order_info) AS min_order_date,\n",
    "    MAX(order_info) AS max_order_date_price\n",
    "FROM order_struct;"
   ]
  },
  {
   "cell_type": "code",
   "execution_count": 9,
   "id": "0baa808b",
   "metadata": {},
   "outputs": [
    {
     "data": {
      "text/html": [
       "<span style=\"None\">Running query in &#x27;duckdb&#x27;</span>"
      ],
      "text/plain": [
       "Running query in 'duckdb'"
      ]
     },
     "metadata": {},
     "output_type": "display_data"
    },
    {
     "data": {
      "text/html": [
       "<table>\n",
       "    <thead>\n",
       "        <tr>\n",
       "            <th>min_order_date</th>\n",
       "            <th>max_order_date_price</th>\n",
       "        </tr>\n",
       "    </thead>\n",
       "    <tbody>\n",
       "        <tr>\n",
       "            <td>{'o_totalprice': Decimal('874.89'), 'o_orderkey': 35271}</td>\n",
       "            <td>{'o_totalprice': Decimal('466001.28'), 'o_orderkey': 52965}</td>\n",
       "        </tr>\n",
       "    </tbody>\n",
       "</table>"
      ],
      "text/plain": [
       "+----------------------------------------------------------+-------------------------------------------------------------+\n",
       "|                      min_order_date                      |                     max_order_date_price                    |\n",
       "+----------------------------------------------------------+-------------------------------------------------------------+\n",
       "| {'o_totalprice': Decimal('874.89'), 'o_orderkey': 35271} | {'o_totalprice': Decimal('466001.28'), 'o_orderkey': 52965} |\n",
       "+----------------------------------------------------------+-------------------------------------------------------------+"
      ]
     },
     "execution_count": 9,
     "metadata": {},
     "output_type": "execute_result"
    }
   ],
   "source": [
    "%%sql\n",
    "WITH order_struct AS (\n",
    "    SELECT \n",
    "        o_orderkey,\n",
    "        STRUCT_PACK(o_totalprice, o_orderkey) AS order_info\n",
    "    FROM orders\n",
    ")\n",
    "SELECT \n",
    "    MIN(order_info) AS min_order_date,\n",
    "    MAX(order_info) AS max_order_date_price\n",
    "FROM order_struct;"
   ]
  },
  {
   "cell_type": "markdown",
   "id": "9bc43408-d7cf-4600-a836-e6d9031992bf",
   "metadata": {},
   "source": [
    "In the above example the `order_info` struct will be sorted based on `o_orderdate`, `o_totalprice`, `o_orderkey` in that order.\n",
    "If 2 `order_info` have the same `o_orderdate` then `o_totalprice` will be used to determine the order."
   ]
  },
  {
   "cell_type": "markdown",
   "id": "7458a050-f2e0-48e2-b230-2336537924de",
   "metadata": {},
   "source": [
    "### 1.4. Get the first/last element with row_number() + qualify"
   ]
  },
  {
   "cell_type": "code",
   "execution_count": 8,
   "id": "d4831e7a-81df-4e28-916f-77717b34a702",
   "metadata": {},
   "outputs": [
    {
     "data": {
      "text/html": [
       "<span style=\"None\">Running query in &#x27;duckdb&#x27;</span>"
      ],
      "text/plain": [
       "Running query in 'duckdb'"
      ]
     },
     "metadata": {},
     "output_type": "display_data"
    },
    {
     "data": {
      "text/html": [
       "<table>\n",
       "    <thead>\n",
       "        <tr>\n",
       "            <th>o_custkey</th>\n",
       "            <th>o_orderdate</th>\n",
       "            <th>o_totalprice</th>\n",
       "            <th>rn</th>\n",
       "        </tr>\n",
       "    </thead>\n",
       "    <tbody>\n",
       "        <tr>\n",
       "            <td>4</td>\n",
       "            <td>1998-06-24</td>\n",
       "            <td>50422.56</td>\n",
       "            <td>1</td>\n",
       "        </tr>\n",
       "        <tr>\n",
       "            <td>23</td>\n",
       "            <td>1997-12-14</td>\n",
       "            <td>67702.22</td>\n",
       "            <td>1</td>\n",
       "        </tr>\n",
       "        <tr>\n",
       "            <td>40</td>\n",
       "            <td>1998-04-13</td>\n",
       "            <td>233887.29</td>\n",
       "            <td>1</td>\n",
       "        </tr>\n",
       "        <tr>\n",
       "            <td>43</td>\n",
       "            <td>1998-06-30</td>\n",
       "            <td>189596.87</td>\n",
       "            <td>1</td>\n",
       "        </tr>\n",
       "        <tr>\n",
       "            <td>56</td>\n",
       "            <td>1998-07-29</td>\n",
       "            <td>118293.79</td>\n",
       "            <td>1</td>\n",
       "        </tr>\n",
       "        <tr>\n",
       "            <td>136</td>\n",
       "            <td>1998-07-04</td>\n",
       "            <td>27913.20</td>\n",
       "            <td>1</td>\n",
       "        </tr>\n",
       "        <tr>\n",
       "            <td>193</td>\n",
       "            <td>1997-11-15</td>\n",
       "            <td>285358.60</td>\n",
       "            <td>1</td>\n",
       "        </tr>\n",
       "        <tr>\n",
       "            <td>196</td>\n",
       "            <td>1998-03-21</td>\n",
       "            <td>253530.03</td>\n",
       "            <td>1</td>\n",
       "        </tr>\n",
       "        <tr>\n",
       "            <td>203</td>\n",
       "            <td>1997-07-19</td>\n",
       "            <td>85191.24</td>\n",
       "            <td>1</td>\n",
       "        </tr>\n",
       "        <tr>\n",
       "            <td>206</td>\n",
       "            <td>1998-07-27</td>\n",
       "            <td>133975.94</td>\n",
       "            <td>1</td>\n",
       "        </tr>\n",
       "    </tbody>\n",
       "</table>\n",
       "<span style=\"font-style:italic;text-align:center;\">Truncated to <a href=\"https://jupysql.ploomber.io/en/latest/api/configuration.html#displaylimit\">displaylimit</a> of 10.</span>"
      ],
      "text/plain": [
       "+-----------+-------------+--------------+----+\n",
       "| o_custkey | o_orderdate | o_totalprice | rn |\n",
       "+-----------+-------------+--------------+----+\n",
       "|     4     |  1998-06-24 |   50422.56   | 1  |\n",
       "|     23    |  1997-12-14 |   67702.22   | 1  |\n",
       "|     40    |  1998-04-13 |  233887.29   | 1  |\n",
       "|     43    |  1998-06-30 |  189596.87   | 1  |\n",
       "|     56    |  1998-07-29 |  118293.79   | 1  |\n",
       "|    136    |  1998-07-04 |   27913.20   | 1  |\n",
       "|    193    |  1997-11-15 |  285358.60   | 1  |\n",
       "|    196    |  1998-03-21 |  253530.03   | 1  |\n",
       "|    203    |  1997-07-19 |   85191.24   | 1  |\n",
       "|    206    |  1998-07-27 |  133975.94   | 1  |\n",
       "+-----------+-------------+--------------+----+\n",
       "Truncated to displaylimit of 10."
      ]
     },
     "execution_count": 8,
     "metadata": {},
     "output_type": "execute_result"
    }
   ],
   "source": [
    "%%sql\n",
    "    SELECT \n",
    "        o_custkey, \n",
    "        o_orderdate, \n",
    "        o_totalprice,\n",
    "        ROW_NUMBER() OVER (PARTITION BY o_custkey ORDER BY o_orderdate DESC) AS rn\n",
    "    FROM orders\n",
    "QUALIFY rn = 1;"
   ]
  },
  {
   "cell_type": "markdown",
   "id": "ecad369c-2e91-4052-80db-ee8eafdea9cf",
   "metadata": {},
   "source": [
    "In the above example we are partitioning the data by `o_custkey` and ranking them in descing order of `o_orderdate`."
   ]
  },
  {
   "cell_type": "markdown",
   "id": "2e92819f-4bee-4db1-b5a9-5dd4270da2f3",
   "metadata": {},
   "source": [
    "### 1.5. Check if atleast one or all boolean values are true with BOOL_OR & BOOL_AND respectively"
   ]
  },
  {
   "cell_type": "code",
   "execution_count": 13,
   "id": "dbbd6df3-e08c-4570-b878-e6796b0da9ef",
   "metadata": {},
   "outputs": [
    {
     "data": {
      "text/html": [
       "<span style=\"None\">Running query in &#x27;duckdb&#x27;</span>"
      ],
      "text/plain": [
       "Running query in 'duckdb'"
      ]
     },
     "metadata": {},
     "output_type": "display_data"
    },
    {
     "data": {
      "text/html": [
       "<table>\n",
       "    <thead>\n",
       "        <tr>\n",
       "            <th>o_custkey</th>\n",
       "            <th>has_atleast_one_priority_order</th>\n",
       "            <th>has_all_priority_order</th>\n",
       "        </tr>\n",
       "    </thead>\n",
       "    <tbody>\n",
       "        <tr>\n",
       "            <td>1</td>\n",
       "            <td>False</td>\n",
       "            <td>False</td>\n",
       "        </tr>\n",
       "        <tr>\n",
       "            <td>2</td>\n",
       "            <td>False</td>\n",
       "            <td>False</td>\n",
       "        </tr>\n",
       "        <tr>\n",
       "            <td>4</td>\n",
       "            <td>False</td>\n",
       "            <td>False</td>\n",
       "        </tr>\n",
       "        <tr>\n",
       "            <td>5</td>\n",
       "            <td>False</td>\n",
       "            <td>False</td>\n",
       "        </tr>\n",
       "        <tr>\n",
       "            <td>7</td>\n",
       "            <td>False</td>\n",
       "            <td>False</td>\n",
       "        </tr>\n",
       "        <tr>\n",
       "            <td>8</td>\n",
       "            <td>False</td>\n",
       "            <td>False</td>\n",
       "        </tr>\n",
       "        <tr>\n",
       "            <td>10</td>\n",
       "            <td>False</td>\n",
       "            <td>False</td>\n",
       "        </tr>\n",
       "        <tr>\n",
       "            <td>11</td>\n",
       "            <td>False</td>\n",
       "            <td>False</td>\n",
       "        </tr>\n",
       "        <tr>\n",
       "            <td>13</td>\n",
       "            <td>False</td>\n",
       "            <td>False</td>\n",
       "        </tr>\n",
       "        <tr>\n",
       "            <td>14</td>\n",
       "            <td>False</td>\n",
       "            <td>False</td>\n",
       "        </tr>\n",
       "    </tbody>\n",
       "</table>\n",
       "<span style=\"font-style:italic;text-align:center;\">Truncated to <a href=\"https://jupysql.ploomber.io/en/latest/api/configuration.html#displaylimit\">displaylimit</a> of 10.</span>"
      ],
      "text/plain": [
       "+-----------+--------------------------------+------------------------+\n",
       "| o_custkey | has_atleast_one_priority_order | has_all_priority_order |\n",
       "+-----------+--------------------------------+------------------------+\n",
       "|     1     |             False              |         False          |\n",
       "|     2     |             False              |         False          |\n",
       "|     4     |             False              |         False          |\n",
       "|     5     |             False              |         False          |\n",
       "|     7     |             False              |         False          |\n",
       "|     8     |             False              |         False          |\n",
       "|     10    |             False              |         False          |\n",
       "|     11    |             False              |         False          |\n",
       "|     13    |             False              |         False          |\n",
       "|     14    |             False              |         False          |\n",
       "+-----------+--------------------------------+------------------------+\n",
       "Truncated to displaylimit of 10."
      ]
     },
     "execution_count": 13,
     "metadata": {},
     "output_type": "execute_result"
    }
   ],
   "source": [
    "%%sql\n",
    "SELECT \n",
    "    o_custkey, \n",
    "    BOOL_OR(cast(o_shippriority as boolean)) AS has_atleast_one_priority_order,\n",
    "    BOOL_AND(cast(o_shippriority as boolean)) AS has_all_priority_order\n",
    "FROM orders\n",
    "GROUP BY o_custkey;"
   ]
  },
  {
   "cell_type": "markdown",
   "id": "510aa98a-7e26-44bb-9d5a-4f22d56af147",
   "metadata": {},
   "source": [
    "Explanation:\n",
    "* BOOL_OR(o_ispriority): This aggregate function checks whether **atleast one** of the orders for a customer (o_custkey) has a TRUE value in the o_ispriority column.\n",
    "* BOOL_AND(o_ispriority): This aggregate function checks whether **all** of the orders for a customer (o_custkey) has a TRUE value in the o_ispriority column.\n"
   ]
  },
  {
   "cell_type": "markdown",
   "id": "d54c1b58-9850-48f9-a7e7-1dc07e733b42",
   "metadata": {},
   "source": [
    "### 1.6. Want to select all columns except a few, use EXCLUDE"
   ]
  },
  {
   "cell_type": "code",
   "execution_count": 14,
   "id": "cc7f48b6-39e2-47d3-9aa0-c65fbf08b5e2",
   "metadata": {},
   "outputs": [
    {
     "data": {
      "text/html": [
       "<span style=\"None\">Running query in &#x27;duckdb&#x27;</span>"
      ],
      "text/plain": [
       "Running query in 'duckdb'"
      ]
     },
     "metadata": {},
     "output_type": "display_data"
    },
    {
     "data": {
      "text/html": [
       "<table>\n",
       "    <thead>\n",
       "        <tr>\n",
       "            <th>o_orderkey</th>\n",
       "            <th>o_custkey</th>\n",
       "            <th>o_orderstatus</th>\n",
       "            <th>o_orderpriority</th>\n",
       "            <th>o_clerk</th>\n",
       "            <th>o_shippriority</th>\n",
       "            <th>o_comment</th>\n",
       "        </tr>\n",
       "    </thead>\n",
       "    <tbody>\n",
       "        <tr>\n",
       "            <td>1</td>\n",
       "            <td>370</td>\n",
       "            <td>O</td>\n",
       "            <td>5-LOW</td>\n",
       "            <td>Clerk#000000951</td>\n",
       "            <td>0</td>\n",
       "            <td>ly express platelets. deposits acc</td>\n",
       "        </tr>\n",
       "        <tr>\n",
       "            <td>2</td>\n",
       "            <td>781</td>\n",
       "            <td>O</td>\n",
       "            <td>1-URGENT</td>\n",
       "            <td>Clerk#000000880</td>\n",
       "            <td>0</td>\n",
       "            <td>ve the furiously fluffy dependencies. carefully regular </td>\n",
       "        </tr>\n",
       "        <tr>\n",
       "            <td>3</td>\n",
       "            <td>1234</td>\n",
       "            <td>F</td>\n",
       "            <td>5-LOW</td>\n",
       "            <td>Clerk#000000955</td>\n",
       "            <td>0</td>\n",
       "            <td> after the asymptotes. instructions cajole after the foxes. carefully unu</td>\n",
       "        </tr>\n",
       "        <tr>\n",
       "            <td>4</td>\n",
       "            <td>1369</td>\n",
       "            <td>O</td>\n",
       "            <td>5-LOW</td>\n",
       "            <td>Clerk#000000124</td>\n",
       "            <td>0</td>\n",
       "            <td>st the furiously bold pinto beans. furiously pending theodolites cajol</td>\n",
       "        </tr>\n",
       "        <tr>\n",
       "            <td>5</td>\n",
       "            <td>445</td>\n",
       "            <td>F</td>\n",
       "            <td>5-LOW</td>\n",
       "            <td>Clerk#000000925</td>\n",
       "            <td>0</td>\n",
       "            <td>onic requests. carefully daring foxes among the carefu</td>\n",
       "        </tr>\n",
       "        <tr>\n",
       "            <td>6</td>\n",
       "            <td>557</td>\n",
       "            <td>F</td>\n",
       "            <td>4-NOT SPECIFIED</td>\n",
       "            <td>Clerk#000000058</td>\n",
       "            <td>0</td>\n",
       "            <td>furiously ironic accounts haggle blithely carefully regular de</td>\n",
       "        </tr>\n",
       "        <tr>\n",
       "            <td>7</td>\n",
       "            <td>392</td>\n",
       "            <td>O</td>\n",
       "            <td>2-HIGH</td>\n",
       "            <td>Clerk#000000470</td>\n",
       "            <td>0</td>\n",
       "            <td>, ironic packages wa</td>\n",
       "        </tr>\n",
       "        <tr>\n",
       "            <td>32</td>\n",
       "            <td>1301</td>\n",
       "            <td>O</td>\n",
       "            <td>2-HIGH</td>\n",
       "            <td>Clerk#000000616</td>\n",
       "            <td>0</td>\n",
       "            <td>ly about the carefully express theodolites. ironic, iron</td>\n",
       "        </tr>\n",
       "        <tr>\n",
       "            <td>33</td>\n",
       "            <td>670</td>\n",
       "            <td>F</td>\n",
       "            <td>3-MEDIUM</td>\n",
       "            <td>Clerk#000000409</td>\n",
       "            <td>0</td>\n",
       "            <td> careful, regular courts. unusual</td>\n",
       "        </tr>\n",
       "        <tr>\n",
       "            <td>34</td>\n",
       "            <td>611</td>\n",
       "            <td>O</td>\n",
       "            <td>3-MEDIUM</td>\n",
       "            <td>Clerk#000000223</td>\n",
       "            <td>0</td>\n",
       "            <td>osits according to the ideas are furiously final requests? slyly pe</td>\n",
       "        </tr>\n",
       "    </tbody>\n",
       "</table>\n",
       "<span style=\"font-style:italic;text-align:center;\">Truncated to <a href=\"https://jupysql.ploomber.io/en/latest/api/configuration.html#displaylimit\">displaylimit</a> of 10.</span>"
      ],
      "text/plain": [
       "+------------+-----------+---------------+-----------------+-----------------+----------------+---------------------------------------------------------------------------+\n",
       "| o_orderkey | o_custkey | o_orderstatus | o_orderpriority |     o_clerk     | o_shippriority |                                 o_comment                                 |\n",
       "+------------+-----------+---------------+-----------------+-----------------+----------------+---------------------------------------------------------------------------+\n",
       "|     1      |    370    |       O       |      5-LOW      | Clerk#000000951 |       0        |                     ly express platelets. deposits acc                    |\n",
       "|     2      |    781    |       O       |     1-URGENT    | Clerk#000000880 |       0        |          ve the furiously fluffy dependencies. carefully regular          |\n",
       "|     3      |    1234   |       F       |      5-LOW      | Clerk#000000955 |       0        |  after the asymptotes. instructions cajole after the foxes. carefully unu |\n",
       "|     4      |    1369   |       O       |      5-LOW      | Clerk#000000124 |       0        |   st the furiously bold pinto beans. furiously pending theodolites cajol  |\n",
       "|     5      |    445    |       F       |      5-LOW      | Clerk#000000925 |       0        |           onic requests. carefully daring foxes among the carefu          |\n",
       "|     6      |    557    |       F       | 4-NOT SPECIFIED | Clerk#000000058 |       0        |       furiously ironic accounts haggle blithely carefully regular de      |\n",
       "|     7      |    392    |       O       |      2-HIGH     | Clerk#000000470 |       0        |                            , ironic packages wa                           |\n",
       "|     32     |    1301   |       O       |      2-HIGH     | Clerk#000000616 |       0        |          ly about the carefully express theodolites. ironic, iron         |\n",
       "|     33     |    670    |       F       |     3-MEDIUM    | Clerk#000000409 |       0        |                      careful, regular courts. unusual                     |\n",
       "|     34     |    611    |       O       |     3-MEDIUM    | Clerk#000000223 |       0        |    osits according to the ideas are furiously final requests? slyly pe    |\n",
       "+------------+-----------+---------------+-----------------+-----------------+----------------+---------------------------------------------------------------------------+\n",
       "Truncated to displaylimit of 10."
      ]
     },
     "execution_count": 14,
     "metadata": {},
     "output_type": "execute_result"
    }
   ],
   "source": [
    "%%sql\n",
    "SELECT * EXCLUDE (o_orderdate, o_totalprice)\n",
    "FROM orders;"
   ]
  },
  {
   "cell_type": "markdown",
   "id": "ea832298-716f-4c1c-8835-166d8f911175",
   "metadata": {},
   "source": [
    "SELECT * EXCLUDE (o_orderdate, o_totalprice): This syntax selects all columns from the orders table except the specified columns (o_orderdate and o_totalprice)."
   ]
  },
  {
   "cell_type": "markdown",
   "id": "c2655be2-4a86-482c-9fa3-0a2aaf3d8b6e",
   "metadata": {},
   "source": [
    "### 1.7. Tired of creating a long list of columns from GROUP BY, use GROUP BY ALL"
   ]
  },
  {
   "cell_type": "code",
   "execution_count": 15,
   "id": "3448de47-0c28-4bb3-b578-afda91e0f744",
   "metadata": {},
   "outputs": [
    {
     "data": {
      "text/html": [
       "<span style=\"None\">Running query in &#x27;duckdb&#x27;</span>"
      ],
      "text/plain": [
       "Running query in 'duckdb'"
      ]
     },
     "metadata": {},
     "output_type": "display_data"
    },
    {
     "data": {
      "text/html": [
       "<table>\n",
       "    <thead>\n",
       "        <tr>\n",
       "            <th>o_orderkey</th>\n",
       "            <th>o_custkey</th>\n",
       "            <th>o_orderstatus</th>\n",
       "            <th>total_price</th>\n",
       "        </tr>\n",
       "    </thead>\n",
       "    <tbody>\n",
       "        <tr>\n",
       "            <td>4</td>\n",
       "            <td>1369</td>\n",
       "            <td>O</td>\n",
       "            <td>56000.91</td>\n",
       "        </tr>\n",
       "        <tr>\n",
       "            <td>67</td>\n",
       "            <td>568</td>\n",
       "            <td>O</td>\n",
       "            <td>182481.16</td>\n",
       "        </tr>\n",
       "        <tr>\n",
       "            <td>68</td>\n",
       "            <td>286</td>\n",
       "            <td>O</td>\n",
       "            <td>301968.79</td>\n",
       "        </tr>\n",
       "        <tr>\n",
       "            <td>160</td>\n",
       "            <td>826</td>\n",
       "            <td>O</td>\n",
       "            <td>114742.32</td>\n",
       "        </tr>\n",
       "        <tr>\n",
       "            <td>161</td>\n",
       "            <td>167</td>\n",
       "            <td>F</td>\n",
       "            <td>17668.60</td>\n",
       "        </tr>\n",
       "        <tr>\n",
       "            <td>162</td>\n",
       "            <td>142</td>\n",
       "            <td>O</td>\n",
       "            <td>3553.15</td>\n",
       "        </tr>\n",
       "        <tr>\n",
       "            <td>163</td>\n",
       "            <td>878</td>\n",
       "            <td>O</td>\n",
       "            <td>177809.13</td>\n",
       "        </tr>\n",
       "        <tr>\n",
       "            <td>166</td>\n",
       "            <td>1079</td>\n",
       "            <td>O</td>\n",
       "            <td>158207.39</td>\n",
       "        </tr>\n",
       "        <tr>\n",
       "            <td>193</td>\n",
       "            <td>791</td>\n",
       "            <td>F</td>\n",
       "            <td>80834.26</td>\n",
       "        </tr>\n",
       "        <tr>\n",
       "            <td>227</td>\n",
       "            <td>100</td>\n",
       "            <td>O</td>\n",
       "            <td>69020.68</td>\n",
       "        </tr>\n",
       "    </tbody>\n",
       "</table>\n",
       "<span style=\"font-style:italic;text-align:center;\">Truncated to <a href=\"https://jupysql.ploomber.io/en/latest/api/configuration.html#displaylimit\">displaylimit</a> of 10.</span>"
      ],
      "text/plain": [
       "+------------+-----------+---------------+-------------+\n",
       "| o_orderkey | o_custkey | o_orderstatus | total_price |\n",
       "+------------+-----------+---------------+-------------+\n",
       "|     4      |    1369   |       O       |   56000.91  |\n",
       "|     67     |    568    |       O       |  182481.16  |\n",
       "|     68     |    286    |       O       |  301968.79  |\n",
       "|    160     |    826    |       O       |  114742.32  |\n",
       "|    161     |    167    |       F       |   17668.60  |\n",
       "|    162     |    142    |       O       |   3553.15   |\n",
       "|    163     |    878    |       O       |  177809.13  |\n",
       "|    166     |    1079   |       O       |  158207.39  |\n",
       "|    193     |    791    |       F       |   80834.26  |\n",
       "|    227     |    100    |       O       |   69020.68  |\n",
       "+------------+-----------+---------------+-------------+\n",
       "Truncated to displaylimit of 10."
      ]
     },
     "execution_count": 15,
     "metadata": {},
     "output_type": "execute_result"
    }
   ],
   "source": [
    "%%sql\n",
    "SELECT \n",
    "    o_orderkey, \n",
    "    o_custkey, \n",
    "    o_orderstatus, \n",
    "    SUM(o_totalprice) AS total_price\n",
    "FROM orders\n",
    "GROUP BY ALL;"
   ]
  },
  {
   "cell_type": "markdown",
   "id": "9d0958f6-01c5-4688-b044-d3b17f51ad6b",
   "metadata": {},
   "source": [
    "Explanation:\n",
    "\n",
    "* GROUP BY ALL: This automatically groups by all non-aggregated columns in the SELECT statement (in this case, o_orderkey, o_custkey, and o_orderstatus).\n",
    "* SUM(o_totalprice): This is the aggregated column, so DuckDB will group by the remaining columns without you needing to explicitly list them.\n",
    "\n",
    "Using GROUP BY ALL prevents errors where you might forget to include one or more non-aggregated columns in the GROUP BY clause, making your SQL query more concise and less error-prone.\n",
    "\n",
    "This feature is particularly useful in queries with many columns, where manually writing out all group-by columns can become tedious and prone to mistakes."
   ]
  },
  {
   "cell_type": "markdown",
   "id": "978e73d0-b577-4a9b-b3b7-1569f9e6bd90",
   "metadata": {},
   "source": [
    "### 1.8. Need to count rows only if a certain condition is met? Use COUNT IF"
   ]
  },
  {
   "cell_type": "code",
   "execution_count": 16,
   "id": "2221e8e7-518e-41a9-97f2-f30f681c8cc0",
   "metadata": {},
   "outputs": [
    {
     "data": {
      "text/html": [
       "<span style=\"None\">Running query in &#x27;duckdb&#x27;</span>"
      ],
      "text/plain": [
       "Running query in 'duckdb'"
      ]
     },
     "metadata": {},
     "output_type": "display_data"
    },
    {
     "data": {
      "text/html": [
       "<table>\n",
       "    <thead>\n",
       "        <tr>\n",
       "            <th>o_custkey</th>\n",
       "            <th>high_value_orders</th>\n",
       "            <th>all_orders</th>\n",
       "        </tr>\n",
       "    </thead>\n",
       "    <tbody>\n",
       "        <tr>\n",
       "            <td>1</td>\n",
       "            <td>5</td>\n",
       "            <td>9</td>\n",
       "        </tr>\n",
       "        <tr>\n",
       "            <td>2</td>\n",
       "            <td>6</td>\n",
       "            <td>10</td>\n",
       "        </tr>\n",
       "        <tr>\n",
       "            <td>4</td>\n",
       "            <td>21</td>\n",
       "            <td>31</td>\n",
       "        </tr>\n",
       "        <tr>\n",
       "            <td>5</td>\n",
       "            <td>5</td>\n",
       "            <td>9</td>\n",
       "        </tr>\n",
       "        <tr>\n",
       "            <td>7</td>\n",
       "            <td>18</td>\n",
       "            <td>24</td>\n",
       "        </tr>\n",
       "        <tr>\n",
       "            <td>8</td>\n",
       "            <td>12</td>\n",
       "            <td>14</td>\n",
       "        </tr>\n",
       "        <tr>\n",
       "            <td>10</td>\n",
       "            <td>17</td>\n",
       "            <td>27</td>\n",
       "        </tr>\n",
       "        <tr>\n",
       "            <td>11</td>\n",
       "            <td>4</td>\n",
       "            <td>7</td>\n",
       "        </tr>\n",
       "        <tr>\n",
       "            <td>13</td>\n",
       "            <td>11</td>\n",
       "            <td>21</td>\n",
       "        </tr>\n",
       "        <tr>\n",
       "            <td>14</td>\n",
       "            <td>9</td>\n",
       "            <td>11</td>\n",
       "        </tr>\n",
       "    </tbody>\n",
       "</table>\n",
       "<span style=\"font-style:italic;text-align:center;\">Truncated to <a href=\"https://jupysql.ploomber.io/en/latest/api/configuration.html#displaylimit\">displaylimit</a> of 10.</span>"
      ],
      "text/plain": [
       "+-----------+-------------------+------------+\n",
       "| o_custkey | high_value_orders | all_orders |\n",
       "+-----------+-------------------+------------+\n",
       "|     1     |         5         |     9      |\n",
       "|     2     |         6         |     10     |\n",
       "|     4     |         21        |     31     |\n",
       "|     5     |         5         |     9      |\n",
       "|     7     |         18        |     24     |\n",
       "|     8     |         12        |     14     |\n",
       "|     10    |         17        |     27     |\n",
       "|     11    |         4         |     7      |\n",
       "|     13    |         11        |     21     |\n",
       "|     14    |         9         |     11     |\n",
       "+-----------+-------------------+------------+\n",
       "Truncated to displaylimit of 10."
      ]
     },
     "execution_count": 16,
     "metadata": {},
     "output_type": "execute_result"
    }
   ],
   "source": [
    "%%sql\n",
    "SELECT \n",
    "    o_custkey, \n",
    "    COUNT_IF(o_totalprice > 100000) AS high_value_orders,\n",
    "    COUNT(o_totalprice) as all_orders\n",
    "FROM orders\n",
    "GROUP BY o_custkey;"
   ]
  },
  {
   "cell_type": "markdown",
   "id": "31f3e5e8-9db3-4e2a-981b-8d19c5c7ca34",
   "metadata": {},
   "source": [
    "This query groups by o_custkey and counts the number of orders for each customer where the total price is greater than 100,000.\n",
    "\n",
    "This is a powerful function that simplifies counting conditional occurrences in SQL. Without `COUNT_IF` you'd have to use `SUM(CASE WHEN o_totalprice > 100000 THEN 1 ELSE 0 END)`."
   ]
  },
  {
   "cell_type": "markdown",
   "id": "40d6602a-3a8e-404f-a811-15eef2f77466",
   "metadata": {},
   "source": [
    "### 1.9. Need to concatenate rows of string after GROUP BY? Use STRING_AGG"
   ]
  },
  {
   "cell_type": "code",
   "execution_count": 17,
   "id": "943658ac-ace9-42ac-9dc2-179edbfd3b09",
   "metadata": {},
   "outputs": [
    {
     "data": {
      "text/html": [
       "<span style=\"None\">Running query in &#x27;duckdb&#x27;</span>"
      ],
      "text/plain": [
       "Running query in 'duckdb'"
      ]
     },
     "metadata": {},
     "output_type": "display_data"
    },
    {
     "data": {
      "text/html": [
       "<table>\n",
       "    <thead>\n",
       "        <tr>\n",
       "            <th>customer_names</th>\n",
       "        </tr>\n",
       "    </thead>\n",
       "    <tbody>\n",
       "        <tr>\n",
       "            <td>Customer#000000001, Customer#000000002, Customer#000000003, Customer#000000004, Customer#000000005, Customer#000000006, Customer#000000007, Customer#000000008, Customer#000000009, Customer#000000010, Customer#000000011, Customer#000000012, Customer#000000013, Customer#000000014, Customer#000000015, Customer#000000016, Customer#000000017, Customer#000000018, Customer#000000019, Customer#000000020, Customer#000000021, Customer#000000022, Customer#000000023, Customer#000000024, Customer#000000025, Customer#000000026, Customer#000000027, Customer#000000028, Customer#000000029, Customer#000000030, Customer#000000031, Customer#000000032, Customer#000000033, Customer#000000034, Customer#000000035, Customer#000000036, Customer#000000037, Customer#000000038, Customer#000000039, Customer#000000040, Customer#000000041, Customer#000000042, Customer#000000043, Customer#000000044, Customer#000000045, Customer#000000046, Customer#000000047, Customer#000000048, Customer#000000049, Customer#000000050, Customer#000000051, Customer#000000052, Customer#000000053, Customer#000000054, Customer#000000055, Customer#000000056, Customer#000000057, Customer#000000058, Customer#000000059, Customer#000000060, Customer#000000061, Customer#000000062, Customer#000000063, Customer#000000064, Customer#000000065, Customer#000000066, Customer#000000067, Customer#000000068, Customer#000000069, Customer#000000070, Customer#000000071, Customer#000000072, Customer#000000073, Customer#000000074, Customer#000000075, Customer#000000076, Customer#000000077, Customer#000000078, Customer#000000079, Customer#000000080, Customer#000000081, Customer#000000082, Customer#000000083, Customer#000000084, Customer#000000085, Customer#000000086, Customer#000000087, Customer#000000088, Customer#000000089, Customer#000000090, Customer#000000091, Customer#000000092, Customer#000000093, Customer#000000094, Customer#000000095, Customer#000000096, Customer#000000097, Customer#000000098, Customer#000000099, Customer#000000100, Customer#000000101, Customer#000000102, Customer#000000103, Customer#000000104, Customer#000000105, Customer#000000106, Customer#000000107, Customer#000000108, Customer#000000109, Customer#000000110, Customer#000000111, Customer#000000112, Customer#000000113, Customer#000000114, Customer#000000115, Customer#000000116, Customer#000000117, Customer#000000118, Customer#000000119, Customer#000000120, Customer#000000121, Customer#000000122, Customer#000000123, Customer#000000124, Customer#000000125, Customer#000000126, Customer#000000127, Customer#000000128, Customer#000000129, Customer#000000130, Customer#000000131, Customer#000000132, Customer#000000133, Customer#000000134, Customer#000000135, Customer#000000136, Customer#000000137, Customer#000000138, Customer#000000139, Customer#000000140, Customer#000000141, Customer#000000142, Customer#000000143, Customer#000000144, Customer#000000145, Customer#000000146, Customer#000000147, Customer#000000148, Customer#000000149, Customer#000000150, Customer#000000151, Customer#000000152, Customer#000000153, Customer#000000154, Customer#000000155, Customer#000000156, Customer#000000157, Customer#000000158, Customer#000000159, Customer#000000160, Customer#000000161, Customer#000000162, Customer#000000163, Customer#000000164, Customer#000000165, Customer#000000166, Customer#000000167, Customer#000000168, Customer#000000169, Customer#000000170, Customer#000000171, Customer#000000172, Customer#000000173, Customer#000000174, Customer#000000175, Customer#000000176, Customer#000000177, Customer#000000178, Customer#000000179, Customer#000000180, Customer#000000181, Customer#000000182, Customer#000000183, Customer#000000184, Customer#000000185, Customer#000000186, Customer#000000187, Customer#000000188, Customer#000000189, Customer#000000190, Customer#000000191, Customer#000000192, Customer#000000193, Customer#000000194, Customer#000000195, Customer#000000196, Customer#000000197, Customer#000000198, Customer#000000199, Customer#000000200, Customer#000000201, Customer#000000202, Customer#000000203, Customer#000000204, Customer#000000205, Customer#000000206, Customer#000000207, Customer#000000208, Customer#000000209, Customer#000000210, Customer#000000211, Customer#000000212, Customer#000000213, Customer#000000214, Customer#000000215, Customer#000000216, Customer#000000217, Customer#000000218, Customer#000000219, Customer#000000220, Customer#000000221, Customer#000000222, Customer#000000223, Customer#000000224, Customer#000000225, Customer#000000226, Customer#000000227, Customer#000000228, Customer#000000229, Customer#000000230, Customer#000000231, Customer#000000232, Customer#000000233, Customer#000000234, Customer#000000235, Customer#000000236, Customer#000000237, Customer#000000238, Customer#000000239, Customer#000000240, Customer#000000241, Customer#000000242, Customer#000000243, Customer#000000244, Customer#000000245, Customer#000000246, Customer#000000247, Customer#000000248, Customer#000000249, Customer#000000250, Customer#000000251, Customer#000000252, Customer#000000253, Customer#000000254, Customer#000000255, Customer#000000256, Customer#000000257, Customer#000000258, Customer#000000259, Customer#000000260, Customer#000000261, Customer#000000262, Customer#000000263, Customer#000000264, Customer#000000265, Customer#000000266, Customer#000000267, Customer#000000268, Customer#000000269, Customer#000000270, Customer#000000271, Customer#000000272, Customer#000000273, Customer#000000274, Customer#000000275, Customer#000000276, Customer#000000277, Customer#000000278, Customer#000000279, Customer#000000280, Customer#000000281, Customer#000000282, Customer#000000283, Customer#000000284, Customer#000000285, Customer#000000286, Customer#000000287, Customer#000000288, Customer#000000289, Customer#000000290, Customer#000000291, Customer#000000292, Customer#000000293, Customer#000000294, Customer#000000295, Customer#000000296, Customer#000000297, Customer#000000298, Customer#000000299, Customer#000000300, Customer#000000301, Customer#000000302, Customer#000000303, Customer#000000304, Customer#000000305, Customer#000000306, Customer#000000307, Customer#000000308, Customer#000000309, Customer#000000310, Customer#000000311, Customer#000000312, Customer#000000313, Customer#000000314, Customer#000000315, Customer#000000316, Customer#000000317, Customer#000000318, Customer#000000319, Customer#000000320, Customer#000000321, Customer#000000322, Customer#000000323, Customer#000000324, Customer#000000325, Customer#000000326, Customer#000000327, Customer#000000328, Customer#000000329, Customer#000000330, Customer#000000331, Customer#000000332, Customer#000000333, Customer#000000334, Customer#000000335, Customer#000000336, Customer#000000337, Customer#000000338, Customer#000000339, Customer#000000340, Customer#000000341, Customer#000000342, Customer#000000343, Customer#000000344, Customer#000000345, Customer#000000346, Customer#000000347, Customer#000000348, Customer#000000349, Customer#000000350, Customer#000000351, Customer#000000352, Customer#000000353, Customer#000000354, Customer#000000355, Customer#000000356, Customer#000000357, Customer#000000358, Customer#000000359, Customer#000000360, Customer#000000361, Customer#000000362, Customer#000000363, Customer#000000364, Customer#000000365, Customer#000000366, Customer#000000367, Customer#000000368, Customer#000000369, Customer#000000370, Customer#000000371, Customer#000000372, Customer#000000373, Customer#000000374, Customer#000000375, Customer#000000376, Customer#000000377, Customer#000000378, Customer#000000379, Customer#000000380, Customer#000000381, Customer#000000382, Customer#000000383, Customer#000000384, Customer#000000385, Customer#000000386, Customer#000000387, Customer#000000388, Customer#000000389, Customer#000000390, Customer#000000391, Customer#000000392, Customer#000000393, Customer#000000394, Customer#000000395, Customer#000000396, Customer#000000397, Customer#000000398, Customer#000000399, Customer#000000400, Customer#000000401, Customer#000000402, Customer#000000403, Customer#000000404, Customer#000000405, Customer#000000406, Customer#000000407, Customer#000000408, Customer#000000409, Customer#000000410, Customer#000000411, Customer#000000412, Customer#000000413, Customer#000000414, Customer#000000415, Customer#000000416, Customer#000000417, Customer#000000418, Customer#000000419, Customer#000000420, Customer#000000421, Customer#000000422, Customer#000000423, Customer#000000424, Customer#000000425, Customer#000000426, Customer#000000427, Customer#000000428, Customer#000000429, Customer#000000430, Customer#000000431, Customer#000000432, Customer#000000433, Customer#000000434, Customer#000000435, Customer#000000436, Customer#000000437, Customer#000000438, Customer#000000439, Customer#000000440, Customer#000000441, Customer#000000442, Customer#000000443, Customer#000000444, Customer#000000445, Customer#000000446, Customer#000000447, Customer#000000448, Customer#000000449, Customer#000000450, Customer#000000451, Customer#000000452, Customer#000000453, Customer#000000454, Customer#000000455, Customer#000000456, Customer#000000457, Customer#000000458, Customer#000000459, Customer#000000460, Customer#000000461, Customer#000000462, Customer#000000463, Customer#000000464, Customer#000000465, Customer#000000466, Customer#000000467, Customer#000000468, Customer#000000469, Customer#000000470, Customer#000000471, Customer#000000472, Customer#000000473, Customer#000000474, Customer#000000475, Customer#000000476, Customer#000000477, Customer#000000478, Customer#000000479, Customer#000000480, Customer#000000481, Customer#000000482, Customer#000000483, Customer#000000484, Customer#000000485, Customer#000000486, Customer#000000487, Customer#000000488, Customer#000000489, Customer#000000490, Customer#000000491, Customer#000000492, Customer#000000493, Customer#000000494, Customer#000000495, Customer#000000496, Customer#000000497, Customer#000000498, Customer#000000499, Customer#000000500, Customer#000000501, Customer#000000502, Customer#000000503, Customer#000000504, Customer#000000505, Customer#000000506, Customer#000000507, Customer#000000508, Customer#000000509, Customer#000000510, Customer#000000511, Customer#000000512, Customer#000000513, Customer#000000514, Customer#000000515, Customer#000000516, Customer#000000517, Customer#000000518, Customer#000000519, Customer#000000520, Customer#000000521, Customer#000000522, Customer#000000523, Customer#000000524, Customer#000000525, Customer#000000526, Customer#000000527, Customer#000000528, Customer#000000529, Customer#000000530, Customer#000000531, Customer#000000532, Customer#000000533, Customer#000000534, Customer#000000535, Customer#000000536, Customer#000000537, Customer#000000538, Customer#000000539, Customer#000000540, Customer#000000541, Customer#000000542, Customer#000000543, Customer#000000544, Customer#000000545, Customer#000000546, Customer#000000547, Customer#000000548, Customer#000000549, Customer#000000550, Customer#000000551, Customer#000000552, Customer#000000553, Customer#000000554, Customer#000000555, Customer#000000556, Customer#000000557, Customer#000000558, Customer#000000559, Customer#000000560, Customer#000000561, Customer#000000562, Customer#000000563, Customer#000000564, Customer#000000565, Customer#000000566, Customer#000000567, Customer#000000568, Customer#000000569, Customer#000000570, Customer#000000571, Customer#000000572, Customer#000000573, Customer#000000574, Customer#000000575, Customer#000000576, Customer#000000577, Customer#000000578, Customer#000000579, Customer#000000580, Customer#000000581, Customer#000000582, Customer#000000583, Customer#000000584, Customer#000000585, Customer#000000586, Customer#000000587, Customer#000000588, Customer#000000589, Customer#000000590, Customer#000000591, Customer#000000592, Customer#000000593, Customer#000000594, Customer#000000595, Customer#000000596, Customer#000000597, Customer#000000598, Customer#000000599, Customer#000000600, Customer#000000601, Customer#000000602, Customer#000000603, Customer#000000604, Customer#000000605, Customer#000000606, Customer#000000607, Customer#000000608, Customer#000000609, Customer#000000610, Customer#000000611, Customer#000000612, Customer#000000613, Customer#000000614, Customer#000000615, Customer#000000616, Customer#000000617, Customer#000000618, Customer#000000619, Customer#000000620, Customer#000000621, Customer#000000622, Customer#000000623, Customer#000000624, Customer#000000625, Customer#000000626, Customer#000000627, Customer#000000628, Customer#000000629, Customer#000000630, Customer#000000631, Customer#000000632, Customer#000000633, Customer#000000634, Customer#000000635, Customer#000000636, Customer#000000637, Customer#000000638, Customer#000000639, Customer#000000640, Customer#000000641, Customer#000000642, Customer#000000643, Customer#000000644, Customer#000000645, Customer#000000646, Customer#000000647, Customer#000000648, Customer#000000649, Customer#000000650, Customer#000000651, Customer#000000652, Customer#000000653, Customer#000000654, Customer#000000655, Customer#000000656, Customer#000000657, Customer#000000658, Customer#000000659, Customer#000000660, Customer#000000661, Customer#000000662, Customer#000000663, Customer#000000664, Customer#000000665, Customer#000000666, Customer#000000667, Customer#000000668, Customer#000000669, Customer#000000670, Customer#000000671, Customer#000000672, Customer#000000673, Customer#000000674, Customer#000000675, Customer#000000676, Customer#000000677, Customer#000000678, Customer#000000679, Customer#000000680, Customer#000000681, Customer#000000682, Customer#000000683, Customer#000000684, Customer#000000685, Customer#000000686, Customer#000000687, Customer#000000688, Customer#000000689, Customer#000000690, Customer#000000691, Customer#000000692, Customer#000000693, Customer#000000694, Customer#000000695, Customer#000000696, Customer#000000697, Customer#000000698, Customer#000000699, Customer#000000700, Customer#000000701, Customer#000000702, Customer#000000703, Customer#000000704, Customer#000000705, Customer#000000706, Customer#000000707, Customer#000000708, Customer#000000709, Customer#000000710, Customer#000000711, Customer#000000712, Customer#000000713, Customer#000000714, Customer#000000715, Customer#000000716, Customer#000000717, Customer#000000718, Customer#000000719, Customer#000000720, Customer#000000721, Customer#000000722, Customer#000000723, Customer#000000724, Customer#000000725, Customer#000000726, Customer#000000727, Customer#000000728, Customer#000000729, Customer#000000730, Customer#000000731, Customer#000000732, Customer#000000733, Customer#000000734, Customer#000000735, Customer#000000736, Customer#000000737, Customer#000000738, Customer#000000739, Customer#000000740, Customer#000000741, Customer#000000742, Customer#000000743, Customer#000000744, Customer#000000745, Customer#000000746, Customer#000000747, Customer#000000748, Customer#000000749, Customer#000000750, Customer#000000751, Customer#000000752, Customer#000000753, Customer#000000754, Customer#000000755, Customer#000000756, Customer#000000757, Customer#000000758, Customer#000000759, Customer#000000760, Customer#000000761, Customer#000000762, Customer#000000763, Customer#000000764, Customer#000000765, Customer#000000766, Customer#000000767, Customer#000000768, Customer#000000769, Customer#000000770, Customer#000000771, Customer#000000772, Customer#000000773, Customer#000000774, Customer#000000775, Customer#000000776, Customer#000000777, Customer#000000778, Customer#000000779, Customer#000000780, Customer#000000781, Customer#000000782, Customer#000000783, Customer#000000784, Customer#000000785, Customer#000000786, Customer#000000787, Customer#000000788, Customer#000000789, Customer#000000790, Customer#000000791, Customer#000000792, Customer#000000793, Customer#000000794, Customer#000000795, Customer#000000796, Customer#000000797, Customer#000000798, Customer#000000799, Customer#000000800, Customer#000000801, Customer#000000802, Customer#000000803, Customer#000000804, Customer#000000805, Customer#000000806, Customer#000000807, Customer#000000808, Customer#000000809, Customer#000000810, Customer#000000811, Customer#000000812, Customer#000000813, Customer#000000814, Customer#000000815, Customer#000000816, Customer#000000817, Customer#000000818, Customer#000000819, Customer#000000820, Customer#000000821, Customer#000000822, Customer#000000823, Customer#000000824, Customer#000000825, Customer#000000826, Customer#000000827, Customer#000000828, Customer#000000829, Customer#000000830, Customer#000000831, Customer#000000832, Customer#000000833, Customer#000000834, Customer#000000835, Customer#000000836, Customer#000000837, Customer#000000838, Customer#000000839, Customer#000000840, Customer#000000841, Customer#000000842, Customer#000000843, Customer#000000844, Customer#000000845, Customer#000000846, Customer#000000847, Customer#000000848, Customer#000000849, Customer#000000850, Customer#000000851, Customer#000000852, Customer#000000853, Customer#000000854, Customer#000000855, Customer#000000856, Customer#000000857, Customer#000000858, Customer#000000859, Customer#000000860, Customer#000000861, Customer#000000862, Customer#000000863, Customer#000000864, Customer#000000865, Customer#000000866, Customer#000000867, Customer#000000868, Customer#000000869, Customer#000000870, Customer#000000871, Customer#000000872, Customer#000000873, Customer#000000874, Customer#000000875, Customer#000000876, Customer#000000877, Customer#000000878, Customer#000000879, Customer#000000880, Customer#000000881, Customer#000000882, Customer#000000883, Customer#000000884, Customer#000000885, Customer#000000886, Customer#000000887, Customer#000000888, Customer#000000889, Customer#000000890, Customer#000000891, Customer#000000892, Customer#000000893, Customer#000000894, Customer#000000895, Customer#000000896, Customer#000000897, Customer#000000898, Customer#000000899, Customer#000000900, Customer#000000901, Customer#000000902, Customer#000000903, Customer#000000904, Customer#000000905, Customer#000000906, Customer#000000907, Customer#000000908, Customer#000000909, Customer#000000910, Customer#000000911, Customer#000000912, Customer#000000913, Customer#000000914, Customer#000000915, Customer#000000916, Customer#000000917, Customer#000000918, Customer#000000919, Customer#000000920, Customer#000000921, Customer#000000922, Customer#000000923, Customer#000000924, Customer#000000925, Customer#000000926, Customer#000000927, Customer#000000928, Customer#000000929, Customer#000000930, Customer#000000931, Customer#000000932, Customer#000000933, Customer#000000934, Customer#000000935, Customer#000000936, Customer#000000937, Customer#000000938, Customer#000000939, Customer#000000940, Customer#000000941, Customer#000000942, Customer#000000943, Customer#000000944, Customer#000000945, Customer#000000946, Customer#000000947, Customer#000000948, Customer#000000949, Customer#000000950, Customer#000000951, Customer#000000952, Customer#000000953, Customer#000000954, Customer#000000955, Customer#000000956, Customer#000000957, Customer#000000958, Customer#000000959, Customer#000000960, Customer#000000961, Customer#000000962, Customer#000000963, Customer#000000964, Customer#000000965, Customer#000000966, Customer#000000967, Customer#000000968, Customer#000000969, Customer#000000970, Customer#000000971, Customer#000000972, Customer#000000973, Customer#000000974, Customer#000000975, Customer#000000976, Customer#000000977, Customer#000000978, Customer#000000979, Customer#000000980, Customer#000000981, Customer#000000982, Customer#000000983, Customer#000000984, Customer#000000985, Customer#000000986, Customer#000000987, Customer#000000988, Customer#000000989, Customer#000000990, Customer#000000991, Customer#000000992, Customer#000000993, Customer#000000994, Customer#000000995, Customer#000000996, Customer#000000997, Customer#000000998, Customer#000000999, Customer#000001000, Customer#000001001, Customer#000001002, Customer#000001003, Customer#000001004, Customer#000001005, Customer#000001006, Customer#000001007, Customer#000001008, Customer#000001009, Customer#000001010, Customer#000001011, Customer#000001012, Customer#000001013, Customer#000001014, Customer#000001015, Customer#000001016, Customer#000001017, Customer#000001018, Customer#000001019, Customer#000001020, Customer#000001021, Customer#000001022, Customer#000001023, Customer#000001024, Customer#000001025, Customer#000001026, Customer#000001027, Customer#000001028, Customer#000001029, Customer#000001030, Customer#000001031, Customer#000001032, Customer#000001033, Customer#000001034, Customer#000001035, Customer#000001036, Customer#000001037, Customer#000001038, Customer#000001039, Customer#000001040, Customer#000001041, Customer#000001042, Customer#000001043, Customer#000001044, Customer#000001045, Customer#000001046, Customer#000001047, Customer#000001048, Customer#000001049, Customer#000001050, Customer#000001051, Customer#000001052, Customer#000001053, Customer#000001054, Customer#000001055, Customer#000001056, Customer#000001057, Customer#000001058, Customer#000001059, Customer#000001060, Customer#000001061, Customer#000001062, Customer#000001063, Customer#000001064, Customer#000001065, Customer#000001066, Customer#000001067, Customer#000001068, Customer#000001069, Customer#000001070, Customer#000001071, Customer#000001072, Customer#000001073, Customer#000001074, Customer#000001075, Customer#000001076, Customer#000001077, Customer#000001078, Customer#000001079, Customer#000001080, Customer#000001081, Customer#000001082, Customer#000001083, Customer#000001084, Customer#000001085, Customer#000001086, Customer#000001087, Customer#000001088, Customer#000001089, Customer#000001090, Customer#000001091, Customer#000001092, Customer#000001093, Customer#000001094, Customer#000001095, Customer#000001096, Customer#000001097, Customer#000001098, Customer#000001099, Customer#000001100, Customer#000001101, Customer#000001102, Customer#000001103, Customer#000001104, Customer#000001105, Customer#000001106, Customer#000001107, Customer#000001108, Customer#000001109, Customer#000001110, Customer#000001111, Customer#000001112, Customer#000001113, Customer#000001114, Customer#000001115, Customer#000001116, Customer#000001117, Customer#000001118, Customer#000001119, Customer#000001120, Customer#000001121, Customer#000001122, Customer#000001123, Customer#000001124, Customer#000001125, Customer#000001126, Customer#000001127, Customer#000001128, Customer#000001129, Customer#000001130, Customer#000001131, Customer#000001132, Customer#000001133, Customer#000001134, Customer#000001135, Customer#000001136, Customer#000001137, Customer#000001138, Customer#000001139, Customer#000001140, Customer#000001141, Customer#000001142, Customer#000001143, Customer#000001144, Customer#000001145, Customer#000001146, Customer#000001147, Customer#000001148, Customer#000001149, Customer#000001150, Customer#000001151, Customer#000001152, Customer#000001153, Customer#000001154, Customer#000001155, Customer#000001156, Customer#000001157, Customer#000001158, Customer#000001159, Customer#000001160, Customer#000001161, Customer#000001162, Customer#000001163, Customer#000001164, Customer#000001165, Customer#000001166, Customer#000001167, Customer#000001168, Customer#000001169, Customer#000001170, Customer#000001171, Customer#000001172, Customer#000001173, Customer#000001174, Customer#000001175, Customer#000001176, Customer#000001177, Customer#000001178, Customer#000001179, Customer#000001180, Customer#000001181, Customer#000001182, Customer#000001183, Customer#000001184, Customer#000001185, Customer#000001186, Customer#000001187, Customer#000001188, Customer#000001189, Customer#000001190, Customer#000001191, Customer#000001192, Customer#000001193, Customer#000001194, Customer#000001195, Customer#000001196, Customer#000001197, Customer#000001198, Customer#000001199, Customer#000001200, Customer#000001201, Customer#000001202, Customer#000001203, Customer#000001204, Customer#000001205, Customer#000001206, Customer#000001207, Customer#000001208, Customer#000001209, Customer#000001210, Customer#000001211, Customer#000001212, Customer#000001213, Customer#000001214, Customer#000001215, Customer#000001216, Customer#000001217, Customer#000001218, Customer#000001219, Customer#000001220, Customer#000001221, Customer#000001222, Customer#000001223, Customer#000001224, Customer#000001225, Customer#000001226, Customer#000001227, Customer#000001228, Customer#000001229, Customer#000001230, Customer#000001231, Customer#000001232, Customer#000001233, Customer#000001234, Customer#000001235, Customer#000001236, Customer#000001237, Customer#000001238, Customer#000001239, Customer#000001240, Customer#000001241, Customer#000001242, Customer#000001243, Customer#000001244, Customer#000001245, Customer#000001246, Customer#000001247, Customer#000001248, Customer#000001249, Customer#000001250, Customer#000001251, Customer#000001252, Customer#000001253, Customer#000001254, Customer#000001255, Customer#000001256, Customer#000001257, Customer#000001258, Customer#000001259, Customer#000001260, Customer#000001261, Customer#000001262, Customer#000001263, Customer#000001264, Customer#000001265, Customer#000001266, Customer#000001267, Customer#000001268, Customer#000001269, Customer#000001270, Customer#000001271, Customer#000001272, Customer#000001273, Customer#000001274, Customer#000001275, Customer#000001276, Customer#000001277, Customer#000001278, Customer#000001279, Customer#000001280, Customer#000001281, Customer#000001282, Customer#000001283, Customer#000001284, Customer#000001285, Customer#000001286, Customer#000001287, Customer#000001288, Customer#000001289, Customer#000001290, Customer#000001291, Customer#000001292, Customer#000001293, Customer#000001294, Customer#000001295, Customer#000001296, Customer#000001297, Customer#000001298, Customer#000001299, Customer#000001300, Customer#000001301, Customer#000001302, Customer#000001303, Customer#000001304, Customer#000001305, Customer#000001306, Customer#000001307, Customer#000001308, Customer#000001309, Customer#000001310, Customer#000001311, Customer#000001312, Customer#000001313, Customer#000001314, Customer#000001315, Customer#000001316, Customer#000001317, Customer#000001318, Customer#000001319, Customer#000001320, Customer#000001321, Customer#000001322, Customer#000001323, Customer#000001324, Customer#000001325, Customer#000001326, Customer#000001327, Customer#000001328, Customer#000001329, Customer#000001330, Customer#000001331, Customer#000001332, Customer#000001333, Customer#000001334, Customer#000001335, Customer#000001336, Customer#000001337, Customer#000001338, Customer#000001339, Customer#000001340, Customer#000001341, Customer#000001342, Customer#000001343, Customer#000001344, Customer#000001345, Customer#000001346, Customer#000001347, Customer#000001348, Customer#000001349, Customer#000001350, Customer#000001351, Customer#000001352, Customer#000001353, Customer#000001354, Customer#000001355, Customer#000001356, Customer#000001357, Customer#000001358, Customer#000001359, Customer#000001360, Customer#000001361, Customer#000001362, Customer#000001363, Customer#000001364, Customer#000001365, Customer#000001366, Customer#000001367, Customer#000001368, Customer#000001369, Customer#000001370, Customer#000001371, Customer#000001372, Customer#000001373, Customer#000001374, Customer#000001375, Customer#000001376, Customer#000001377, Customer#000001378, Customer#000001379, Customer#000001380, Customer#000001381, Customer#000001382, Customer#000001383, Customer#000001384, Customer#000001385, Customer#000001386, Customer#000001387, Customer#000001388, Customer#000001389, Customer#000001390, Customer#000001391, Customer#000001392, Customer#000001393, Customer#000001394, Customer#000001395, Customer#000001396, Customer#000001397, Customer#000001398, Customer#000001399, Customer#000001400, Customer#000001401, Customer#000001402, Customer#000001403, Customer#000001404, Customer#000001405, Customer#000001406, Customer#000001407, Customer#000001408, Customer#000001409, Customer#000001410, Customer#000001411, Customer#000001412, Customer#000001413, Customer#000001414, Customer#000001415, Customer#000001416, Customer#000001417, Customer#000001418, Customer#000001419, Customer#000001420, Customer#000001421, Customer#000001422, Customer#000001423, Customer#000001424, Customer#000001425, Customer#000001426, Customer#000001427, Customer#000001428, Customer#000001429, Customer#000001430, Customer#000001431, Customer#000001432, Customer#000001433, Customer#000001434, Customer#000001435, Customer#000001436, Customer#000001437, Customer#000001438, Customer#000001439, Customer#000001440, Customer#000001441, Customer#000001442, Customer#000001443, Customer#000001444, Customer#000001445, Customer#000001446, Customer#000001447, Customer#000001448, Customer#000001449, Customer#000001450, Customer#000001451, Customer#000001452, Customer#000001453, Customer#000001454, Customer#000001455, Customer#000001456, Customer#000001457, Customer#000001458, Customer#000001459, Customer#000001460, Customer#000001461, Customer#000001462, Customer#000001463, Customer#000001464, Customer#000001465, Customer#000001466, Customer#000001467, Customer#000001468, Customer#000001469, Customer#000001470, Customer#000001471, Customer#000001472, Customer#000001473, Customer#000001474, Customer#000001475, Customer#000001476, Customer#000001477, Customer#000001478, Customer#000001479, Customer#000001480, Customer#000001481, Customer#000001482, Customer#000001483, Customer#000001484, Customer#000001485, Customer#000001486, Customer#000001487, Customer#000001488, Customer#000001489, Customer#000001490, Customer#000001491, Customer#000001492, Customer#000001493, Customer#000001494, Customer#000001495, Customer#000001496, Customer#000001497, Customer#000001498, Customer#000001499, Customer#000001500</td>\n",
       "        </tr>\n",
       "    </tbody>\n",
       "</table>"
      ],
      "text/plain": [
       "+------------------------------------------------------------------------------------------------------------------------------------------------------------------------------------------------------------------------------------------------------------------------------------------------------------------------------------------------------------------------------------------------------------------------------------------------------------------------------------------------------------------------------------------------------------------------------------------------------------------------------------------------------------------------------------------------------------------------------------------------------------------------------------------------------------------------------------------------------------------------------------------------------------------------------------------------------------------------------------------------------------------------------------------------------------------------------------------------------------------------------------------------------------------------------------------------------------------------------------------------------------------------------------------------------------------------------------------------------------------------------------------------------------------------------------------------------------------------------------------------------------------------------------------------------------------------------------------------------------------------------------------------------------------------------------------------------------------------------------------------------------------------------------------------------------------------------------------------------------------------------------------------------------------------------------------------------------------------------------------------------------------------------------------------------------------------------------------------------------------------------------------------------------------------------------------------------------------------------------------------------------------------------------------------------------------------------------------------------------------------------------------------------------------------------------------------------------------------------------------------------------------------------------------------------------------------------------------------------------------------------------------------------------------------------------------------------------------------------------------------------------------------------------------------------------------------------------------------------------------------------------------------------------------------------------------------------------------------------------------------------------------------------------------------------------------------------------------------------------------------------------------------------------------------------------------------------------------------------------------------------------------------------------------------------------------------------------------------------------------------------------------------------------------------------------------------------------------------------------------------------------------------------------------------------------------------------------------------------------------------------------------------------------------------------------------------------------------------------------------------------------------------------------------------------------------------------------------------------------------------------------------------------------------------------------------------------------------------------------------------------------------------------------------------------------------------------------------------------------------------------------------------------------------------------------------------------------------------------------------------------------------------------------------------------------------------------------------------------------------------------------------------------------------------------------------------------------------------------------------------------------------------------------------------------------------------------------------------------------------------------------------------------------------------------------------------------------------------------------------------------------------------------------------------------------------------------------------------------------------------------------------------------------------------------------------------------------------------------------------------------------------------------------------------------------------------------------------------------------------------------------------------------------------------------------------------------------------------------------------------------------------------------------------------------------------------------------------------------------------------------------------------------------------------------------------------------------------------------------------------------------------------------------------------------------------------------------------------------------------------------------------------------------------------------------------------------------------------------------------------------------------------------------------------------------------------------------------------------------------------------------------------------------------------------------------------------------------------------------------------------------------------------------------------------------------------------------------------------------------------------------------------------------------------------------------------------------------------------------------------------------------------------------------------------------------------------------------------------------------------------------------------------------------------------------------------------------------------------------------------------------------------------------------------------------------------------------------------------------------------------------------------------------------------------------------------------------------------------------------------------------------------------------------------------------------------------------------------------------------------------------------------------------------------------------------------------------------------------------------------------------------------------------------------------------------------------------------------------------------------------------------------------------------------------------------------------------------------------------------------------------------------------------------------------------------------------------------------------------------------------------------------------------------------------------------------------------------------------------------------------------------------------------------------------------------------------------------------------------------------------------------------------------------------------------------------------------------------------------------------------------------------------------------------------------------------------------------------------------------------------------------------------------------------------------------------------------------------------------------------------------------------------------------------------------------------------------------------------------------------------------------------------------------------------------------------------------------------------------------------------------------------------------------------------------------------------------------------------------------------------------------------------------------------------------------------------------------------------------------------------------------------------------------------------------------------------------------------------------------------------------------------------------------------------------------------------------------------------------------------------------------------------------------------------------------------------------------------------------------------------------------------------------------------------------------------------------------------------------------------------------------------------------------------------------------------------------------------------------------------------------------------------------------------------------------------------------------------------------------------------------------------------------------------------------------------------------------------------------------------------------------------------------------------------------------------------------------------------------------------------------------------------------------------------------------------------------------------------------------------------------------------------------------------------------------------------------------------------------------------------------------------------------------------------------------------------------------------------------------------------------------------------------------------------------------------------------------------------------------------------------------------------------------------------------------------------------------------------------------------------------------------------------------------------------------------------------------------------------------------------------------------------------------------------------------------------------------------------------------------------------------------------------------------------------------------------------------------------------------------------------------------------------------------------------------------------------------------------------------------------------------------------------------------------------------------------------------------------------------------------------------------------------------------------------------------------------------------------------------------------------------------------------------------------------------------------------------------------------------------------------------------------------------------------------------------------------------------------------------------------------------------------------------------------------------------------------------------------------------------------------------------------------------------------------------------------------------------------------------------------------------------------------------------------------------------------------------------------------------------------------------------------------------------------------------------------------------------------------------------------------------------------------------------------------------------------------------------------------------------------------------------------------------------------------------------------------------------------------------------------------------------------------------------------------------------------------------------------------------------------------------------------------------------------------------------------------------------------------------------------------------------------------------------------------------------------------------------------------------------------------------------------------------------------------------------------------------------------------------------------------------------------------------------------------------------------------------------------------------------------------------------------------------------------------------------------------------------------------------------------------------------------------------------------------------------------------------------------------------------------------------------------------------------------------------------------------------------------------------------------------------------------------------------------------------------------------------------------------------------------------------------------------------------------------------------------------------------------------------------------------------------------------------------------------------------------------------------------------------------------------------------------------------------------------------------------------------------------------------------------------------------------------------------------------------------------------------------------------------------------------------------------------------------------------------------------------------------------------------------------------------------------------------------------------------------------------------------------------------------------------------------------------------------------------------------------------------------------------------------------------------------------------------------------------------------------------------------------------------------------------------------------------------------------------------------------------------------------------------------------------------------------------------------------------------------------------------------------------------------------------------------------------------------------------------------------------------------------------------------------------------------------------------------------------------------------------------------------------------------------------------------------------------------------------------------------------------------------------------------------------------------------------------------------------------------------------------------------------------------------------------------------------------------------------------------------------------------------------------------------------------------------------------------------------------------------------------------------------------------------------------------------------------------------------------------------------------------------------------------------------------------------------------------------------------------------------------------------------------------------------------------------------------------------------------------------------------------------------------------------------------------------------------------------------------------------------------------------------------------------------------------------------------------------------------------------------------------------------------------------------------------------------------------------------------------------------------------------------------------------------------------------------------------------------------------------------------------------------------------------------------------------------------------------------------------------------------------------------------------------------------------------------------------------------------------------------------------------------------------------------------------------------------------------------------------------------------------------------------------------------------------------------------------------------------------------------------------------------------------------------------------------------------------------------------------------------------------------------------------------------------------------------------------------------------------------------------------------------------------------------------------------------------------------------------------------------------------------------------------------------------------------------------------------------------------------------------------------------------------------------------------------------------------------------------------------------------------------------------------------------------------------------------------------------------------------------------------------------------------------------------------------------------------------------------------------------------------------------------------------------------------------------------------------------------------------------------------------------------------------------------------------------------------------------------------------------------------------------------------------------------------------------------------------------------------------------------------------------------------------------------------------------------------------------------------------------------------------------------------------------------------------------------------------------------------------------------------------------------------------------------------------------------------------------------------------------------------------------------------------------------------------------------------------------------------------------------------------------------------------------------------------------------------------------------------------------------------------------------------------------------------------------------------------------------------------------------------------------------------------------------------------------------------------------------------------------------------------------------------------------------------------------------------------------------------------------------------------------------------------------------------------------------------------------------------------------------------------------------------------------------------------------------------------------------------------------------------------------------------------------------------------------------------------------------------------------------------------------------------------------------------------------------------------------------------------------------------------------------------------------------------------------------------------------------------------------------------------------------------------------------------------------------------------------------------------------------------------------------------------------------------------------------------------------------------------------------------------------------------------------------------------------------------------------------------------------------------------------------------------------------------------------------------------------------------------------------------------------------------------------------------------------------------------------------------------------------------------------------------------------------------------------------------------------------------------------------------------------------------------------------------------------------------------------------------------------------------------------------------------------------------------------------------------------------------------------------------------------------------------------------------------------------------------------------------------------------------------------------------------------------------------------------------------------------------------------------------------------------------------------------------------------------------------------------------------------------------------------------------------------------------------------------------------------------------------------------------------------------------------------------------------------------------------------------------------------------------------------------------------------------------------------------------------------------------------------------------------------------------------------------------------------------------------------------------------------------------------------------------------------------------------------------------------------------------------------------------------------------------------------------------------------------------------------------------------------------------------------------------------------------------------------------------------------------------------------------------------------------------------------------------------------------------------------------------------------------------------------------------------------------------------------------------------------------------------------------------------------------------------------------------------------------------------------------------------------------------------------------------------------------------------------------------------------------------------------------------------------------------------------------------------------------------------------------------------------------------------------------------------------------------------------------------------------------------------------------------------------------------------------------------------------------------------------------------------------------------------------------------------------------------------------------------------------------------------------------------------------------------------------------------------------------------------------------------------------------------------------------------------------------------------------------------------------------------------------------------------------------------------------------------------------------------------------------------------------------------------------------------------------------------------------------------------------------------------------------------------------------------------------------------------------------------------------------------------------------------------------------------------------------------------------------------------------------------------------------------------------------------------------------------------------------------------------------------------------------------------------------------------------------------------------------------------------------------------------------------------------------------------------------------------------------------------------------------------------------------------------------------------------------------------------------------------------------------------------------------------------------------------------------------------------------------------------------------------------------------------------------------------------------------------------------------------------------------------------------------------------------------------------------------------------------------------------------------------------------------------------------------------------------------------------------------------------------------------------------------------------------------------------------------------------------------------------------------------------------------------------------------------------------------------------------------------------------------------------------------------------------------------------------------------------------------------------------------------------------------------------------------------------------------------------------------------------------------------------------------------------------------------------------------------------------------------------------------------------------------------------------------------------------------------------------------------------------------------------------------------------------------------------------------------------------------------------------------------------------------------------------------------------------------------------------------------------------------------------------------------------------------------------------------------------------------------------------------------------------------------------------------------------------------------------------------------------------------------------------------------------------------------------------------------------------------------------------------------------------------------------------------------------------------------------------------------------------------------------------------------------------------------------------------------------------------------------------------------------------------------------------------------------------------------------------------------------------------------------------------------------------------------------------------------------------------------------------------------------------------------------------------------------------------------------------------------------------------------------------------------------------------------------------------------------------------------------------------------------------------------------------------------------------------------------------------------------------------------------------------------------------------------------------------------------------------------------------------------------------------------------------------------------------------------------------------------------------------------------------------------------------------------------------------------------------------------------------------------------------------------------------------------------------------------------------------------------------------------------------------------------------------------------------------------------------------------------------------------------------------------------------------------------------------------------------------------------------------------------------------------------------------------------------------------------------------------------------------------------------------------------------------------------------------------------------------------------------------------------------------------------------------------------------------------------------------------------------------------------------------------------------------------------------------------------------------------------------------------------------------------------------------------------------------------------------------------------------------------------------------------------------------------------------------------------------------------------------------------------------------------------------------------------------------------------------------------------------------------------------------------------------------------------------------------------------------------------------------------------------------------------------------------------------------------------------------------------------------------------------------------------------------------------------------------------------------------------------------------------------------------------------------------------------------------------------------------------------------------------------------------------------------------------------------------------------------------------------------------------------------------------------------------------------------------------------------------------------------------------------------------------------------------------------------------------------------------------------------------------------------------------------------------------------------------------------------------------------------------------------------------------------------------------------------------------------------------------------------------------------------------------------------------------------------------------------------------------------------------------------------------------------------------------------------------------------------------------------------------------------------------------------------------------------------------------------------------------------------------------------------------------------------------------------------------------------------------------------------------------------------------------------------------------------------------------------------------------------------------------------------------------------------------------------------------------------------------------------------------------------------------------------------------------------------------------------------------------------------------------------------------------------------------------------------------------------------------------------------------------------------------------------------------------------------------------------------------------------------------------------------------------------------------------------------------------------------------------------------------------------------------------------------------------------------------------------------------------------------------------------------------------------------------------------------------------------------------------------------------------------------------------------------------------------------------------------------------------------------------------------------------------------------------------------------------------------------------------------------------------------------------------------------------------------------------------------------------------------------------------------------------------------------------------------------------------------------------------------------------------------------------------------------+\n",
       "|                                                                                                                                                                                                                                                                                                                                                                                                                                                                                                                                                                                                                                                                                                                                                                                                                                                                                                                                                                                                                                                                                                                                                                                                                                                                                                                                                                                                                                                                                                                                                                                                                                                                                                                                                                                                                                                                                                                                                                                                                                                                                                                                                                                                                                                                                                                                                                                                                                                                                                                                                                                                                                                                                                                                                                                                                                                                                                                                                                                                                                                                                                                                                                                                                                                                                                                                                                                                                                                                                                                                                                                                                                                                                                                                                                                                                                                                                                                                                                                                                                                                                                                                                                                                                                                                                                                                                                                                                                                                                                                                                                                                                                                                                                                                                                                                                                                                                                                                                                                                                                                                                                                                                                                                                                                                                                                                                                                                                                                                                                                                                                                                                                                                                                                                                                                                                                                                                                                                                                                                                                                                                                                                                                                                                                                                                                                                                                                                                                                                                                                                                                                                                                                                                                                                                                                                                                                                                                                                                                                                                                                                                                                                                                                                                                                                                                                                                                                                                                                                                                                                                                                                                                                                                                                                                                                                                                                                                                                                                                                                                                                                                                                                                                                                                                                                                                                                                                                                                                                                                                                                                                                                                                                                                                                                                                                                                                                                                                                                                                                                                                                                                                                                                                                                                                                                                                                                                                                                                                                                                                                                                                                                                                                                                                                                                                                                                                                                                                                                                                                                                                                                                                                                                                                                                                                                                                                                                                                                                                                                                                                                                                                                                                                                                                                                                                                                                                                                                                                                                                                                                                                                                                                                                                                                                                                                                                                                                                                                                                                                                                                                                                                                                                                                                                                                                                                                                                                                                                                                                                                                                                                                                                                                                                                                                                                                                                                                                                                                                                                                                                                                                                                                                                                                                                                                                                                                                                                                                                                                                                                                                                                                                                                                                                                                                                                                                                                                                                                                                                                                                                                                                                                                                                                                                                                                                                                                                                                                                                                                                                                                                                                                                                                                                                                                                                                                                                                                                                                                                                                                                                                                                                                                                                                                                                                                                                                                                                                                                                                                                                                                                                                                                                                                                                                                                                                                                                                                                                                                                                                                                                                                                                                                                 customer_names                                                                                                                                                                                                                                                                                                                                                                                                                                                                                                                                                                                                                                                                                                                                                                                                                                                                                                                                                                                                                                                                                                                                                                                                                                                                                                                                                                                                                                                                                                                                                                                                                                                                                                                                                                                                                                                                                                                                                                                                                                                                                                                                                                                                                                                                                                                                                                                                                                                                                                                                                                                                                                                                                                                                                                                                                                                                                                                                                                                                                                                                                                                                                                                                                                                                                                                                                                                                                                                                                                                                                                                                                                                                                                                                                                                                                                                                                                                                                                                                                                                                                                                                                                                                                                                                                                                                                                                                                                                                                                                                                                                                                                                                                                                                                                                                                                                                                                                                                                                                                                                                                                                                                                                                                                                                                                                                                                                                                                                                                                                                                                                                                                                                                                                                                                                                                                                                                                                                                                                                                                                                                                                                                                                                                                                                                                                                                                                                                                                                                                                                                                                                                                                                                                                                                                                                                                                                                                                                                                                                                                                                                                                                                                                                                                                                                                                                                                                                                                                                                                                                                                                                                                                                                                                                                                                                                                                                                                                                                                                                                                                                                                                                                                                                                                                                                                                                                                                                                                                                                                                                                                                                                                                                                                                                                                                                                                                                                                                                                                                                                                                                                                                                                                                                                                                                                                                                                                                                                                                                                                                                                                                                                                                                                                                                                                                                                                                                                                                                                                                                                                                                                                                                                                                                                                                                                                                                                                                                                                                                                                                                                                                                                                                                                                                                                                                                                                                                                                                                                                                                                                                                                                                                                                                                                                                                                                                                                                                                                                                                                                                                                                                                                                                                                                                                                                                                                                                                                                                                                                                                                                                                                                                                                                                                                                                                                                                                                                                                                                                                                                                                                                                                                                                                                                                                                                                                                                                                                                                                                                                                                                                                                                                                                                                                                                                                                                                                                                                                                                                                                                                                                                                                                                                                                                                                                                                                                                                                                                                                                                                                                                                                                                                                                                                                                                                                                                                                                                                                                                                                                                                                                                                                                                                                                                                                                                                                                                                                                                                                                                                                                                                                                                                                                                                                                                                                                                                                                                                                                                                                                                                                                                                                                 |\n",
       "+------------------------------------------------------------------------------------------------------------------------------------------------------------------------------------------------------------------------------------------------------------------------------------------------------------------------------------------------------------------------------------------------------------------------------------------------------------------------------------------------------------------------------------------------------------------------------------------------------------------------------------------------------------------------------------------------------------------------------------------------------------------------------------------------------------------------------------------------------------------------------------------------------------------------------------------------------------------------------------------------------------------------------------------------------------------------------------------------------------------------------------------------------------------------------------------------------------------------------------------------------------------------------------------------------------------------------------------------------------------------------------------------------------------------------------------------------------------------------------------------------------------------------------------------------------------------------------------------------------------------------------------------------------------------------------------------------------------------------------------------------------------------------------------------------------------------------------------------------------------------------------------------------------------------------------------------------------------------------------------------------------------------------------------------------------------------------------------------------------------------------------------------------------------------------------------------------------------------------------------------------------------------------------------------------------------------------------------------------------------------------------------------------------------------------------------------------------------------------------------------------------------------------------------------------------------------------------------------------------------------------------------------------------------------------------------------------------------------------------------------------------------------------------------------------------------------------------------------------------------------------------------------------------------------------------------------------------------------------------------------------------------------------------------------------------------------------------------------------------------------------------------------------------------------------------------------------------------------------------------------------------------------------------------------------------------------------------------------------------------------------------------------------------------------------------------------------------------------------------------------------------------------------------------------------------------------------------------------------------------------------------------------------------------------------------------------------------------------------------------------------------------------------------------------------------------------------------------------------------------------------------------------------------------------------------------------------------------------------------------------------------------------------------------------------------------------------------------------------------------------------------------------------------------------------------------------------------------------------------------------------------------------------------------------------------------------------------------------------------------------------------------------------------------------------------------------------------------------------------------------------------------------------------------------------------------------------------------------------------------------------------------------------------------------------------------------------------------------------------------------------------------------------------------------------------------------------------------------------------------------------------------------------------------------------------------------------------------------------------------------------------------------------------------------------------------------------------------------------------------------------------------------------------------------------------------------------------------------------------------------------------------------------------------------------------------------------------------------------------------------------------------------------------------------------------------------------------------------------------------------------------------------------------------------------------------------------------------------------------------------------------------------------------------------------------------------------------------------------------------------------------------------------------------------------------------------------------------------------------------------------------------------------------------------------------------------------------------------------------------------------------------------------------------------------------------------------------------------------------------------------------------------------------------------------------------------------------------------------------------------------------------------------------------------------------------------------------------------------------------------------------------------------------------------------------------------------------------------------------------------------------------------------------------------------------------------------------------------------------------------------------------------------------------------------------------------------------------------------------------------------------------------------------------------------------------------------------------------------------------------------------------------------------------------------------------------------------------------------------------------------------------------------------------------------------------------------------------------------------------------------------------------------------------------------------------------------------------------------------------------------------------------------------------------------------------------------------------------------------------------------------------------------------------------------------------------------------------------------------------------------------------------------------------------------------------------------------------------------------------------------------------------------------------------------------------------------------------------------------------------------------------------------------------------------------------------------------------------------------------------------------------------------------------------------------------------------------------------------------------------------------------------------------------------------------------------------------------------------------------------------------------------------------------------------------------------------------------------------------------------------------------------------------------------------------------------------------------------------------------------------------------------------------------------------------------------------------------------------------------------------------------------------------------------------------------------------------------------------------------------------------------------------------------------------------------------------------------------------------------------------------------------------------------------------------------------------------------------------------------------------------------------------------------------------------------------------------------------------------------------------------------------------------------------------------------------------------------------------------------------------------------------------------------------------------------------------------------------------------------------------------------------------------------------------------------------------------------------------------------------------------------------------------------------------------------------------------------------------------------------------------------------------------------------------------------------------------------------------------------------------------------------------------------------------------------------------------------------------------------------------------------------------------------------------------------------------------------------------------------------------------------------------------------------------------------------------------------------------------------------------------------------------------------------------------------------------------------------------------------------------------------------------------------------------------------------------------------------------------------------------------------------------------------------------------------------------------------------------------------------------------------------------------------------------------------------------------------------------------------------------------------------------------------------------------------------------------------------------------------------------------------------------------------------------------------------------------------------------------------------------------------------------------------------------------------------------------------------------------------------------------------------------------------------------------------------------------------------------------------------------------------------------------------------------------------------------------------------------------------------------------------------------------------------------------------------------------------------------------------------------------------------------------------------------------------------------------------------------------------------------------------------------------------------------------------------------------------------------------------------------------------------------------------------------------------------------------------------------------------------------------------------------------------------------------------------------------------------------------------------------------------------------------------------------------------------------------------------------------------------------------------------------------------------------------------------------------------------------------------------------------------------------------------------------------------------------------------------------------------------------------------------------------------------------------------------------------------------------------------------------------------------------------------------------------------------------------------------------------------------------------------------------------------------------------------------------------------------------------------------------------------------------------------------------------------------------------------------------------------------------------------------------------------------------------------------------------------------------------------------------------------------------------------------------------------------------------------------------------------------------------------------------------------------------------------------------------------------------------------------------------------------------------------------------------------------------------------------------------------------------------------------------------------------------------------------------------------------------------------------------------------------------------------------------------------------------------------------------------------------------------------------------------------------------------------------------------------------------------------------------------------------------------------------------------------------------------------------------------------------------------------------------------------------------------------------------------------------------------------------------------------------------------------------------------------------------------------------------------------------------------------------------------------------------------------------------------------------------------------------------------------------------------------------------------------------------------------------------------------------------------------------------------------------------------------------------------------------------------------------------------------------------------------------------------------------------------------------------------------------------------------------------------------------------------------------------------------------------------------------------------------------------------------------------------------------------------------------------------------------------------------------------------------------------------------------------------------------------------------------------------------------------------------------------------------------------------------------------------------------------------------------------------------------------------------------------------------------------------------------------------------------------------------------------------------------------------------------------------------------------------------------------------------------------------------------------------------------------------------------------------------------------------------------------------------------------------------------------------------------------------------------------------------------------------------------------------------------------------------------------------------------------------------------------------------------------------------------------------------------------------------------------------------------------------------------------------------------------------------------------------------------------------------------------------------------------------------------------------------------------------------------------------------------------------------------------------------------------------------------------------------------------------------------------------------------------------------------------------------------------------------------------------------------------------------------------------------------------------------------------------------------------------------------------------------------------------------------------------------------------------------------------------------------------------------------------------------------------------------------------------------------------------------------------------------------------------------------------------------------------------------------------------------------------------------------------------------------------------------------------------------------------------------------------------------------------------------------------------------------------------------------------------------------------------------------------------------------------------------------------------------------------------------------------------------------------------------------------------------------------------------------------------------------------------------------------------------------------------------------------------------------------------------------------------------------------------------------------------------------------------------------------------------------------------------------------------------------------------------------------------------------------------------------------------------------------------------------------------------------------------------------------------------------------------------------------------------------------------------------------------------------------------------------------------------------------------------------------------------------------------------------------------------------------------------------------------------------------------------------------------------------------------------------------------------------------------------------------------------------------------------------------------------------------------------------------------------------------------------------------------------------------------------------------------------------------------------------------------------------------------------------------------------------------------------------------------------------------------------------------------------------------------------------------------------------------------------------------------------------------------------------------------------------------------------------------------------------------------------------------------------------------------------------------------------------------------------------------------------------------------------------------------------------------------------------------------------------------------------------------------------------------------------------------------------------------------------------------------------------------------------------------------------------------------------------------------------------------------------------------------------------------------------------------------------------------------------------------------------------------------------------------------------------------------------------------------------------------------------------------------------------------------------------------------------------------------------------------------------------------------------------------------------------------------------------------------------------------------------------------------------------------------------------------------------------------------------------------------------------------------------------------------------------------------------------------------------------------------------------------------------------------------------------------------------------------------------------------------------------------------------------------------------------------------------------------------------------------------------------------------------------------------------------------------------------------------------------------------------------------------------------------------------------------------------------------------------------------------------------------------------------------------------------------------------------------------------------------------------------------------------------------------------------------------------------------------------------------------------------------------------------------------------------------------------------------------------------------------------------------------------------------------------------------------------------------------------------------------------------------------------------------------------------------------------------------------------------------------------------------------------------------------------------------------------------------------------------------------------------------------------------------------------------------------------------------------------------------------------------------------------------------------------------------------------------------------------------------------------------------------------------------------------------------------------------------------------------------------------------------------------------------------------------------------------------------------------------------------------------------------------------------------------------------------------------------------------------------------------------------------------------------------------------------------------------------------------------------------------------------------------------------------------------------------------------------------------------------------------------------------------------------------------------------------------------------------------------------------------------------------------------------------------------------------------------------------------------------------------------------------------------------------------------------------------------------------------------------------------------------------------------------------------------------------------------------------------------------------------------------------------------------------------------------------------------------------------------------------------------------------------------------------------------------------------------------------------------------------------------------------------------------------------------------------------------------------------------------------------------------------------------------------------------------------------------------------------------------------------------------------------------------------------------------------------------------------------------------------------------------------------------------------------------------------------------------------------------------------------------------------------------------------------------------------------------------------------------------------------------------------------------------------------------------------------------------------------------------------------------------------------------------------------------------------------------------------------------------------------------------------------------------------------------------------------------------------------------------------------------------------------------------------------------------------------------------------------------------------------------------------------------------------------------------------------------------------------------------------------------------------------------------------------------------------------------------------------------------------------------------------------------------------------------------------------------------------------------------------------------------------------------------------------------------------------------------------------------------------------------------------------------------------------------------------------------------------------------------------------------------------------------------------------------------------------------------------------------------------------------------------------------------------------------------------------------------------------------------------------------------------------------------------------------------------------------------------------------------------------------------------------------------------------------------------------------------------------------------------------------------------------------------------------------------------------------------------------------------------------------------------------------------------------------------------------------------------------------------------------------------------------------------------------------------------------------------------------------------------------------------------------------------------------------------------------------------------------------------------------------------------------------------------------------------------------------------------------------------------------------------------------------------------------------------------------------------------------------------------------------------------------------------------------------------------------------------------------------------------------------------------------------------------------------------------------------------------------------------------------------------------------------------------------------------------------------------------------------------------------------------------------------------------------------------------------------------------------------------------------------------------------------------------------------------------------------------------------------------------------------------------------------------------------------------------------------------------------------------------------------------------------------------------------------------------------------------------------------------------------------------------------------------------------------------------------------------------------------------------------------------------------------------------------------------------------------------------------------------------------------------------------------------------------------------------------------------------------------------------------------------------------------------------------------------------------------------------------------------------------------------------------------------------------------------------------------------------------------------------------------------------------------------------------------------------------------------------------------------------------------------------------------------------------------------------------------------------------------------------------------------------------------------------------------------------------------------------------------------------------------------------------------------------------------------------------------------------------------------------------------------------------------------------------------------------------------------------------------------------------------------------------------------------------------------------------------------------------------------------------------------------------------------------------------------------------------------------------------------------------------------------------------------------------------------------------------------------------------------------------------------------------------------------------------------------------------------------------------------------------------------------------------------------------------------------------------------------------------------------------------------------------------------------------------------------------------------------------------------------------------------------------------------------------------------------------------------------------------------------------------------------------------------------------------------------------------------------------------------------------------------------------------------------------------------------------------------------------------------------------------------------------------------------------------------------------------------------------------------------------------------------------------------------------------------------------------------------------------------------------------------------------------------------------------------------------------------------------------------------------------------------------------------------------------------------------------------------------------------------------------------------------------------------------------------------------------------------------------------------------------------------------------------------------------------------------------------------------------------------------------------------------------------------------------------------------------------------------------------------------------------------------------------------------------------------------------------------------------------------------------------------------------------------------------------------------------------------------------------------------------------------------------------------------------------------------------------------------------------------------------------------------------------------------------------------------------------------------------------------------------------------------------------------------------------------------------------------------------------------------------------------------------------------------------------------------------------------------------------------------------------------------------------------------------------------------------------------------------------------------------------------------------------------------------------------------------------------------------------------------------------------------------------------------------------------------------------------------------------------------------------------------------------------------------------------------------------------------------------------------------+\n",
       "| Customer#000000001, Customer#000000002, Customer#000000003, Customer#000000004, Customer#000000005, Customer#000000006, Customer#000000007, Customer#000000008, Customer#000000009, Customer#000000010, Customer#000000011, Customer#000000012, Customer#000000013, Customer#000000014, Customer#000000015, Customer#000000016, Customer#000000017, Customer#000000018, Customer#000000019, Customer#000000020, Customer#000000021, Customer#000000022, Customer#000000023, Customer#000000024, Customer#000000025, Customer#000000026, Customer#000000027, Customer#000000028, Customer#000000029, Customer#000000030, Customer#000000031, Customer#000000032, Customer#000000033, Customer#000000034, Customer#000000035, Customer#000000036, Customer#000000037, Customer#000000038, Customer#000000039, Customer#000000040, Customer#000000041, Customer#000000042, Customer#000000043, Customer#000000044, Customer#000000045, Customer#000000046, Customer#000000047, Customer#000000048, Customer#000000049, Customer#000000050, Customer#000000051, Customer#000000052, Customer#000000053, Customer#000000054, Customer#000000055, Customer#000000056, Customer#000000057, Customer#000000058, Customer#000000059, Customer#000000060, Customer#000000061, Customer#000000062, Customer#000000063, Customer#000000064, Customer#000000065, Customer#000000066, Customer#000000067, Customer#000000068, Customer#000000069, Customer#000000070, Customer#000000071, Customer#000000072, Customer#000000073, Customer#000000074, Customer#000000075, Customer#000000076, Customer#000000077, Customer#000000078, Customer#000000079, Customer#000000080, Customer#000000081, Customer#000000082, Customer#000000083, Customer#000000084, Customer#000000085, Customer#000000086, Customer#000000087, Customer#000000088, Customer#000000089, Customer#000000090, Customer#000000091, Customer#000000092, Customer#000000093, Customer#000000094, Customer#000000095, Customer#000000096, Customer#000000097, Customer#000000098, Customer#000000099, Customer#000000100, Customer#000000101, Customer#000000102, Customer#000000103, Customer#000000104, Customer#000000105, Customer#000000106, Customer#000000107, Customer#000000108, Customer#000000109, Customer#000000110, Customer#000000111, Customer#000000112, Customer#000000113, Customer#000000114, Customer#000000115, Customer#000000116, Customer#000000117, Customer#000000118, Customer#000000119, Customer#000000120, Customer#000000121, Customer#000000122, Customer#000000123, Customer#000000124, Customer#000000125, Customer#000000126, Customer#000000127, Customer#000000128, Customer#000000129, Customer#000000130, Customer#000000131, Customer#000000132, Customer#000000133, Customer#000000134, Customer#000000135, Customer#000000136, Customer#000000137, Customer#000000138, Customer#000000139, Customer#000000140, Customer#000000141, Customer#000000142, Customer#000000143, Customer#000000144, Customer#000000145, Customer#000000146, Customer#000000147, Customer#000000148, Customer#000000149, Customer#000000150, Customer#000000151, Customer#000000152, Customer#000000153, Customer#000000154, Customer#000000155, Customer#000000156, Customer#000000157, Customer#000000158, Customer#000000159, Customer#000000160, Customer#000000161, Customer#000000162, Customer#000000163, Customer#000000164, Customer#000000165, Customer#000000166, Customer#000000167, Customer#000000168, Customer#000000169, Customer#000000170, Customer#000000171, Customer#000000172, Customer#000000173, Customer#000000174, Customer#000000175, Customer#000000176, Customer#000000177, Customer#000000178, Customer#000000179, Customer#000000180, Customer#000000181, Customer#000000182, Customer#000000183, Customer#000000184, Customer#000000185, Customer#000000186, Customer#000000187, Customer#000000188, Customer#000000189, Customer#000000190, Customer#000000191, Customer#000000192, Customer#000000193, Customer#000000194, Customer#000000195, Customer#000000196, Customer#000000197, Customer#000000198, Customer#000000199, Customer#000000200, Customer#000000201, Customer#000000202, Customer#000000203, Customer#000000204, Customer#000000205, Customer#000000206, Customer#000000207, Customer#000000208, Customer#000000209, Customer#000000210, Customer#000000211, Customer#000000212, Customer#000000213, Customer#000000214, Customer#000000215, Customer#000000216, Customer#000000217, Customer#000000218, Customer#000000219, Customer#000000220, Customer#000000221, Customer#000000222, Customer#000000223, Customer#000000224, Customer#000000225, Customer#000000226, Customer#000000227, Customer#000000228, Customer#000000229, Customer#000000230, Customer#000000231, Customer#000000232, Customer#000000233, Customer#000000234, Customer#000000235, Customer#000000236, Customer#000000237, Customer#000000238, Customer#000000239, Customer#000000240, Customer#000000241, Customer#000000242, Customer#000000243, Customer#000000244, Customer#000000245, Customer#000000246, Customer#000000247, Customer#000000248, Customer#000000249, Customer#000000250, Customer#000000251, Customer#000000252, Customer#000000253, Customer#000000254, Customer#000000255, Customer#000000256, Customer#000000257, Customer#000000258, Customer#000000259, Customer#000000260, Customer#000000261, Customer#000000262, Customer#000000263, Customer#000000264, Customer#000000265, Customer#000000266, Customer#000000267, Customer#000000268, Customer#000000269, Customer#000000270, Customer#000000271, Customer#000000272, Customer#000000273, Customer#000000274, Customer#000000275, Customer#000000276, Customer#000000277, Customer#000000278, Customer#000000279, Customer#000000280, Customer#000000281, Customer#000000282, Customer#000000283, Customer#000000284, Customer#000000285, Customer#000000286, Customer#000000287, Customer#000000288, Customer#000000289, Customer#000000290, Customer#000000291, Customer#000000292, Customer#000000293, Customer#000000294, Customer#000000295, Customer#000000296, Customer#000000297, Customer#000000298, Customer#000000299, Customer#000000300, Customer#000000301, Customer#000000302, Customer#000000303, Customer#000000304, Customer#000000305, Customer#000000306, Customer#000000307, Customer#000000308, Customer#000000309, Customer#000000310, Customer#000000311, Customer#000000312, Customer#000000313, Customer#000000314, Customer#000000315, Customer#000000316, Customer#000000317, Customer#000000318, Customer#000000319, Customer#000000320, Customer#000000321, Customer#000000322, Customer#000000323, Customer#000000324, Customer#000000325, Customer#000000326, Customer#000000327, Customer#000000328, Customer#000000329, Customer#000000330, Customer#000000331, Customer#000000332, Customer#000000333, Customer#000000334, Customer#000000335, Customer#000000336, Customer#000000337, Customer#000000338, Customer#000000339, Customer#000000340, Customer#000000341, Customer#000000342, Customer#000000343, Customer#000000344, Customer#000000345, Customer#000000346, Customer#000000347, Customer#000000348, Customer#000000349, Customer#000000350, Customer#000000351, Customer#000000352, Customer#000000353, Customer#000000354, Customer#000000355, Customer#000000356, Customer#000000357, Customer#000000358, Customer#000000359, Customer#000000360, Customer#000000361, Customer#000000362, Customer#000000363, Customer#000000364, Customer#000000365, Customer#000000366, Customer#000000367, Customer#000000368, Customer#000000369, Customer#000000370, Customer#000000371, Customer#000000372, Customer#000000373, Customer#000000374, Customer#000000375, Customer#000000376, Customer#000000377, Customer#000000378, Customer#000000379, Customer#000000380, Customer#000000381, Customer#000000382, Customer#000000383, Customer#000000384, Customer#000000385, Customer#000000386, Customer#000000387, Customer#000000388, Customer#000000389, Customer#000000390, Customer#000000391, Customer#000000392, Customer#000000393, Customer#000000394, Customer#000000395, Customer#000000396, Customer#000000397, Customer#000000398, Customer#000000399, Customer#000000400, Customer#000000401, Customer#000000402, Customer#000000403, Customer#000000404, Customer#000000405, Customer#000000406, Customer#000000407, Customer#000000408, Customer#000000409, Customer#000000410, Customer#000000411, Customer#000000412, Customer#000000413, Customer#000000414, Customer#000000415, Customer#000000416, Customer#000000417, Customer#000000418, Customer#000000419, Customer#000000420, Customer#000000421, Customer#000000422, Customer#000000423, Customer#000000424, Customer#000000425, Customer#000000426, Customer#000000427, Customer#000000428, Customer#000000429, Customer#000000430, Customer#000000431, Customer#000000432, Customer#000000433, Customer#000000434, Customer#000000435, Customer#000000436, Customer#000000437, Customer#000000438, Customer#000000439, Customer#000000440, Customer#000000441, Customer#000000442, Customer#000000443, Customer#000000444, Customer#000000445, Customer#000000446, Customer#000000447, Customer#000000448, Customer#000000449, Customer#000000450, Customer#000000451, Customer#000000452, Customer#000000453, Customer#000000454, Customer#000000455, Customer#000000456, Customer#000000457, Customer#000000458, Customer#000000459, Customer#000000460, Customer#000000461, Customer#000000462, Customer#000000463, Customer#000000464, Customer#000000465, Customer#000000466, Customer#000000467, Customer#000000468, Customer#000000469, Customer#000000470, Customer#000000471, Customer#000000472, Customer#000000473, Customer#000000474, Customer#000000475, Customer#000000476, Customer#000000477, Customer#000000478, Customer#000000479, Customer#000000480, Customer#000000481, Customer#000000482, Customer#000000483, Customer#000000484, Customer#000000485, Customer#000000486, Customer#000000487, Customer#000000488, Customer#000000489, Customer#000000490, Customer#000000491, Customer#000000492, Customer#000000493, Customer#000000494, Customer#000000495, Customer#000000496, Customer#000000497, Customer#000000498, Customer#000000499, Customer#000000500, Customer#000000501, Customer#000000502, Customer#000000503, Customer#000000504, Customer#000000505, Customer#000000506, Customer#000000507, Customer#000000508, Customer#000000509, Customer#000000510, Customer#000000511, Customer#000000512, Customer#000000513, Customer#000000514, Customer#000000515, Customer#000000516, Customer#000000517, Customer#000000518, Customer#000000519, Customer#000000520, Customer#000000521, Customer#000000522, Customer#000000523, Customer#000000524, Customer#000000525, Customer#000000526, Customer#000000527, Customer#000000528, Customer#000000529, Customer#000000530, Customer#000000531, Customer#000000532, Customer#000000533, Customer#000000534, Customer#000000535, Customer#000000536, Customer#000000537, Customer#000000538, Customer#000000539, Customer#000000540, Customer#000000541, Customer#000000542, Customer#000000543, Customer#000000544, Customer#000000545, Customer#000000546, Customer#000000547, Customer#000000548, Customer#000000549, Customer#000000550, Customer#000000551, Customer#000000552, Customer#000000553, Customer#000000554, Customer#000000555, Customer#000000556, Customer#000000557, Customer#000000558, Customer#000000559, Customer#000000560, Customer#000000561, Customer#000000562, Customer#000000563, Customer#000000564, Customer#000000565, Customer#000000566, Customer#000000567, Customer#000000568, Customer#000000569, Customer#000000570, Customer#000000571, Customer#000000572, Customer#000000573, Customer#000000574, Customer#000000575, Customer#000000576, Customer#000000577, Customer#000000578, Customer#000000579, Customer#000000580, Customer#000000581, Customer#000000582, Customer#000000583, Customer#000000584, Customer#000000585, Customer#000000586, Customer#000000587, Customer#000000588, Customer#000000589, Customer#000000590, Customer#000000591, Customer#000000592, Customer#000000593, Customer#000000594, Customer#000000595, Customer#000000596, Customer#000000597, Customer#000000598, Customer#000000599, Customer#000000600, Customer#000000601, Customer#000000602, Customer#000000603, Customer#000000604, Customer#000000605, Customer#000000606, Customer#000000607, Customer#000000608, Customer#000000609, Customer#000000610, Customer#000000611, Customer#000000612, Customer#000000613, Customer#000000614, Customer#000000615, Customer#000000616, Customer#000000617, Customer#000000618, Customer#000000619, Customer#000000620, Customer#000000621, Customer#000000622, Customer#000000623, Customer#000000624, Customer#000000625, Customer#000000626, Customer#000000627, Customer#000000628, Customer#000000629, Customer#000000630, Customer#000000631, Customer#000000632, Customer#000000633, Customer#000000634, Customer#000000635, Customer#000000636, Customer#000000637, Customer#000000638, Customer#000000639, Customer#000000640, Customer#000000641, Customer#000000642, Customer#000000643, Customer#000000644, Customer#000000645, Customer#000000646, Customer#000000647, Customer#000000648, Customer#000000649, Customer#000000650, Customer#000000651, Customer#000000652, Customer#000000653, Customer#000000654, Customer#000000655, Customer#000000656, Customer#000000657, Customer#000000658, Customer#000000659, Customer#000000660, Customer#000000661, Customer#000000662, Customer#000000663, Customer#000000664, Customer#000000665, Customer#000000666, Customer#000000667, Customer#000000668, Customer#000000669, Customer#000000670, Customer#000000671, Customer#000000672, Customer#000000673, Customer#000000674, Customer#000000675, Customer#000000676, Customer#000000677, Customer#000000678, Customer#000000679, Customer#000000680, Customer#000000681, Customer#000000682, Customer#000000683, Customer#000000684, Customer#000000685, Customer#000000686, Customer#000000687, Customer#000000688, Customer#000000689, Customer#000000690, Customer#000000691, Customer#000000692, Customer#000000693, Customer#000000694, Customer#000000695, Customer#000000696, Customer#000000697, Customer#000000698, Customer#000000699, Customer#000000700, Customer#000000701, Customer#000000702, Customer#000000703, Customer#000000704, Customer#000000705, Customer#000000706, Customer#000000707, Customer#000000708, Customer#000000709, Customer#000000710, Customer#000000711, Customer#000000712, Customer#000000713, Customer#000000714, Customer#000000715, Customer#000000716, Customer#000000717, Customer#000000718, Customer#000000719, Customer#000000720, Customer#000000721, Customer#000000722, Customer#000000723, Customer#000000724, Customer#000000725, Customer#000000726, Customer#000000727, Customer#000000728, Customer#000000729, Customer#000000730, Customer#000000731, Customer#000000732, Customer#000000733, Customer#000000734, Customer#000000735, Customer#000000736, Customer#000000737, Customer#000000738, Customer#000000739, Customer#000000740, Customer#000000741, Customer#000000742, Customer#000000743, Customer#000000744, Customer#000000745, Customer#000000746, Customer#000000747, Customer#000000748, Customer#000000749, Customer#000000750, Customer#000000751, Customer#000000752, Customer#000000753, Customer#000000754, Customer#000000755, Customer#000000756, Customer#000000757, Customer#000000758, Customer#000000759, Customer#000000760, Customer#000000761, Customer#000000762, Customer#000000763, Customer#000000764, Customer#000000765, Customer#000000766, Customer#000000767, Customer#000000768, Customer#000000769, Customer#000000770, Customer#000000771, Customer#000000772, Customer#000000773, Customer#000000774, Customer#000000775, Customer#000000776, Customer#000000777, Customer#000000778, Customer#000000779, Customer#000000780, Customer#000000781, Customer#000000782, Customer#000000783, Customer#000000784, Customer#000000785, Customer#000000786, Customer#000000787, Customer#000000788, Customer#000000789, Customer#000000790, Customer#000000791, Customer#000000792, Customer#000000793, Customer#000000794, Customer#000000795, Customer#000000796, Customer#000000797, Customer#000000798, Customer#000000799, Customer#000000800, Customer#000000801, Customer#000000802, Customer#000000803, Customer#000000804, Customer#000000805, Customer#000000806, Customer#000000807, Customer#000000808, Customer#000000809, Customer#000000810, Customer#000000811, Customer#000000812, Customer#000000813, Customer#000000814, Customer#000000815, Customer#000000816, Customer#000000817, Customer#000000818, Customer#000000819, Customer#000000820, Customer#000000821, Customer#000000822, Customer#000000823, Customer#000000824, Customer#000000825, Customer#000000826, Customer#000000827, Customer#000000828, Customer#000000829, Customer#000000830, Customer#000000831, Customer#000000832, Customer#000000833, Customer#000000834, Customer#000000835, Customer#000000836, Customer#000000837, Customer#000000838, Customer#000000839, Customer#000000840, Customer#000000841, Customer#000000842, Customer#000000843, Customer#000000844, Customer#000000845, Customer#000000846, Customer#000000847, Customer#000000848, Customer#000000849, Customer#000000850, Customer#000000851, Customer#000000852, Customer#000000853, Customer#000000854, Customer#000000855, Customer#000000856, Customer#000000857, Customer#000000858, Customer#000000859, Customer#000000860, Customer#000000861, Customer#000000862, Customer#000000863, Customer#000000864, Customer#000000865, Customer#000000866, Customer#000000867, Customer#000000868, Customer#000000869, Customer#000000870, Customer#000000871, Customer#000000872, Customer#000000873, Customer#000000874, Customer#000000875, Customer#000000876, Customer#000000877, Customer#000000878, Customer#000000879, Customer#000000880, Customer#000000881, Customer#000000882, Customer#000000883, Customer#000000884, Customer#000000885, Customer#000000886, Customer#000000887, Customer#000000888, Customer#000000889, Customer#000000890, Customer#000000891, Customer#000000892, Customer#000000893, Customer#000000894, Customer#000000895, Customer#000000896, Customer#000000897, Customer#000000898, Customer#000000899, Customer#000000900, Customer#000000901, Customer#000000902, Customer#000000903, Customer#000000904, Customer#000000905, Customer#000000906, Customer#000000907, Customer#000000908, Customer#000000909, Customer#000000910, Customer#000000911, Customer#000000912, Customer#000000913, Customer#000000914, Customer#000000915, Customer#000000916, Customer#000000917, Customer#000000918, Customer#000000919, Customer#000000920, Customer#000000921, Customer#000000922, Customer#000000923, Customer#000000924, Customer#000000925, Customer#000000926, Customer#000000927, Customer#000000928, Customer#000000929, Customer#000000930, Customer#000000931, Customer#000000932, Customer#000000933, Customer#000000934, Customer#000000935, Customer#000000936, Customer#000000937, Customer#000000938, Customer#000000939, Customer#000000940, Customer#000000941, Customer#000000942, Customer#000000943, Customer#000000944, Customer#000000945, Customer#000000946, Customer#000000947, Customer#000000948, Customer#000000949, Customer#000000950, Customer#000000951, Customer#000000952, Customer#000000953, Customer#000000954, Customer#000000955, Customer#000000956, Customer#000000957, Customer#000000958, Customer#000000959, Customer#000000960, Customer#000000961, Customer#000000962, Customer#000000963, Customer#000000964, Customer#000000965, Customer#000000966, Customer#000000967, Customer#000000968, Customer#000000969, Customer#000000970, Customer#000000971, Customer#000000972, Customer#000000973, Customer#000000974, Customer#000000975, Customer#000000976, Customer#000000977, Customer#000000978, Customer#000000979, Customer#000000980, Customer#000000981, Customer#000000982, Customer#000000983, Customer#000000984, Customer#000000985, Customer#000000986, Customer#000000987, Customer#000000988, Customer#000000989, Customer#000000990, Customer#000000991, Customer#000000992, Customer#000000993, Customer#000000994, Customer#000000995, Customer#000000996, Customer#000000997, Customer#000000998, Customer#000000999, Customer#000001000, Customer#000001001, Customer#000001002, Customer#000001003, Customer#000001004, Customer#000001005, Customer#000001006, Customer#000001007, Customer#000001008, Customer#000001009, Customer#000001010, Customer#000001011, Customer#000001012, Customer#000001013, Customer#000001014, Customer#000001015, Customer#000001016, Customer#000001017, Customer#000001018, Customer#000001019, Customer#000001020, Customer#000001021, Customer#000001022, Customer#000001023, Customer#000001024, Customer#000001025, Customer#000001026, Customer#000001027, Customer#000001028, Customer#000001029, Customer#000001030, Customer#000001031, Customer#000001032, Customer#000001033, Customer#000001034, Customer#000001035, Customer#000001036, Customer#000001037, Customer#000001038, Customer#000001039, Customer#000001040, Customer#000001041, Customer#000001042, Customer#000001043, Customer#000001044, Customer#000001045, Customer#000001046, Customer#000001047, Customer#000001048, Customer#000001049, Customer#000001050, Customer#000001051, Customer#000001052, Customer#000001053, Customer#000001054, Customer#000001055, Customer#000001056, Customer#000001057, Customer#000001058, Customer#000001059, Customer#000001060, Customer#000001061, Customer#000001062, Customer#000001063, Customer#000001064, Customer#000001065, Customer#000001066, Customer#000001067, Customer#000001068, Customer#000001069, Customer#000001070, Customer#000001071, Customer#000001072, Customer#000001073, Customer#000001074, Customer#000001075, Customer#000001076, Customer#000001077, Customer#000001078, Customer#000001079, Customer#000001080, Customer#000001081, Customer#000001082, Customer#000001083, Customer#000001084, Customer#000001085, Customer#000001086, Customer#000001087, Customer#000001088, Customer#000001089, Customer#000001090, Customer#000001091, Customer#000001092, Customer#000001093, Customer#000001094, Customer#000001095, Customer#000001096, Customer#000001097, Customer#000001098, Customer#000001099, Customer#000001100, Customer#000001101, Customer#000001102, Customer#000001103, Customer#000001104, Customer#000001105, Customer#000001106, Customer#000001107, Customer#000001108, Customer#000001109, Customer#000001110, Customer#000001111, Customer#000001112, Customer#000001113, Customer#000001114, Customer#000001115, Customer#000001116, Customer#000001117, Customer#000001118, Customer#000001119, Customer#000001120, Customer#000001121, Customer#000001122, Customer#000001123, Customer#000001124, Customer#000001125, Customer#000001126, Customer#000001127, Customer#000001128, Customer#000001129, Customer#000001130, Customer#000001131, Customer#000001132, Customer#000001133, Customer#000001134, Customer#000001135, Customer#000001136, Customer#000001137, Customer#000001138, Customer#000001139, Customer#000001140, Customer#000001141, Customer#000001142, Customer#000001143, Customer#000001144, Customer#000001145, Customer#000001146, Customer#000001147, Customer#000001148, Customer#000001149, Customer#000001150, Customer#000001151, Customer#000001152, Customer#000001153, Customer#000001154, Customer#000001155, Customer#000001156, Customer#000001157, Customer#000001158, Customer#000001159, Customer#000001160, Customer#000001161, Customer#000001162, Customer#000001163, Customer#000001164, Customer#000001165, Customer#000001166, Customer#000001167, Customer#000001168, Customer#000001169, Customer#000001170, Customer#000001171, Customer#000001172, Customer#000001173, Customer#000001174, Customer#000001175, Customer#000001176, Customer#000001177, Customer#000001178, Customer#000001179, Customer#000001180, Customer#000001181, Customer#000001182, Customer#000001183, Customer#000001184, Customer#000001185, Customer#000001186, Customer#000001187, Customer#000001188, Customer#000001189, Customer#000001190, Customer#000001191, Customer#000001192, Customer#000001193, Customer#000001194, Customer#000001195, Customer#000001196, Customer#000001197, Customer#000001198, Customer#000001199, Customer#000001200, Customer#000001201, Customer#000001202, Customer#000001203, Customer#000001204, Customer#000001205, Customer#000001206, Customer#000001207, Customer#000001208, Customer#000001209, Customer#000001210, Customer#000001211, Customer#000001212, Customer#000001213, Customer#000001214, Customer#000001215, Customer#000001216, Customer#000001217, Customer#000001218, Customer#000001219, Customer#000001220, Customer#000001221, Customer#000001222, Customer#000001223, Customer#000001224, Customer#000001225, Customer#000001226, Customer#000001227, Customer#000001228, Customer#000001229, Customer#000001230, Customer#000001231, Customer#000001232, Customer#000001233, Customer#000001234, Customer#000001235, Customer#000001236, Customer#000001237, Customer#000001238, Customer#000001239, Customer#000001240, Customer#000001241, Customer#000001242, Customer#000001243, Customer#000001244, Customer#000001245, Customer#000001246, Customer#000001247, Customer#000001248, Customer#000001249, Customer#000001250, Customer#000001251, Customer#000001252, Customer#000001253, Customer#000001254, Customer#000001255, Customer#000001256, Customer#000001257, Customer#000001258, Customer#000001259, Customer#000001260, Customer#000001261, Customer#000001262, Customer#000001263, Customer#000001264, Customer#000001265, Customer#000001266, Customer#000001267, Customer#000001268, Customer#000001269, Customer#000001270, Customer#000001271, Customer#000001272, Customer#000001273, Customer#000001274, Customer#000001275, Customer#000001276, Customer#000001277, Customer#000001278, Customer#000001279, Customer#000001280, Customer#000001281, Customer#000001282, Customer#000001283, Customer#000001284, Customer#000001285, Customer#000001286, Customer#000001287, Customer#000001288, Customer#000001289, Customer#000001290, Customer#000001291, Customer#000001292, Customer#000001293, Customer#000001294, Customer#000001295, Customer#000001296, Customer#000001297, Customer#000001298, Customer#000001299, Customer#000001300, Customer#000001301, Customer#000001302, Customer#000001303, Customer#000001304, Customer#000001305, Customer#000001306, Customer#000001307, Customer#000001308, Customer#000001309, Customer#000001310, Customer#000001311, Customer#000001312, Customer#000001313, Customer#000001314, Customer#000001315, Customer#000001316, Customer#000001317, Customer#000001318, Customer#000001319, Customer#000001320, Customer#000001321, Customer#000001322, Customer#000001323, Customer#000001324, Customer#000001325, Customer#000001326, Customer#000001327, Customer#000001328, Customer#000001329, Customer#000001330, Customer#000001331, Customer#000001332, Customer#000001333, Customer#000001334, Customer#000001335, Customer#000001336, Customer#000001337, Customer#000001338, Customer#000001339, Customer#000001340, Customer#000001341, Customer#000001342, Customer#000001343, Customer#000001344, Customer#000001345, Customer#000001346, Customer#000001347, Customer#000001348, Customer#000001349, Customer#000001350, Customer#000001351, Customer#000001352, Customer#000001353, Customer#000001354, Customer#000001355, Customer#000001356, Customer#000001357, Customer#000001358, Customer#000001359, Customer#000001360, Customer#000001361, Customer#000001362, Customer#000001363, Customer#000001364, Customer#000001365, Customer#000001366, Customer#000001367, Customer#000001368, Customer#000001369, Customer#000001370, Customer#000001371, Customer#000001372, Customer#000001373, Customer#000001374, Customer#000001375, Customer#000001376, Customer#000001377, Customer#000001378, Customer#000001379, Customer#000001380, Customer#000001381, Customer#000001382, Customer#000001383, Customer#000001384, Customer#000001385, Customer#000001386, Customer#000001387, Customer#000001388, Customer#000001389, Customer#000001390, Customer#000001391, Customer#000001392, Customer#000001393, Customer#000001394, Customer#000001395, Customer#000001396, Customer#000001397, Customer#000001398, Customer#000001399, Customer#000001400, Customer#000001401, Customer#000001402, Customer#000001403, Customer#000001404, Customer#000001405, Customer#000001406, Customer#000001407, Customer#000001408, Customer#000001409, Customer#000001410, Customer#000001411, Customer#000001412, Customer#000001413, Customer#000001414, Customer#000001415, Customer#000001416, Customer#000001417, Customer#000001418, Customer#000001419, Customer#000001420, Customer#000001421, Customer#000001422, Customer#000001423, Customer#000001424, Customer#000001425, Customer#000001426, Customer#000001427, Customer#000001428, Customer#000001429, Customer#000001430, Customer#000001431, Customer#000001432, Customer#000001433, Customer#000001434, Customer#000001435, Customer#000001436, Customer#000001437, Customer#000001438, Customer#000001439, Customer#000001440, Customer#000001441, Customer#000001442, Customer#000001443, Customer#000001444, Customer#000001445, Customer#000001446, Customer#000001447, Customer#000001448, Customer#000001449, Customer#000001450, Customer#000001451, Customer#000001452, Customer#000001453, Customer#000001454, Customer#000001455, Customer#000001456, Customer#000001457, Customer#000001458, Customer#000001459, Customer#000001460, Customer#000001461, Customer#000001462, Customer#000001463, Customer#000001464, Customer#000001465, Customer#000001466, Customer#000001467, Customer#000001468, Customer#000001469, Customer#000001470, Customer#000001471, Customer#000001472, Customer#000001473, Customer#000001474, Customer#000001475, Customer#000001476, Customer#000001477, Customer#000001478, Customer#000001479, Customer#000001480, Customer#000001481, Customer#000001482, Customer#000001483, Customer#000001484, Customer#000001485, Customer#000001486, Customer#000001487, Customer#000001488, Customer#000001489, Customer#000001490, Customer#000001491, Customer#000001492, Customer#000001493, Customer#000001494, Customer#000001495, Customer#000001496, Customer#000001497, Customer#000001498, Customer#000001499, Customer#000001500 |\n",
       "+------------------------------------------------------------------------------------------------------------------------------------------------------------------------------------------------------------------------------------------------------------------------------------------------------------------------------------------------------------------------------------------------------------------------------------------------------------------------------------------------------------------------------------------------------------------------------------------------------------------------------------------------------------------------------------------------------------------------------------------------------------------------------------------------------------------------------------------------------------------------------------------------------------------------------------------------------------------------------------------------------------------------------------------------------------------------------------------------------------------------------------------------------------------------------------------------------------------------------------------------------------------------------------------------------------------------------------------------------------------------------------------------------------------------------------------------------------------------------------------------------------------------------------------------------------------------------------------------------------------------------------------------------------------------------------------------------------------------------------------------------------------------------------------------------------------------------------------------------------------------------------------------------------------------------------------------------------------------------------------------------------------------------------------------------------------------------------------------------------------------------------------------------------------------------------------------------------------------------------------------------------------------------------------------------------------------------------------------------------------------------------------------------------------------------------------------------------------------------------------------------------------------------------------------------------------------------------------------------------------------------------------------------------------------------------------------------------------------------------------------------------------------------------------------------------------------------------------------------------------------------------------------------------------------------------------------------------------------------------------------------------------------------------------------------------------------------------------------------------------------------------------------------------------------------------------------------------------------------------------------------------------------------------------------------------------------------------------------------------------------------------------------------------------------------------------------------------------------------------------------------------------------------------------------------------------------------------------------------------------------------------------------------------------------------------------------------------------------------------------------------------------------------------------------------------------------------------------------------------------------------------------------------------------------------------------------------------------------------------------------------------------------------------------------------------------------------------------------------------------------------------------------------------------------------------------------------------------------------------------------------------------------------------------------------------------------------------------------------------------------------------------------------------------------------------------------------------------------------------------------------------------------------------------------------------------------------------------------------------------------------------------------------------------------------------------------------------------------------------------------------------------------------------------------------------------------------------------------------------------------------------------------------------------------------------------------------------------------------------------------------------------------------------------------------------------------------------------------------------------------------------------------------------------------------------------------------------------------------------------------------------------------------------------------------------------------------------------------------------------------------------------------------------------------------------------------------------------------------------------------------------------------------------------------------------------------------------------------------------------------------------------------------------------------------------------------------------------------------------------------------------------------------------------------------------------------------------------------------------------------------------------------------------------------------------------------------------------------------------------------------------------------------------------------------------------------------------------------------------------------------------------------------------------------------------------------------------------------------------------------------------------------------------------------------------------------------------------------------------------------------------------------------------------------------------------------------------------------------------------------------------------------------------------------------------------------------------------------------------------------------------------------------------------------------------------------------------------------------------------------------------------------------------------------------------------------------------------------------------------------------------------------------------------------------------------------------------------------------------------------------------------------------------------------------------------------------------------------------------------------------------------------------------------------------------------------------------------------------------------------------------------------------------------------------------------------------------------------------------------------------------------------------------------------------------------------------------------------------------------------------------------------------------------------------------------------------------------------------------------------------------------------------------------------------------------------------------------------------------------------------------------------------------------------------------------------------------------------------------------------------------------------------------------------------------------------------------------------------------------------------------------------------------------------------------------------------------------------------------------------------------------------------------------------------------------------------------------------------------------------------------------------------------------------------------------------------------------------------------------------------------------------------------------------------------------------------------------------------------------------------------------------------------------------------------------------------------------------------------------------------------------------------------------------------------------------------------------------------------------------------------------------------------------------------------------------------------------------------------------------------------------------------------------------------------------------------------------------------------------------------------------------------------------------------------------------------------------------------------------------------------------------------------------------------------------------------------------------------------------------------------------------------------------------------------------------------------------------------------------------------------------------------------------------------------------------------------------------------------------------------------------------------------------------------------------------------------------------------------------------------------------------------------------------------------------------------------------------------------------------------------------------------------------------------------------------------------------------------------------------------------------------------------------------------------------------------------------------------------------------------------------------------------------------------------------------------------------------------------------------------------------------------------------------------------------------------------------------------------------------------------------------------------------------------------------------------------------------------------------------------------------------------------------------------------------------------------------------------------------------------------------------------------------------------------------------------------------------------------------------------------------------------------------------------------------------------------------------------------------------------------------------------------------------------------------------------------------------------------------------------------------------------------------------------------------------------------------------------------------------------------------------------------------------------------------------------------------------------------------------------------------------------------------------------------------------------------------------------------------------------------------------------------------------------------------------------------------------------------------------------------------------------------------------------------------------------------------------------------------------------------------------------------------------------------------------------------------------------------------------------------------------------------------------------------------------------------------------------------------------------------------------------------------------------------------------------------------------------------------------------------------------------------------------------------------------------------------------------------------------------------------------------------------------------------------------------------------------------------------------------------------------------------------------------------------------------------------------------------------------------------------------------------------------------------------------------------------------------------------------------------------------------------------------------------------------------------------------------------------------------------------------------------------------------------------------------------------------------------------------------------------------------------------------------------------------------------------------------------------------------------------------------------------------------------------------------------------------------------------------------------------------------------------------------------------------------------------------------------------------------------------------------------------------------------------------------------------------------------------------------------------------------------------------------------------------------------------------------------------------------------------------------------------------------------------------------------------------------------------------------------------------------------------------------------------------------------------------------------------------------------------------------------------------------------------------------------------------------------------------------------------------------------------------------------------------------------------------------------------------------------------------------------------------------------------------------------------------------------------------------------------------------------------------------------------------------------------------------------------------------------------------------------------------------------------------------------------------------------------------------------------------------------------------------------------------------------------------------------------------------------------------------------------------------------------------------------------------------------------------------------------------------------------------------------------------------------------------------------------------------------------------------------------------------------------------------------------------------------------------------------------------------------------------------------------------------------------------------------------------------------------------------------------------------------------------------------------------------------------------------------------------------------------------------------------------------------------------------------------------------------------------------------------------------------------------------------------------------------------------------------------------------------------------------------------------------------------------------------------------------------------------------------------------------------------------------------------------------------------------------------------------------------------------------------------------------------------------------------------------------------------------------------------------------------------------------------------------------------------------------------------------------------------------------------------------------------------------------------------------------------------------------------------------------------------------------------------------------------------------------------------------------------------------------------------------------------------------------------------------------------------------------------------------------------------------------------------------------------------------------------------------------------------------------------------------------------------------------------------------------------------------------------------------------------------------------------------------------------------------------------------------------------------------------------------------------------------------------------------------------------------------------------------------------------------------------------------------------------------------------------------------------------------------------------------------------------------------------------------------------------------------------------------------------------------------------------------------------------------------------------------------------------------------------------------------------------------------------------------------------------------------------------------------------------------------------------------------------------------------------------------------------------------------------------------------------------------------------------------------------------------------------------------------------------------------------------------------------------------------------------------------------------------------------------------------------------------------------------------------------------------------------------------------------------------------------------------------------------------------------------------------------------------------------------------------------------------------------------------------------------------------------------------------------------------------------------------------------------------------------------------------------------------------------------------------------------------------------------------------------------------------------------------------------------------------------------------------------------------------------------------------------------------------------------------------------------------------------------------------------------------------------------------------------------------------------------------------------------------------------------------------------------------------------------------------------------------------------------------------------------------------------------------------------------------------------------------------------------------------------------------------------------------------------------------------------------------------------------------------------------------------------------------------------------------------------------------------------------------------------------------------------------------------------------------------------------------------------------------------------------------------------------------------------------------------------------------------------------------------------------------------------------------------------------------------------------------------------------------------------------------------------------------------------------------------------------------------------------------------------------------------------------------------------------------------------------------------------------------------------------------------------------------------------------------------------------------------------------------------------------------------------------------------------------------------------------------------------------------------------------------------------------------------------------------------------------------------------------------------------------------------------------------------------------------------------------------------------------------------------------------------------------------------------------------------------------------------------------------------------------------------------------------------------------------------------------------------------------------------------------------------------------------------------------------------------------------------------------------------------------------------------------------------------------------------------------------------------------------------------------------------------------------------------------------------------------------------------------------------------------------------------------------------------------------------------------------------------------------------------------------------------------------------------------------------------------------------------------------------------------------------------------------------------------------------------------------------------------------------------------------------------------------------------------------------------------------------------------------------------------------------------------------------------------------------------------------------------------------------------------------------------------------------------------------------------------------------------------------------------------------------------------------------------------------------------------------------------------------------------------------------------------------------------------------------------------------------------------------------------------------------------------------------------------------------------------------------------------------------------------------------------------------------------------------------------------------------------------------------------------------------------------------------------------------------------------------------------------------------------------------------------------------------------------------------------------------------------------------------------------------------------------------------------------------------------------------------------------------------------------------------------------------------------------------------------------------------------------------------------------------------------------------------------------------------------------------------------------------------------------------------------------------------------------------------------------------------------------------------------------------------------------------------------------------------------------------------------------------------------------------------------------------------------------------------------------------------------------------------------------------------------------------------------------------------------------------------------------------------------------------------------------------------------------------------------------------------------------------------------------------------------------------------------------------------------------------------------------------------------------------------------------------------------------------------------------------------------------------------------------------------------------------------------------------------------------------------------------------------------------------------------------------------------------------------------------------------------------------------------------------------------------------------------------------------------------------------------------------------------------------------------------------------------------------------------------------------------------------------------------------------------------------------------------------------------------------------------------------------------------------------------------------------------------------------------------------------------------------------------------------------------------------------------------------------------------------------------------------------------------------------------------------------------------------------------------------------------------------------------------------------------------------------------------------------------------------------------------------------------------------------------------------------------------------------------------------------------------------------------------------------------------------------------------------------------------------------------------------------------------------------------------------------------------------------------------------------------------------------------------------------------------------------------------------------------------------------------------------------------------------------------------------------------------------------------------------------------------------------------------------------------------------------------------------------------------------------------------------------------------------------------------------------------------------------------------------------------------------------------------------------------------------------------------------------------------------------------------------------------------------------------------------------------------------------------------------------------------------------------------------------------------------------------------------------------------------------------------------------------------------------------------------------------------------------------------------------------------------------------------------------------------------------------------------------------------------------------------------------------------------------------------------------------------------------------------------------------------------------------------------------------------------------------------------------------------------------------------------------------------------------------------------------------------------------------------------------------------------------------------------------------------------------------------------------------------------------------------------------------------------------------------------------------------------------------------------------------------------------------------------------------------------------------------------------------------------------------------------------------------------------------------------------------------------------------------------------------------------------------------------------------------------------------------------------------------------------------------------------------------------------------------------------------------------------------------------------------------------------------------------------------------------------------------------------------------------------------------------------------------------------------------------------------------------------------------------------------------------------------------------------------------------------------------------------------------------------------------------------------------------------------------------------------------------------------------------------------------------------------------------------------------------------------------------------------------------------------------------------------------------------------------------------------------------------------------------------------------------------------------------------------------------------------------------------------------------------------------------------------------------------------------------------------------------------------------------------------------------------------------------------------------------------------------------------------------------------------------------------------------------------------------------------------------------------------------------------------------------------------------------------------------------------------------------------------------------------------------------------------------------------------------------------------------------------------------------------------------------------------------------------------------------------------------------------------------------------------------------------------------------------------------------------------------------------------------------------------------------------------------------------------------------------------------------------------------------------------------------------------------------------------------------------------------------------------------------------------------------------------------------------------------------------------------------------------------------------------------------------------------------------------------------------------------------------------------------------------------------------------------------------------------------------------------------------------------------------------------------------------------------------------------------------------------------------------------------------------------------------------------------------------------------------------------------------------------------------------------------------------------------------------------------------------------------------------------------------------------------------------------------------------------------------------------------------------------------------------------------------------------------------------------------------------------------------------------------------------------------------------------------------------------------------------------------------------------------------------------------------------------------------------------------------------------------------------------------------------------------------------------------------------------------------------------------------------------------------------------------------------------------------------------------------------------------------------------------------------------------------------------------------------------------------------------------------------------------------------------------------------------------------------------------------------------------------------------------------------------------------------------------------------------------------------------------------------------------------------------------------------------------------------------------------------------------------------------------------------------------------------------------------------------------------------------------------------------------------------------------------+"
      ]
     },
     "execution_count": 17,
     "metadata": {},
     "output_type": "execute_result"
    }
   ],
   "source": [
    "%%sql\n",
    "SELECT STRING_AGG(c_name, ', ') AS customer_names\n",
    "FROM customer;"
   ]
  },
  {
   "cell_type": "markdown",
   "id": "46f8ff9b-ed16-464b-8037-8c67d86d76df",
   "metadata": {},
   "source": [
    "This query uses `STRING_AGG` in DuckDB to concatenate all the values from the `c_name` column in the `customer` table into a single string, separated by commas (`', '`), and returns it as `customer_names`."
   ]
  },
  {
   "cell_type": "markdown",
   "id": "ea1341de-f460-49a9-8fce-fa4c2bcfe86e",
   "metadata": {},
   "source": [
    "### 1.10. Handle Null column values with other columns or fallback values using COALESCE"
   ]
  },
  {
   "cell_type": "code",
   "execution_count": null,
   "id": "563ef647-66c7-432a-aad4-aec9df057471",
   "metadata": {},
   "outputs": [],
   "source": [
    "%%sql\n",
    "WITH fake_orders AS (\n",
    "    SELECT 1 AS o_orderkey, 100 AS o_totalprice, NULL AS discount\n",
    "    UNION ALL\n",
    "    SELECT 2 AS o_orderkey, 200 AS o_totalprice, 20 AS discount\n",
    "    UNION ALL\n",
    "    SELECT 3 AS o_orderkey, 300 AS o_totalprice, NULL AS discount\n",
    ")\n",
    "SELECT \n",
    "    o_orderkey, \n",
    "    o_totalprice, \n",
    "    discount,\n",
    "    COALESCE(discount, o_totalprice * 0.10) AS final_discount\n",
    "FROM fake_orders;\n"
   ]
  },
  {
   "cell_type": "markdown",
   "id": "9b6da29c-bd54-4cc4-b9ba-2f6951cd66f0",
   "metadata": {},
   "source": [
    "Explanation:\n",
    "* **COALESCE**: This function returns the first non-NULL value from a list of arguments.\n",
    "* In this example, if o_totalprice is NULL for any row, COALESCE replaces it with 0. Otherwise, it returns o_totalprice.\n",
    "* The query selects the o_orderkey and replaces NULL values in o_totalprice with 0.\n",
    "\n",
    "Use Case for COALESCE:\n",
    "\n",
    "* **Handling NULL Values**: When working with columns that may have NULL values, COALESCE can be used to substitute them with a default value (e.g., 0, '', or a custom string). This is particularly useful in financial calculations, reports, or data cleaning where NULL values need to be replaced with meaningful defaults to avoid errors or incorrect results.\n",
    "* **Fallback Values**: It can also be used to provide fallback options in queries, returning alternative values if the primary value is NULL."
   ]
  },
  {
   "cell_type": "markdown",
   "id": "b2d94c5b-1d1a-4f51-bbb1-aff8268b4daa",
   "metadata": {},
   "source": [
    "### 1.11. Generate a range of number/date rows with GENERATE_SERIES"
   ]
  },
  {
   "cell_type": "code",
   "execution_count": 18,
   "id": "59d5b4ea-19b8-46d1-b837-91a84ec8bd8c",
   "metadata": {},
   "outputs": [
    {
     "data": {
      "text/html": [
       "<span style=\"None\">Running query in &#x27;duckdb&#x27;</span>"
      ],
      "text/plain": [
       "Running query in 'duckdb'"
      ]
     },
     "metadata": {},
     "output_type": "display_data"
    },
    {
     "data": {
      "text/html": [
       "<table>\n",
       "    <thead>\n",
       "        <tr>\n",
       "            <th>generate_series</th>\n",
       "        </tr>\n",
       "    </thead>\n",
       "    <tbody>\n",
       "        <tr>\n",
       "            <td>1</td>\n",
       "        </tr>\n",
       "        <tr>\n",
       "            <td>2</td>\n",
       "        </tr>\n",
       "        <tr>\n",
       "            <td>3</td>\n",
       "        </tr>\n",
       "        <tr>\n",
       "            <td>4</td>\n",
       "        </tr>\n",
       "        <tr>\n",
       "            <td>5</td>\n",
       "        </tr>\n",
       "        <tr>\n",
       "            <td>6</td>\n",
       "        </tr>\n",
       "        <tr>\n",
       "            <td>7</td>\n",
       "        </tr>\n",
       "        <tr>\n",
       "            <td>8</td>\n",
       "        </tr>\n",
       "        <tr>\n",
       "            <td>9</td>\n",
       "        </tr>\n",
       "        <tr>\n",
       "            <td>10</td>\n",
       "        </tr>\n",
       "    </tbody>\n",
       "</table>\n",
       "<span style=\"font-style:italic;text-align:center;\">Truncated to <a href=\"https://jupysql.ploomber.io/en/latest/api/configuration.html#displaylimit\">displaylimit</a> of 10.</span>"
      ],
      "text/plain": [
       "+-----------------+\n",
       "| generate_series |\n",
       "+-----------------+\n",
       "|        1        |\n",
       "|        2        |\n",
       "|        3        |\n",
       "|        4        |\n",
       "|        5        |\n",
       "|        6        |\n",
       "|        7        |\n",
       "|        8        |\n",
       "|        9        |\n",
       "|        10       |\n",
       "+-----------------+\n",
       "Truncated to displaylimit of 10."
      ]
     },
     "execution_count": 18,
     "metadata": {},
     "output_type": "execute_result"
    }
   ],
   "source": [
    "%%sql\n",
    "SELECT *\n",
    "FROM generate_series(1, 10);"
   ]
  },
  {
   "cell_type": "code",
   "execution_count": 19,
   "id": "a1f23baa-a1d5-487e-825c-0858d2c8a108",
   "metadata": {},
   "outputs": [
    {
     "data": {
      "text/html": [
       "<span style=\"None\">Running query in &#x27;duckdb&#x27;</span>"
      ],
      "text/plain": [
       "Running query in 'duckdb'"
      ]
     },
     "metadata": {},
     "output_type": "display_data"
    },
    {
     "data": {
      "text/html": [
       "<table>\n",
       "    <thead>\n",
       "        <tr>\n",
       "            <th>generate_series</th>\n",
       "        </tr>\n",
       "    </thead>\n",
       "    <tbody>\n",
       "        <tr>\n",
       "            <td>2024-01-01 00:00:00</td>\n",
       "        </tr>\n",
       "        <tr>\n",
       "            <td>2024-01-02 00:00:00</td>\n",
       "        </tr>\n",
       "        <tr>\n",
       "            <td>2024-01-03 00:00:00</td>\n",
       "        </tr>\n",
       "        <tr>\n",
       "            <td>2024-01-04 00:00:00</td>\n",
       "        </tr>\n",
       "        <tr>\n",
       "            <td>2024-01-05 00:00:00</td>\n",
       "        </tr>\n",
       "        <tr>\n",
       "            <td>2024-01-06 00:00:00</td>\n",
       "        </tr>\n",
       "        <tr>\n",
       "            <td>2024-01-07 00:00:00</td>\n",
       "        </tr>\n",
       "        <tr>\n",
       "            <td>2024-01-08 00:00:00</td>\n",
       "        </tr>\n",
       "        <tr>\n",
       "            <td>2024-01-09 00:00:00</td>\n",
       "        </tr>\n",
       "        <tr>\n",
       "            <td>2024-01-10 00:00:00</td>\n",
       "        </tr>\n",
       "    </tbody>\n",
       "</table>\n",
       "<span style=\"font-style:italic;text-align:center;\">Truncated to <a href=\"https://jupysql.ploomber.io/en/latest/api/configuration.html#displaylimit\">displaylimit</a> of 10.</span>"
      ],
      "text/plain": [
       "+---------------------+\n",
       "|   generate_series   |\n",
       "+---------------------+\n",
       "| 2024-01-01 00:00:00 |\n",
       "| 2024-01-02 00:00:00 |\n",
       "| 2024-01-03 00:00:00 |\n",
       "| 2024-01-04 00:00:00 |\n",
       "| 2024-01-05 00:00:00 |\n",
       "| 2024-01-06 00:00:00 |\n",
       "| 2024-01-07 00:00:00 |\n",
       "| 2024-01-08 00:00:00 |\n",
       "| 2024-01-09 00:00:00 |\n",
       "| 2024-01-10 00:00:00 |\n",
       "+---------------------+\n",
       "Truncated to displaylimit of 10."
      ]
     },
     "execution_count": 19,
     "metadata": {},
     "output_type": "execute_result"
    }
   ],
   "source": [
    "%%sql\n",
    "SELECT *\n",
    "FROM generate_series('2024-01-01'::DATE, '2024-01-10'::DATE, INTERVAL 1 DAY);\n"
   ]
  },
  {
   "cell_type": "markdown",
   "id": "c254b216-c290-4a74-88d4-6e01a6cc1ff0",
   "metadata": {},
   "source": [
    "Explanation:\n",
    "\n",
    "* **generate_series(1, 10)**: This function generates a series of numbers from 1 to 10. Each number in the range is output as a separate row\n",
    "* The result will be a table with a single column of integers, from 1 to 10.\n",
    "\n",
    "Use Case:\n",
    "\n",
    "* **Data Simulation**: generate_series is often used to create a sequence of numbers for testing or simulating data (e.g., generating dates, IDs, or time intervals).\n",
    "* **Joining with Other Tables**: You can use generate_series to produce rows that can be joined with other tables, for example, to fill in missing dates or create sequences of data where needed.\n",
    "* **Looping/Iteration**: It's useful when you need to perform actions over a range of values, like generating monthly or yearly reports for a range of dates."
   ]
  },
  {
   "cell_type": "markdown",
   "id": "4e5e73a5-ac12-4604-a8d0-f929fb7da416",
   "metadata": {},
   "source": [
    "### 1.12. Convert ARRAY/LIST of elements to individual rows with UNNEST "
   ]
  },
  {
   "cell_type": "code",
   "execution_count": 20,
   "id": "ff24481b-a8f9-4dd3-9bf1-f8a8b50d6ca3",
   "metadata": {},
   "outputs": [
    {
     "data": {
      "text/html": [
       "<span style=\"None\">Running query in &#x27;duckdb&#x27;</span>"
      ],
      "text/plain": [
       "Running query in 'duckdb'"
      ]
     },
     "metadata": {},
     "output_type": "display_data"
    },
    {
     "data": {
      "text/html": [
       "<table>\n",
       "    <thead>\n",
       "        <tr>\n",
       "            <th>id</th>\n",
       "            <th>flattened_value</th>\n",
       "        </tr>\n",
       "    </thead>\n",
       "    <tbody>\n",
       "        <tr>\n",
       "            <td>1</td>\n",
       "            <td>10</td>\n",
       "        </tr>\n",
       "        <tr>\n",
       "            <td>1</td>\n",
       "            <td>20</td>\n",
       "        </tr>\n",
       "        <tr>\n",
       "            <td>1</td>\n",
       "            <td>30</td>\n",
       "        </tr>\n",
       "        <tr>\n",
       "            <td>2</td>\n",
       "            <td>40</td>\n",
       "        </tr>\n",
       "        <tr>\n",
       "            <td>2</td>\n",
       "            <td>50</td>\n",
       "        </tr>\n",
       "    </tbody>\n",
       "</table>"
      ],
      "text/plain": [
       "+----+-----------------+\n",
       "| id | flattened_value |\n",
       "+----+-----------------+\n",
       "| 1  |        10       |\n",
       "| 1  |        20       |\n",
       "| 1  |        30       |\n",
       "| 2  |        40       |\n",
       "| 2  |        50       |\n",
       "+----+-----------------+"
      ]
     },
     "execution_count": 20,
     "metadata": {},
     "output_type": "execute_result"
    }
   ],
   "source": [
    "%%sql\n",
    "WITH nested_data AS (\n",
    "    SELECT 1 AS id, [10, 20, 30] AS values\n",
    "    UNION ALL\n",
    "    SELECT 2 AS id, [40, 50] AS values\n",
    ")\n",
    "SELECT \n",
    "    id, \n",
    "    UNNEST(values) AS flattened_value\n",
    "FROM nested_data;\n"
   ]
  },
  {
   "cell_type": "markdown",
   "id": "d8286cd0-7f82-4efe-859d-762022264426",
   "metadata": {},
   "source": [
    "Explanation:\n",
    "\n",
    "* **UNNEST(values)**: The UNNEST function takes the array in the values column and returns one row for each element in the array.\n",
    "\n",
    "Use Case for UNNEST:\n",
    "\n",
    "* **Nested Arrays**: Often used when working with semi-structured data like JSON arrays or nested lists, where you need to process each item in the array individually."
   ]
  },
  {
   "cell_type": "markdown",
   "id": "1f7a4531-090e-406f-ae8f-2e24fce50d6e",
   "metadata": {},
   "source": [
    "## 2. Get rows in one table depending on its presence/absence in another with SET operations"
   ]
  },
  {
   "cell_type": "markdown",
   "id": "b883e064-38e9-4d6a-991e-273fa6bbab34",
   "metadata": {},
   "source": [
    "### 2.1. Get data from a table based on existence of data in another with EXISTS"
   ]
  },
  {
   "cell_type": "code",
   "execution_count": 21,
   "id": "8c617189-3332-4af7-994f-ff156abc2098",
   "metadata": {},
   "outputs": [
    {
     "data": {
      "text/html": [
       "<span style=\"None\">Running query in &#x27;duckdb&#x27;</span>"
      ],
      "text/plain": [
       "Running query in 'duckdb'"
      ]
     },
     "metadata": {},
     "output_type": "display_data"
    },
    {
     "data": {
      "text/html": [
       "<table>\n",
       "    <thead>\n",
       "        <tr>\n",
       "            <th>c_custkey</th>\n",
       "            <th>c_name</th>\n",
       "        </tr>\n",
       "    </thead>\n",
       "    <tbody>\n",
       "    </tbody>\n",
       "</table>"
      ],
      "text/plain": [
       "+-----------+--------+\n",
       "| c_custkey | c_name |\n",
       "+-----------+--------+\n",
       "+-----------+--------+"
      ]
     },
     "execution_count": 21,
     "metadata": {},
     "output_type": "execute_result"
    }
   ],
   "source": [
    "%%sql\n",
    "SELECT \n",
    "    c_custkey, \n",
    "    c_name\n",
    "FROM customer \n",
    "WHERE EXISTS (\n",
    "    SELECT o_orderkey\n",
    "    FROM orders\n",
    "    WHERE o_totalprice > 5000000 \n",
    "    -- o_custkey = c_custkey  -- replace the above filter with this => Does the customer from customer table have atleast one order?\n",
    ");"
   ]
  },
  {
   "cell_type": "markdown",
   "id": "1bf56b17-6b08-487c-82f9-a7798e592448",
   "metadata": {},
   "source": [
    "The query returns customers who have at least one order whose `o_totalprice` is greater than *5,000,000*.\n",
    "\n",
    "**The EXISTS operator** tests for the existence of any row inside the subquery. It returns either true when the subquery returns one or more records, and false otherwise."
   ]
  },
  {
   "cell_type": "markdown",
   "id": "db124a9f-d346-4f5b-984a-147780ac3f56",
   "metadata": {},
   "source": [
    "### 2.2. Get data that is present in both the tables with INTERSECT"
   ]
  },
  {
   "cell_type": "code",
   "execution_count": 22,
   "id": "5f1fca57-4c08-4960-8a9d-bebe9ee8bd89",
   "metadata": {},
   "outputs": [
    {
     "data": {
      "text/html": [
       "<span style=\"None\">Running query in &#x27;duckdb&#x27;</span>"
      ],
      "text/plain": [
       "Running query in 'duckdb'"
      ]
     },
     "metadata": {},
     "output_type": "display_data"
    },
    {
     "data": {
      "text/html": [
       "<table>\n",
       "    <thead>\n",
       "        <tr>\n",
       "            <th>c_custkey</th>\n",
       "        </tr>\n",
       "    </thead>\n",
       "    <tbody>\n",
       "        <tr>\n",
       "            <td>1</td>\n",
       "        </tr>\n",
       "        <tr>\n",
       "            <td>25</td>\n",
       "        </tr>\n",
       "        <tr>\n",
       "            <td>95</td>\n",
       "        </tr>\n",
       "        <tr>\n",
       "            <td>100</td>\n",
       "        </tr>\n",
       "        <tr>\n",
       "            <td>106</td>\n",
       "        </tr>\n",
       "        <tr>\n",
       "            <td>121</td>\n",
       "        </tr>\n",
       "        <tr>\n",
       "            <td>133</td>\n",
       "        </tr>\n",
       "        <tr>\n",
       "            <td>148</td>\n",
       "        </tr>\n",
       "        <tr>\n",
       "            <td>157</td>\n",
       "        </tr>\n",
       "        <tr>\n",
       "            <td>214</td>\n",
       "        </tr>\n",
       "    </tbody>\n",
       "</table>\n",
       "<span style=\"font-style:italic;text-align:center;\">Truncated to <a href=\"https://jupysql.ploomber.io/en/latest/api/configuration.html#displaylimit\">displaylimit</a> of 10.</span>"
      ],
      "text/plain": [
       "+-----------+\n",
       "| c_custkey |\n",
       "+-----------+\n",
       "|     1     |\n",
       "|     25    |\n",
       "|     95    |\n",
       "|    100    |\n",
       "|    106    |\n",
       "|    121    |\n",
       "|    133    |\n",
       "|    148    |\n",
       "|    157    |\n",
       "|    214    |\n",
       "+-----------+\n",
       "Truncated to displaylimit of 10."
      ]
     },
     "execution_count": 22,
     "metadata": {},
     "output_type": "execute_result"
    }
   ],
   "source": [
    "%%sql\n",
    "SELECT c_custkey \n",
    "FROM customer\n",
    "INTERSECT\n",
    "SELECT o_custkey \n",
    "FROM orders;"
   ]
  },
  {
   "cell_type": "markdown",
   "id": "b7d985c7-13c5-4ad7-b9ec-2c35827e1a8d",
   "metadata": {},
   "source": [
    " The query returns customers (c_custkey) who appear in both the customer table and the orders table."
   ]
  },
  {
   "cell_type": "markdown",
   "id": "4e00fb57-5972-4969-bce2-be2c9c05b1d6",
   "metadata": {},
   "source": [
    "### 2.3. Get data that is present in table 1 but not in table 2 with EXCEPT"
   ]
  },
  {
   "cell_type": "code",
   "execution_count": 23,
   "id": "b0ae4016-45df-4594-b079-cbaf94915647",
   "metadata": {},
   "outputs": [
    {
     "data": {
      "text/html": [
       "<span style=\"None\">Running query in &#x27;duckdb&#x27;</span>"
      ],
      "text/plain": [
       "Running query in 'duckdb'"
      ]
     },
     "metadata": {},
     "output_type": "display_data"
    },
    {
     "data": {
      "text/html": [
       "<table>\n",
       "    <thead>\n",
       "        <tr>\n",
       "            <th>c_custkey</th>\n",
       "        </tr>\n",
       "    </thead>\n",
       "    <tbody>\n",
       "        <tr>\n",
       "            <td>42</td>\n",
       "        </tr>\n",
       "        <tr>\n",
       "            <td>108</td>\n",
       "        </tr>\n",
       "        <tr>\n",
       "            <td>150</td>\n",
       "        </tr>\n",
       "        <tr>\n",
       "            <td>159</td>\n",
       "        </tr>\n",
       "        <tr>\n",
       "            <td>174</td>\n",
       "        </tr>\n",
       "        <tr>\n",
       "            <td>192</td>\n",
       "        </tr>\n",
       "        <tr>\n",
       "            <td>195</td>\n",
       "        </tr>\n",
       "        <tr>\n",
       "            <td>207</td>\n",
       "        </tr>\n",
       "        <tr>\n",
       "            <td>246</td>\n",
       "        </tr>\n",
       "        <tr>\n",
       "            <td>309</td>\n",
       "        </tr>\n",
       "    </tbody>\n",
       "</table>\n",
       "<span style=\"font-style:italic;text-align:center;\">Truncated to <a href=\"https://jupysql.ploomber.io/en/latest/api/configuration.html#displaylimit\">displaylimit</a> of 10.</span>"
      ],
      "text/plain": [
       "+-----------+\n",
       "| c_custkey |\n",
       "+-----------+\n",
       "|     42    |\n",
       "|    108    |\n",
       "|    150    |\n",
       "|    159    |\n",
       "|    174    |\n",
       "|    192    |\n",
       "|    195    |\n",
       "|    207    |\n",
       "|    246    |\n",
       "|    309    |\n",
       "+-----------+\n",
       "Truncated to displaylimit of 10."
      ]
     },
     "execution_count": 23,
     "metadata": {},
     "output_type": "execute_result"
    }
   ],
   "source": [
    "%%sql\n",
    "SELECT c_custkey\n",
    "FROM customer\n",
    "EXCEPT\n",
    "SELECT o_custkey\n",
    "FROM orders o;"
   ]
  },
  {
   "cell_type": "markdown",
   "id": "7285d595-3ef8-4629-b4bf-ee120d91476e",
   "metadata": {},
   "source": [
    "The query returns customers (c_custkey) that are present in the customer table but do not have corresponding records in the orders table. The EXCEPT operator removes rows that have matches in the second query."
   ]
  },
  {
   "cell_type": "markdown",
   "id": "29c8d78d-87d4-4a03-85c7-382c855c9dcf",
   "metadata": {},
   "source": [
    "### 2.4. Get data diff (aka delta), with (A - B) U (B - A)"
   ]
  },
  {
   "cell_type": "code",
   "execution_count": 24,
   "id": "3c8d1acd-340f-41c1-9aa6-398ca529e1b7",
   "metadata": {},
   "outputs": [
    {
     "data": {
      "text/html": [
       "<span style=\"None\">Running query in &#x27;duckdb&#x27;</span>"
      ],
      "text/plain": [
       "Running query in 'duckdb'"
      ]
     },
     "metadata": {},
     "output_type": "display_data"
    },
    {
     "data": {
      "text/html": [
       "<table>\n",
       "    <thead>\n",
       "        <tr>\n",
       "            <th>Count</th>\n",
       "        </tr>\n",
       "    </thead>\n",
       "    <tbody>\n",
       "        <tr>\n",
       "            <td>1</td>\n",
       "        </tr>\n",
       "    </tbody>\n",
       "</table>"
      ],
      "text/plain": [
       "+-------+\n",
       "| Count |\n",
       "+-------+\n",
       "|   1   |\n",
       "+-------+"
      ]
     },
     "execution_count": 24,
     "metadata": {},
     "output_type": "execute_result"
    }
   ],
   "source": [
    "%%sql\n",
    "-- ASSUME cust_test is the customer data's next data load\n",
    "DROP TABLE IF EXISTS cust_test;\n",
    "-- 1. Create cust_test table from customer\n",
    "CREATE TABLE cust_test AS SELECT * FROM customer;\n",
    "\n",
    "-- 2. Append a new row to cust_test\n",
    "-- Insert a new row with values for all columns\n",
    "INSERT INTO cust_test VALUES (9999, 'New Customer', 'new_customer@example.com', '123', '2024-10-21', 10.00, 'ExtraColumn2', 'ExtraColumn3');\n",
    "\n",
    "-- 3. Delete a row from cust_test (delete where customer_id = 2)\n",
    "DELETE FROM cust_test WHERE c_custkey = 2;\n",
    "\n",
    "-- 4. Update a row in cust_test (update customer with customer_id = 1)\n",
    "UPDATE cust_test\n",
    "SET c_name = 'Updated Name', c_address = 'updated address'\n",
    "WHERE c_custkey = 1;\n"
   ]
  },
  {
   "cell_type": "code",
   "execution_count": 25,
   "id": "bd14eaa8-47e0-48e2-ab3b-5436f2b79c98",
   "metadata": {},
   "outputs": [
    {
     "data": {
      "text/html": [
       "<span style=\"None\">Running query in &#x27;duckdb&#x27;</span>"
      ],
      "text/plain": [
       "Running query in 'duckdb'"
      ]
     },
     "metadata": {},
     "output_type": "display_data"
    },
    {
     "data": {
      "text/html": [
       "<table>\n",
       "    <thead>\n",
       "        <tr>\n",
       "            <th>c_custkey</th>\n",
       "            <th>ops</th>\n",
       "        </tr>\n",
       "    </thead>\n",
       "    <tbody>\n",
       "        <tr>\n",
       "            <td>2</td>\n",
       "            <td>DELETED</td>\n",
       "        </tr>\n",
       "        <tr>\n",
       "            <td>9999</td>\n",
       "            <td>UPSERTED</td>\n",
       "        </tr>\n",
       "        <tr>\n",
       "            <td>1</td>\n",
       "            <td>UPSERTED</td>\n",
       "        </tr>\n",
       "    </tbody>\n",
       "</table>"
      ],
      "text/plain": [
       "+-----------+----------+\n",
       "| c_custkey |   ops    |\n",
       "+-----------+----------+\n",
       "|     2     | DELETED  |\n",
       "|    9999   | UPSERTED |\n",
       "|     1     | UPSERTED |\n",
       "+-----------+----------+"
      ]
     },
     "execution_count": 25,
     "metadata": {},
     "output_type": "execute_result"
    }
   ],
   "source": [
    "%%sql\n",
    "\n",
    "SELECT c_custkey, 'DELETED' as ops FROM ( \n",
    "SELECT c_custkey\n",
    "FROM customer\n",
    "EXCEPT\n",
    "SELECT c_custkey\n",
    "FROM cust_test)\n",
    "\n",
    "UNION ALL\n",
    "\n",
    "SELECT c_custkey, 'UPSERTED' as ops FROM ( \n",
    "SELECT c_custkey, c_name, c_address\n",
    "FROM cust_test\n",
    "EXCEPT\n",
    "SELECT c_custkey, c_name, c_address\n",
    "FROM customer)\n",
    "\n"
   ]
  },
  {
   "cell_type": "markdown",
   "id": "05ed77b2-ca9e-4e90-abaa-0eebdc0b209b",
   "metadata": {},
   "source": [
    "## 3. Create re-usable functions in SQL"
   ]
  },
  {
   "cell_type": "markdown",
   "id": "855532a1-759f-49a7-bba4-00a8d1f66537",
   "metadata": {},
   "source": [
    "### 3.1. Functions in SQL are called MACROs"
   ]
  },
  {
   "cell_type": "code",
   "execution_count": null,
   "id": "7abcdfad-6a0f-450e-99e0-839ad55fb9d5",
   "metadata": {},
   "outputs": [],
   "source": [
    "%%sql\n",
    "CREATE MACRO IF NOT EXISTS percentage(numerator, denominator) AS (\n",
    "    (CAST(numerator AS DOUBLE) / CAST(denominator AS DOUBLE)) * 100\n",
    ");\n"
   ]
  },
  {
   "cell_type": "code",
   "execution_count": null,
   "id": "1d2a15bf-1683-42c1-b723-e82af7c61259",
   "metadata": {},
   "outputs": [],
   "source": [
    "%%sql\n",
    "SELECT o_orderkey, o_totalprice, percentage(o_totalprice, 50000) AS discount_percentage\n",
    "FROM orders\n",
    "LIMIT 5;\n"
   ]
  },
  {
   "cell_type": "markdown",
   "id": "e93e2c47-cfe7-466d-b0eb-80ac04f28d62",
   "metadata": {},
   "source": [
    "Explanation:\n",
    "* The macro percentage takes two parameters, numerator and denominator, and returns the percentage calculation.\n",
    "* In this case, it calculates the percentage of o_totalprice against a constant value (50,000).\n",
    "* The macro is used like a function but expanded inline when the query is executed."
   ]
  },
  {
   "cell_type": "code",
   "execution_count": null,
   "id": "604b0c43-2eb1-4131-b59d-846282ac8ea0",
   "metadata": {},
   "outputs": [],
   "source": [
    "%%sql\n",
    "CREATE MACRO IF NOT EXISTS large_order(order_price) AS (\n",
    "    CASE\n",
    "        WHEN order_price > 100000 THEN 'Large Order'\n",
    "        ELSE 'Regular Order'\n",
    "    END\n",
    ");"
   ]
  },
  {
   "cell_type": "code",
   "execution_count": null,
   "id": "674ddeb9-a695-4849-ae5f-06ce14ac63c6",
   "metadata": {},
   "outputs": [],
   "source": [
    "%%sql\n",
    "SELECT o_orderkey, o_totalprice, large_order(o_totalprice) AS order_type\n",
    "FROM orders\n",
    "LIMIT 5;"
   ]
  },
  {
   "cell_type": "markdown",
   "id": "184f617b-f79f-466a-98e1-59c24d26a333",
   "metadata": {},
   "source": [
    "Summary:\n",
    "* SQL Macros are useful for encapsulating reusable SQL expressions, similar to functions in other programming languages.\n",
    "* They allow you to abstract complex logic and reuse it in different parts of your query, improving both readability and maintainability.\n",
    "* DuckDB macros are inline, meaning they are expanded at query execution time, which avoids the overhead of function calls."
   ]
  },
  {
   "cell_type": "markdown",
   "id": "58cd3f8f-f1a8-4b77-859c-ccc2ef488604",
   "metadata": {},
   "source": [
    "## 4. Dynamically generate SQL with Python"
   ]
  },
  {
   "cell_type": "markdown",
   "id": "31379228-13ee-4b4a-a716-a8e1fab772eb",
   "metadata": {},
   "source": [
    "### 4.1. Use Jinja2 to create SQL queries in Python"
   ]
  },
  {
   "cell_type": "code",
   "execution_count": 26,
   "id": "a6302c8d-66db-4dd5-910a-a3a20e55fdd7",
   "metadata": {},
   "outputs": [
    {
     "name": "stdout",
     "output_type": "stream",
     "text": [
      "Generated SQL Query:\n",
      "====================\n",
      "\n",
      "SELECT o_orderkey, o_custkey, o_totalprice\n",
      "FROM orders\n",
      "WHERE o_totalprice > 20000\n",
      "\n",
      "  AND o_custkey IN (\n",
      "    \n",
      "      1001, \n",
      "    \n",
      "      1002, \n",
      "    \n",
      "      1003\n",
      "    \n",
      "  )\n",
      "\n",
      "ORDER BY o_totalprice DESC;\n"
     ]
    }
   ],
   "source": [
    "from jinja2 import Template\n",
    "\n",
    "# Define a Jinja2 SQL template with a loop\n",
    "sql_template = \"\"\"\n",
    "SELECT o_orderkey, o_custkey, o_totalprice\n",
    "FROM orders\n",
    "WHERE o_totalprice > {{ price_threshold }}\n",
    "{% if customer_keys %}\n",
    "  AND o_custkey IN (\n",
    "    {% for custkey in customer_keys %}\n",
    "      {{ custkey }}{% if not loop.last %}, {% endif %}\n",
    "    {% endfor %}\n",
    "  )\n",
    "{% endif %}\n",
    "ORDER BY o_totalprice DESC;\n",
    "\"\"\"\n",
    "\n",
    "# Render the template with dynamic parameters\n",
    "template = Template(sql_template)\n",
    "\n",
    "# Parameters to be passed to the template\n",
    "params = {\n",
    "    \"price_threshold\": 20000,\n",
    "    \"customer_keys\": [1001, 1002, 1003]  # A list of customer keys to filter on\n",
    "}\n",
    "\n",
    "# Render the SQL query (do not execute, just generate SQL)\n",
    "rendered_sql = template.render(params)\n",
    "\n",
    "# Output the generated SQL\n",
    "print(\"Generated SQL Query:\")\n",
    "print(\"====================\")\n",
    "print(rendered_sql)\n"
   ]
  },
  {
   "cell_type": "markdown",
   "id": "5060f215-078e-4e82-9ee1-f5a1dbae6f40",
   "metadata": {},
   "source": [
    "Explanation:\n",
    "\n",
    "* Jinja2 Loop: The {% for custkey in customer_keys %} loop dynamically generates the IN clause, listing the customer keys separated by commas.\n",
    "* Conditional Logic: The {% if customer_keys %} block ensures that the IN clause is only added if the customer_keys list is not empty.\n",
    "* loop.last: This Jinja2 variable is used to avoid adding a comma after the last item in the list."
   ]
  },
  {
   "cell_type": "markdown",
   "id": "4c4faa91-8200-4874-81d9-d959001da54d",
   "metadata": {},
   "source": [
    "## 5. Access data about your data (aka metadata)"
   ]
  },
  {
   "cell_type": "markdown",
   "id": "cdef47dd-ce5d-46f8-928f-7b6666b23e3a",
   "metadata": {},
   "source": [
    "See your db documentation to see where this data is stored. For DuckDB **[checkout their docs here](https://duckdb.org/docs/sql/meta/information_schema)**."
   ]
  },
  {
   "cell_type": "markdown",
   "id": "cadcadd8-a11c-4ae7-8007-40e64b56d5b9",
   "metadata": {},
   "source": [
    "### 5.1. Databases store metadata in information_schema"
   ]
  },
  {
   "cell_type": "code",
   "execution_count": 27,
   "id": "ecca416a-69f7-4aa6-9204-f0ba22ba5f8b",
   "metadata": {},
   "outputs": [
    {
     "data": {
      "text/html": [
       "<span style=\"None\">Running query in &#x27;duckdb&#x27;</span>"
      ],
      "text/plain": [
       "Running query in 'duckdb'"
      ]
     },
     "metadata": {},
     "output_type": "display_data"
    },
    {
     "data": {
      "text/html": [
       "<table>\n",
       "    <thead>\n",
       "        <tr>\n",
       "            <th>schema_name</th>\n",
       "            <th>view_name</th>\n",
       "        </tr>\n",
       "    </thead>\n",
       "    <tbody>\n",
       "        <tr>\n",
       "            <td>information_schema</td>\n",
       "            <td>character_sets</td>\n",
       "        </tr>\n",
       "        <tr>\n",
       "            <td>information_schema</td>\n",
       "            <td>columns</td>\n",
       "        </tr>\n",
       "        <tr>\n",
       "            <td>information_schema</td>\n",
       "            <td>key_column_usage</td>\n",
       "        </tr>\n",
       "        <tr>\n",
       "            <td>information_schema</td>\n",
       "            <td>referential_constraints</td>\n",
       "        </tr>\n",
       "        <tr>\n",
       "            <td>information_schema</td>\n",
       "            <td>schemata</td>\n",
       "        </tr>\n",
       "        <tr>\n",
       "            <td>information_schema</td>\n",
       "            <td>tables</td>\n",
       "        </tr>\n",
       "        <tr>\n",
       "            <td>information_schema</td>\n",
       "            <td>table_constraints</td>\n",
       "        </tr>\n",
       "        <tr>\n",
       "            <td>main</td>\n",
       "            <td>duckdb_columns</td>\n",
       "        </tr>\n",
       "        <tr>\n",
       "            <td>main</td>\n",
       "            <td>duckdb_constraints</td>\n",
       "        </tr>\n",
       "        <tr>\n",
       "            <td>main</td>\n",
       "            <td>duckdb_databases</td>\n",
       "        </tr>\n",
       "    </tbody>\n",
       "</table>\n",
       "<span style=\"font-style:italic;text-align:center;\">Truncated to <a href=\"https://jupysql.ploomber.io/en/latest/api/configuration.html#displaylimit\">displaylimit</a> of 10.</span>"
      ],
      "text/plain": [
       "+--------------------+-------------------------+\n",
       "|    schema_name     |        view_name        |\n",
       "+--------------------+-------------------------+\n",
       "| information_schema |      character_sets     |\n",
       "| information_schema |         columns         |\n",
       "| information_schema |     key_column_usage    |\n",
       "| information_schema | referential_constraints |\n",
       "| information_schema |         schemata        |\n",
       "| information_schema |          tables         |\n",
       "| information_schema |    table_constraints    |\n",
       "|        main        |      duckdb_columns     |\n",
       "|        main        |    duckdb_constraints   |\n",
       "|        main        |     duckdb_databases    |\n",
       "+--------------------+-------------------------+\n",
       "Truncated to displaylimit of 10."
      ]
     },
     "execution_count": 27,
     "metadata": {},
     "output_type": "execute_result"
    }
   ],
   "source": [
    "%%sql\n",
    "-- Information about our tables are stored here\n",
    "SELECT schema_name,\n",
    "    view_name\n",
    "    FROM duckdb_views();"
   ]
  },
  {
   "cell_type": "code",
   "execution_count": null,
   "id": "49237cf4-eda5-41d1-b077-2298de19b7f5",
   "metadata": {},
   "outputs": [],
   "source": [
    "%%sql\n",
    "select * from information_schema.tables;"
   ]
  },
  {
   "cell_type": "code",
   "execution_count": null,
   "id": "e3e2ed67-4c0e-4d67-90a9-835c962185fd",
   "metadata": {},
   "outputs": [],
   "source": [
    "%%sql\n",
    "-- database level settings\n",
    "SELECT * FROM duckdb_settings();"
   ]
  },
  {
   "cell_type": "code",
   "execution_count": null,
   "id": "63b62e51-8a16-442e-8dbf-bf9a0c56d290",
   "metadata": {},
   "outputs": [],
   "source": [
    "%%sql\n",
    "-- list of all tables in our DuckDB \n",
    "SELECT schema_name,\n",
    "    table_name\n",
    "    FROM duckdb_tables();"
   ]
  },
  {
   "cell_type": "markdown",
   "id": "1986595b-7fc3-4348-ac74-532f9e2fe5d7",
   "metadata": {},
   "source": [
    "## 6. Avoid data duplicates with UPSERTS (aka MERGE INTO)"
   ]
  },
  {
   "cell_type": "markdown",
   "id": "784b245d-498b-42b0-a27f-e4b42214157f",
   "metadata": {},
   "source": [
    "### 6.1. Insert new data, Update existing data in a table with UPSERT/MERGE INTO"
   ]
  },
  {
   "cell_type": "code",
   "execution_count": 28,
   "id": "b39cf96f-b039-4bab-9321-5a2922f3d199",
   "metadata": {},
   "outputs": [
    {
     "data": {
      "text/html": [
       "<span style=\"None\">Running query in &#x27;duckdb&#x27;</span>"
      ],
      "text/plain": [
       "Running query in 'duckdb'"
      ]
     },
     "metadata": {},
     "output_type": "display_data"
    },
    {
     "data": {
      "text/html": [
       "<table>\n",
       "    <thead>\n",
       "        <tr>\n",
       "            <th>Count</th>\n",
       "        </tr>\n",
       "    </thead>\n",
       "    <tbody>\n",
       "        <tr>\n",
       "            <td>1500</td>\n",
       "        </tr>\n",
       "    </tbody>\n",
       "</table>"
      ],
      "text/plain": [
       "+-------+\n",
       "| Count |\n",
       "+-------+\n",
       "|  1500 |\n",
       "+-------+"
      ]
     },
     "execution_count": 28,
     "metadata": {},
     "output_type": "execute_result"
    }
   ],
   "source": [
    "%%sql\n",
    "DROP TABLE IF EXISTS dim_customer_scd2;\n",
    "-- Create a Slowly Changing Dimension (SCD Type 2) table for customer\n",
    "CREATE TABLE dim_customer_scd2 (\n",
    "    c_custkey INTEGER PRIMARY KEY,\n",
    "    c_name VARCHAR,\n",
    "    c_address VARCHAR,\n",
    "    c_nationkey INTEGER,\n",
    "    c_phone VARCHAR,\n",
    "    c_acctbal DOUBLE,\n",
    "    c_mktsegment VARCHAR,\n",
    "    c_comment VARCHAR,\n",
    "    valid_from DATE,\n",
    "    valid_to DATE,\n",
    "    is_current BOOLEAN\n",
    ");\n",
    "\n",
    "-- Insert current data from the TPCH customer table into the SCD2 table\n",
    "INSERT INTO dim_customer_scd2\n",
    "SELECT \n",
    "    c_custkey, \n",
    "    c_name, \n",
    "    c_address, \n",
    "    c_nationkey, \n",
    "    c_phone, \n",
    "    c_acctbal, \n",
    "    c_mktsegment, \n",
    "    c_comment,\n",
    "    '2024-10-17' AS valid_from,\n",
    "    NULL AS valid_to,  -- NULL means it's the current active record\n",
    "    TRUE AS is_current\n",
    "FROM customer;"
   ]
  },
  {
   "cell_type": "code",
   "execution_count": 29,
   "id": "381b5f30-c2a3-429b-9566-90f631ec2546",
   "metadata": {},
   "outputs": [
    {
     "data": {
      "text/html": [
       "<span style=\"None\">Running query in &#x27;duckdb&#x27;</span>"
      ],
      "text/plain": [
       "Running query in 'duckdb'"
      ]
     },
     "metadata": {},
     "output_type": "display_data"
    },
    {
     "data": {
      "text/html": [
       "<table>\n",
       "    <thead>\n",
       "        <tr>\n",
       "            <th>c_custkey</th>\n",
       "            <th>c_name</th>\n",
       "            <th>c_address</th>\n",
       "            <th>c_nationkey</th>\n",
       "            <th>c_phone</th>\n",
       "            <th>c_acctbal</th>\n",
       "            <th>c_mktsegment</th>\n",
       "            <th>c_comment</th>\n",
       "            <th>valid_from</th>\n",
       "            <th>valid_to</th>\n",
       "            <th>is_current</th>\n",
       "        </tr>\n",
       "    </thead>\n",
       "    <tbody>\n",
       "        <tr>\n",
       "            <td>1500</td>\n",
       "            <td>Customer#000001500</td>\n",
       "            <td>XsQC6tx467elIdbQExWX</td>\n",
       "            <td>5</td>\n",
       "            <td>15-200-872-4790</td>\n",
       "            <td>6910.79</td>\n",
       "            <td>MACHINERY</td>\n",
       "            <td> pending theodolites haggle boldly after the pending accounts. caref</td>\n",
       "            <td>2024-10-17</td>\n",
       "            <td>None</td>\n",
       "            <td>True</td>\n",
       "        </tr>\n",
       "        <tr>\n",
       "            <td>1499</td>\n",
       "            <td>Customer#000001499</td>\n",
       "            <td>X0UH4dmALDy3GvJqTKz,fR7O4iFQhdxWPy</td>\n",
       "            <td>3</td>\n",
       "            <td>13-273-527-9609</td>\n",
       "            <td>9128.69</td>\n",
       "            <td>AUTOMOBILE</td>\n",
       "            <td>ts are. regular asymptotes wake evenly regular accounts. rut</td>\n",
       "            <td>2024-10-17</td>\n",
       "            <td>None</td>\n",
       "            <td>True</td>\n",
       "        </tr>\n",
       "    </tbody>\n",
       "</table>"
      ],
      "text/plain": [
       "+-----------+--------------------+------------------------------------+-------------+-----------------+-----------+--------------+----------------------------------------------------------------------+------------+----------+------------+\n",
       "| c_custkey |       c_name       |             c_address              | c_nationkey |     c_phone     | c_acctbal | c_mktsegment |                              c_comment                               | valid_from | valid_to | is_current |\n",
       "+-----------+--------------------+------------------------------------+-------------+-----------------+-----------+--------------+----------------------------------------------------------------------+------------+----------+------------+\n",
       "|    1500   | Customer#000001500 |        XsQC6tx467elIdbQExWX        |      5      | 15-200-872-4790 |  6910.79  |  MACHINERY   |  pending theodolites haggle boldly after the pending accounts. caref | 2024-10-17 |   None   |    True    |\n",
       "|    1499   | Customer#000001499 | X0UH4dmALDy3GvJqTKz,fR7O4iFQhdxWPy |      3      | 13-273-527-9609 |  9128.69  |  AUTOMOBILE  |     ts are. regular asymptotes wake evenly regular accounts. rut     | 2024-10-17 |   None   |    True    |\n",
       "+-----------+--------------------+------------------------------------+-------------+-----------------+-----------+--------------+----------------------------------------------------------------------+------------+----------+------------+"
      ]
     },
     "execution_count": 29,
     "metadata": {},
     "output_type": "execute_result"
    }
   ],
   "source": [
    "%%sql\n",
    "select * from dim_customer_scd2 order by c_custkey desc limit 2 ;"
   ]
  },
  {
   "cell_type": "code",
   "execution_count": 30,
   "id": "7d9878fb-e028-45c3-9a3a-19bc81d888a8",
   "metadata": {},
   "outputs": [
    {
     "data": {
      "text/html": [
       "<span style=\"None\">Running query in &#x27;duckdb&#x27;</span>"
      ],
      "text/plain": [
       "Running query in 'duckdb'"
      ]
     },
     "metadata": {},
     "output_type": "display_data"
    },
    {
     "data": {
      "text/html": [
       "<table>\n",
       "    <thead>\n",
       "        <tr>\n",
       "            <th>Count</th>\n",
       "        </tr>\n",
       "    </thead>\n",
       "    <tbody>\n",
       "        <tr>\n",
       "            <td>4</td>\n",
       "        </tr>\n",
       "    </tbody>\n",
       "</table>"
      ],
      "text/plain": [
       "+-------+\n",
       "| Count |\n",
       "+-------+\n",
       "|   4   |\n",
       "+-------+"
      ]
     },
     "execution_count": 30,
     "metadata": {},
     "output_type": "execute_result"
    }
   ],
   "source": [
    "%%sql\n",
    "INSERT INTO dim_customer_scd2 (\n",
    "    c_custkey, \n",
    "    c_name, \n",
    "    c_address, \n",
    "    c_nationkey, \n",
    "    c_phone, \n",
    "    c_acctbal, \n",
    "    c_mktsegment, \n",
    "    c_comment, \n",
    "    valid_from, \n",
    "    valid_to, \n",
    "    is_current\n",
    ")\n",
    "VALUES\n",
    "    (1, 'Customer#000000001', 'New Address 1', 15, '25-989-741-2988', 711.56, 'BUILDING', 'comment1', '2024-10-18', NULL, TRUE),\n",
    "    (2, 'Customer#000000002', 'New Address 2', 18, '12-423-790-3665', 879.49, 'FURNITURE', 'comment2', '2024-10-18', NULL, TRUE),\n",
    "    (1501, 'Customer#000001501', 'New Address 1501', 24, '11-345-678-9012', 500.50, 'MACHINERY', 'comment1501', '2024-10-18', NULL, TRUE),\n",
    "    (1502, 'Customer#000001502', 'New Address 1502', 21, '22-456-789-0123', 600.75, 'AUTOMOBILE', 'comment1502', '2024-10-18', NULL, TRUE)\n",
    "ON CONFLICT (c_custkey) DO \n",
    "-- Handle existing customers (Customer#000000001 and Customer#000000002) for SCD Type 2\n",
    "UPDATE SET valid_to = EXCLUDED.valid_from, is_current = FALSE\n",
    "WHERE dim_customer_scd2.c_custkey = EXCLUDED.c_custkey AND dim_customer_scd2.is_current = TRUE;"
   ]
  },
  {
   "cell_type": "code",
   "execution_count": 31,
   "id": "5d770bce-63da-41ab-b2e5-39c273c7139b",
   "metadata": {},
   "outputs": [
    {
     "data": {
      "text/html": [
       "<span style=\"None\">Running query in &#x27;duckdb&#x27;</span>"
      ],
      "text/plain": [
       "Running query in 'duckdb'"
      ]
     },
     "metadata": {},
     "output_type": "display_data"
    },
    {
     "data": {
      "text/html": [
       "<table>\n",
       "    <thead>\n",
       "        <tr>\n",
       "            <th>c_custkey</th>\n",
       "            <th>c_name</th>\n",
       "            <th>c_address</th>\n",
       "            <th>c_nationkey</th>\n",
       "            <th>c_phone</th>\n",
       "            <th>c_acctbal</th>\n",
       "            <th>c_mktsegment</th>\n",
       "            <th>c_comment</th>\n",
       "            <th>valid_from</th>\n",
       "            <th>valid_to</th>\n",
       "            <th>is_current</th>\n",
       "        </tr>\n",
       "    </thead>\n",
       "    <tbody>\n",
       "        <tr>\n",
       "            <td>1</td>\n",
       "            <td>Customer#000000001</td>\n",
       "            <td>j5JsirBM9PsCy0O1m</td>\n",
       "            <td>15</td>\n",
       "            <td>25-989-741-2988</td>\n",
       "            <td>711.56</td>\n",
       "            <td>BUILDING</td>\n",
       "            <td>y final requests wake slyly quickly special accounts. blithely</td>\n",
       "            <td>2024-10-17</td>\n",
       "            <td>2024-10-18</td>\n",
       "            <td>False</td>\n",
       "        </tr>\n",
       "        <tr>\n",
       "            <td>2</td>\n",
       "            <td>Customer#000000002</td>\n",
       "            <td>487LW1dovn6Q4dMVymKwwLE9OKf3QG</td>\n",
       "            <td>13</td>\n",
       "            <td>23-768-687-3665</td>\n",
       "            <td>121.65</td>\n",
       "            <td>AUTOMOBILE</td>\n",
       "            <td>y carefully regular foxes. slyly regular requests about the bli</td>\n",
       "            <td>2024-10-17</td>\n",
       "            <td>2024-10-18</td>\n",
       "            <td>False</td>\n",
       "        </tr>\n",
       "        <tr>\n",
       "            <td>1501</td>\n",
       "            <td>Customer#000001501</td>\n",
       "            <td>New Address 1501</td>\n",
       "            <td>24</td>\n",
       "            <td>11-345-678-9012</td>\n",
       "            <td>500.5</td>\n",
       "            <td>MACHINERY</td>\n",
       "            <td>comment1501</td>\n",
       "            <td>2024-10-18</td>\n",
       "            <td>None</td>\n",
       "            <td>True</td>\n",
       "        </tr>\n",
       "        <tr>\n",
       "            <td>1502</td>\n",
       "            <td>Customer#000001502</td>\n",
       "            <td>New Address 1502</td>\n",
       "            <td>21</td>\n",
       "            <td>22-456-789-0123</td>\n",
       "            <td>600.75</td>\n",
       "            <td>AUTOMOBILE</td>\n",
       "            <td>comment1502</td>\n",
       "            <td>2024-10-18</td>\n",
       "            <td>None</td>\n",
       "            <td>True</td>\n",
       "        </tr>\n",
       "    </tbody>\n",
       "</table>"
      ],
      "text/plain": [
       "+-----------+--------------------+--------------------------------+-------------+-----------------+-----------+--------------+-----------------------------------------------------------------+------------+------------+------------+\n",
       "| c_custkey |       c_name       |           c_address            | c_nationkey |     c_phone     | c_acctbal | c_mktsegment |                            c_comment                            | valid_from |  valid_to  | is_current |\n",
       "+-----------+--------------------+--------------------------------+-------------+-----------------+-----------+--------------+-----------------------------------------------------------------+------------+------------+------------+\n",
       "|     1     | Customer#000000001 |       j5JsirBM9PsCy0O1m        |      15     | 25-989-741-2988 |   711.56  |   BUILDING   |  y final requests wake slyly quickly special accounts. blithely | 2024-10-17 | 2024-10-18 |   False    |\n",
       "|     2     | Customer#000000002 | 487LW1dovn6Q4dMVymKwwLE9OKf3QG |      13     | 23-768-687-3665 |   121.65  |  AUTOMOBILE  | y carefully regular foxes. slyly regular requests about the bli | 2024-10-17 | 2024-10-18 |   False    |\n",
       "|    1501   | Customer#000001501 |        New Address 1501        |      24     | 11-345-678-9012 |   500.5   |  MACHINERY   |                           comment1501                           | 2024-10-18 |    None    |    True    |\n",
       "|    1502   | Customer#000001502 |        New Address 1502        |      21     | 22-456-789-0123 |   600.75  |  AUTOMOBILE  |                           comment1502                           | 2024-10-18 |    None    |    True    |\n",
       "+-----------+--------------------+--------------------------------+-------------+-----------------+-----------+--------------+-----------------------------------------------------------------+------------+------------+------------+"
      ]
     },
     "execution_count": 31,
     "metadata": {},
     "output_type": "execute_result"
    }
   ],
   "source": [
    "%%sql\n",
    "SELECT * from dim_customer_scd2\n",
    "WHERE c_custkey in (1,2,1501, 1502)\n",
    "order by c_custkey;"
   ]
  },
  {
   "cell_type": "markdown",
   "id": "a36e44f2-5aa7-424d-be46-08c3b587e7f2",
   "metadata": {},
   "source": [
    "In the above example, we can see that we create an **[SCD2](https://www.startdataengineering.com/post/how-to-join-fact-scd2-tables/#what-is-an-scd2-table-and-why-use-it)** table and UPSERT new data into it using UPSERT.\n",
    "\n",
    "**Note** Some DBs have `INSERT..ON CONFLICT` and some have access to `MERGE INTO..` Check your DB/Table format documentation for details.                                                            "
   ]
  },
  {
   "cell_type": "markdown",
   "id": "e10284d2-2fa3-458a-b45a-0e23da0d7e45",
   "metadata": {},
   "source": [
    "## 7. Advanced JOIN types"
   ]
  },
  {
   "cell_type": "markdown",
   "id": "93a150b8-44e6-4fc4-b2ed-3729a8d30171",
   "metadata": {},
   "source": [
    "### 7.1. Get value from table2 that is closest(in time) to table1's row with ASOF JOIN "
   ]
  },
  {
   "cell_type": "code",
   "execution_count": 32,
   "id": "7e94b561-d2e3-48fd-8d1f-d77359d83086",
   "metadata": {},
   "outputs": [
    {
     "data": {
      "text/html": [
       "<span style=\"None\">Running query in &#x27;duckdb&#x27;</span>"
      ],
      "text/plain": [
       "Running query in 'duckdb'"
      ]
     },
     "metadata": {},
     "output_type": "display_data"
    },
    {
     "data": {
      "text/html": [
       "<table>\n",
       "    <thead>\n",
       "        <tr>\n",
       "            <th>ticker</th>\n",
       "            <th>when</th>\n",
       "            <th>stock_price_ts</th>\n",
       "            <th>price</th>\n",
       "            <th>shares</th>\n",
       "            <th>value</th>\n",
       "        </tr>\n",
       "    </thead>\n",
       "    <tbody>\n",
       "        <tr>\n",
       "            <td>APPL</td>\n",
       "            <td>2001-01-01 00:00:30</td>\n",
       "            <td>2001-01-01 00:00:00</td>\n",
       "            <td>1</td>\n",
       "            <td>2.94</td>\n",
       "            <td>2.94</td>\n",
       "        </tr>\n",
       "        <tr>\n",
       "            <td>APPL</td>\n",
       "            <td>2001-01-01 00:01:30</td>\n",
       "            <td>2001-01-01 00:01:00</td>\n",
       "            <td>2</td>\n",
       "            <td>24.13</td>\n",
       "            <td>48.26</td>\n",
       "        </tr>\n",
       "        <tr>\n",
       "            <td>GOOG</td>\n",
       "            <td>2001-01-01 00:00:30</td>\n",
       "            <td>2001-01-01 00:00:00</td>\n",
       "            <td>1</td>\n",
       "            <td>23.45</td>\n",
       "            <td>23.45</td>\n",
       "        </tr>\n",
       "        <tr>\n",
       "            <td>GOOG</td>\n",
       "            <td>2001-01-01 00:01:30</td>\n",
       "            <td>2001-01-01 00:01:00</td>\n",
       "            <td>2</td>\n",
       "            <td>10.58</td>\n",
       "            <td>21.16</td>\n",
       "        </tr>\n",
       "    </tbody>\n",
       "</table>"
      ],
      "text/plain": [
       "+--------+---------------------+---------------------+-------+--------+-------+\n",
       "| ticker |         when        |    stock_price_ts   | price | shares | value |\n",
       "+--------+---------------------+---------------------+-------+--------+-------+\n",
       "|  APPL  | 2001-01-01 00:00:30 | 2001-01-01 00:00:00 |   1   |  2.94  |  2.94 |\n",
       "|  APPL  | 2001-01-01 00:01:30 | 2001-01-01 00:01:00 |   2   | 24.13  | 48.26 |\n",
       "|  GOOG  | 2001-01-01 00:00:30 | 2001-01-01 00:00:00 |   1   | 23.45  | 23.45 |\n",
       "|  GOOG  | 2001-01-01 00:01:30 | 2001-01-01 00:01:00 |   2   | 10.58  | 21.16 |\n",
       "+--------+---------------------+---------------------+-------+--------+-------+"
      ]
     },
     "execution_count": 32,
     "metadata": {},
     "output_type": "execute_result"
    }
   ],
   "source": [
    "%%sql\n",
    "WITH stock_prices AS (\n",
    "    SELECT 'APPL' AS ticker, TIMESTAMP '2001-01-01 00:00:00' AS \"when\", 1 AS price\n",
    "    UNION ALL\n",
    "    SELECT 'APPL', TIMESTAMP '2001-01-01 00:01:00', 2\n",
    "    UNION ALL\n",
    "    SELECT 'APPL', TIMESTAMP '2001-01-01 00:02:00', 3\n",
    "    UNION ALL\n",
    "    SELECT 'MSFT', TIMESTAMP '2001-01-01 00:00:00', 1\n",
    "    UNION ALL\n",
    "    SELECT 'MSFT', TIMESTAMP '2001-01-01 00:01:00', 2\n",
    "    UNION ALL\n",
    "    SELECT 'MSFT', TIMESTAMP '2001-01-01 00:02:00', 3\n",
    "    UNION ALL\n",
    "    SELECT 'GOOG', TIMESTAMP '2001-01-01 00:00:00', 1\n",
    "    UNION ALL\n",
    "    SELECT 'GOOG', TIMESTAMP '2001-01-01 00:01:00', 2\n",
    "    UNION ALL\n",
    "    SELECT 'GOOG', TIMESTAMP '2001-01-01 00:02:00', 3\n",
    "),\n",
    "portfolio_holdings AS (\n",
    "    SELECT 'APPL' AS ticker, TIMESTAMP '2000-12-31 23:59:30' AS \"when\", 5.16 AS shares\n",
    "    UNION ALL\n",
    "    SELECT 'APPL', TIMESTAMP '2001-01-01 00:00:30', 2.94\n",
    "    UNION ALL\n",
    "    SELECT 'APPL', TIMESTAMP '2001-01-01 00:01:30', 24.13\n",
    "    UNION ALL\n",
    "    SELECT 'GOOG', TIMESTAMP '2000-12-31 23:59:30', 9.33\n",
    "    UNION ALL\n",
    "    SELECT 'GOOG', TIMESTAMP '2001-01-01 00:00:30', 23.45\n",
    "    UNION ALL\n",
    "    SELECT 'GOOG', TIMESTAMP '2001-01-01 00:01:30', 10.58\n",
    "    UNION ALL\n",
    "    SELECT 'DATA', TIMESTAMP '2000-12-31 23:59:30', 6.65\n",
    "    UNION ALL\n",
    "    SELECT 'DATA', TIMESTAMP '2001-01-01 00:00:30', 17.95\n",
    "    UNION ALL\n",
    "    SELECT 'DATA', TIMESTAMP '2001-01-01 00:01:30', 18.37\n",
    ")\n",
    "SELECT h.ticker,\n",
    "    h.when,\n",
    "    p.when as stock_price_ts,\n",
    "    price,\n",
    "    shares,\n",
    "    price * shares AS value\n",
    "FROM portfolio_holdings h\n",
    "ASOF JOIN stock_prices p\n",
    "       ON h.ticker = p.ticker\n",
    "      AND h.when >= p.when\n",
    "ORDER BY 1, 2;"
   ]
  },
  {
   "cell_type": "markdown",
   "id": "065fffa7-3b97-4986-ae61-84a6714c727f",
   "metadata": {},
   "source": [
    "AsOf joins are used to solve is finding the value of a varying property at a specific point in time. This use case is so common that it is where the name came from:\n",
    "\n",
    "**Give me the value of the property as of this time.**\n",
    "\n",
    "In the above example, note that even thought rows in `portfolio_holdings` match with multiple rows in `stock_prices` we only pick the row from `stock_price` that is closest(in time) to row in `portfolio_holdings`."
   ]
  },
  {
   "cell_type": "code",
   "execution_count": 33,
   "id": "dde7c987-60b6-40a4-920d-54b91e653b56",
   "metadata": {},
   "outputs": [
    {
     "data": {
      "text/html": [
       "<span style=\"None\">Running query in &#x27;duckdb&#x27;</span>"
      ],
      "text/plain": [
       "Running query in 'duckdb'"
      ]
     },
     "metadata": {},
     "output_type": "display_data"
    },
    {
     "data": {
      "text/html": [
       "<table>\n",
       "    <thead>\n",
       "        <tr>\n",
       "            <th>ticker</th>\n",
       "            <th>when</th>\n",
       "            <th>stock_price_ts</th>\n",
       "            <th>price</th>\n",
       "            <th>shares</th>\n",
       "            <th>value</th>\n",
       "        </tr>\n",
       "    </thead>\n",
       "    <tbody>\n",
       "        <tr>\n",
       "            <td>APPL</td>\n",
       "            <td>2001-01-01 00:00:30</td>\n",
       "            <td>2001-01-01 00:00:00</td>\n",
       "            <td>1</td>\n",
       "            <td>2.94</td>\n",
       "            <td>2.94</td>\n",
       "        </tr>\n",
       "        <tr>\n",
       "            <td>APPL</td>\n",
       "            <td>2001-01-01 00:01:30</td>\n",
       "            <td>2001-01-01 00:00:00</td>\n",
       "            <td>1</td>\n",
       "            <td>24.13</td>\n",
       "            <td>24.13</td>\n",
       "        </tr>\n",
       "        <tr>\n",
       "            <td>APPL</td>\n",
       "            <td>2001-01-01 00:01:30</td>\n",
       "            <td>2001-01-01 00:01:00</td>\n",
       "            <td>2</td>\n",
       "            <td>24.13</td>\n",
       "            <td>48.26</td>\n",
       "        </tr>\n",
       "        <tr>\n",
       "            <td>GOOG</td>\n",
       "            <td>2001-01-01 00:00:30</td>\n",
       "            <td>2001-01-01 00:00:00</td>\n",
       "            <td>1</td>\n",
       "            <td>23.45</td>\n",
       "            <td>23.45</td>\n",
       "        </tr>\n",
       "        <tr>\n",
       "            <td>GOOG</td>\n",
       "            <td>2001-01-01 00:01:30</td>\n",
       "            <td>2001-01-01 00:00:00</td>\n",
       "            <td>1</td>\n",
       "            <td>10.58</td>\n",
       "            <td>10.58</td>\n",
       "        </tr>\n",
       "        <tr>\n",
       "            <td>GOOG</td>\n",
       "            <td>2001-01-01 00:01:30</td>\n",
       "            <td>2001-01-01 00:01:00</td>\n",
       "            <td>2</td>\n",
       "            <td>10.58</td>\n",
       "            <td>21.16</td>\n",
       "        </tr>\n",
       "    </tbody>\n",
       "</table>"
      ],
      "text/plain": [
       "+--------+---------------------+---------------------+-------+--------+-------+\n",
       "| ticker |         when        |    stock_price_ts   | price | shares | value |\n",
       "+--------+---------------------+---------------------+-------+--------+-------+\n",
       "|  APPL  | 2001-01-01 00:00:30 | 2001-01-01 00:00:00 |   1   |  2.94  |  2.94 |\n",
       "|  APPL  | 2001-01-01 00:01:30 | 2001-01-01 00:00:00 |   1   | 24.13  | 24.13 |\n",
       "|  APPL  | 2001-01-01 00:01:30 | 2001-01-01 00:01:00 |   2   | 24.13  | 48.26 |\n",
       "|  GOOG  | 2001-01-01 00:00:30 | 2001-01-01 00:00:00 |   1   | 23.45  | 23.45 |\n",
       "|  GOOG  | 2001-01-01 00:01:30 | 2001-01-01 00:00:00 |   1   | 10.58  | 10.58 |\n",
       "|  GOOG  | 2001-01-01 00:01:30 | 2001-01-01 00:01:00 |   2   | 10.58  | 21.16 |\n",
       "+--------+---------------------+---------------------+-------+--------+-------+"
      ]
     },
     "execution_count": 33,
     "metadata": {},
     "output_type": "execute_result"
    }
   ],
   "source": [
    "%%sql\n",
    "WITH stock_prices AS (\n",
    "    SELECT 'APPL' AS ticker, TIMESTAMP '2001-01-01 00:00:00' AS \"when\", 1 AS price\n",
    "    UNION ALL\n",
    "    SELECT 'APPL', TIMESTAMP '2001-01-01 00:01:00', 2\n",
    "    UNION ALL\n",
    "    SELECT 'APPL', TIMESTAMP '2001-01-01 00:02:00', 3\n",
    "    UNION ALL\n",
    "    SELECT 'MSFT', TIMESTAMP '2001-01-01 00:00:00', 1\n",
    "    UNION ALL\n",
    "    SELECT 'MSFT', TIMESTAMP '2001-01-01 00:01:00', 2\n",
    "    UNION ALL\n",
    "    SELECT 'MSFT', TIMESTAMP '2001-01-01 00:02:00', 3\n",
    "    UNION ALL\n",
    "    SELECT 'GOOG', TIMESTAMP '2001-01-01 00:00:00', 1\n",
    "    UNION ALL\n",
    "    SELECT 'GOOG', TIMESTAMP '2001-01-01 00:01:00', 2\n",
    "    UNION ALL\n",
    "    SELECT 'GOOG', TIMESTAMP '2001-01-01 00:02:00', 3\n",
    "),\n",
    "portfolio_holdings AS (\n",
    "    SELECT 'APPL' AS ticker, TIMESTAMP '2000-12-31 23:59:30' AS \"when\", 5.16 AS shares\n",
    "    UNION ALL\n",
    "    SELECT 'APPL', TIMESTAMP '2001-01-01 00:00:30', 2.94\n",
    "    UNION ALL\n",
    "    SELECT 'APPL', TIMESTAMP '2001-01-01 00:01:30', 24.13\n",
    "    UNION ALL\n",
    "    SELECT 'GOOG', TIMESTAMP '2000-12-31 23:59:30', 9.33\n",
    "    UNION ALL\n",
    "    SELECT 'GOOG', TIMESTAMP '2001-01-01 00:00:30', 23.45\n",
    "    UNION ALL\n",
    "    SELECT 'GOOG', TIMESTAMP '2001-01-01 00:01:30', 10.58\n",
    "    UNION ALL\n",
    "    SELECT 'DATA', TIMESTAMP '2000-12-31 23:59:30', 6.65\n",
    "    UNION ALL\n",
    "    SELECT 'DATA', TIMESTAMP '2001-01-01 00:00:30', 17.95\n",
    "    UNION ALL\n",
    "    SELECT 'DATA', TIMESTAMP '2001-01-01 00:01:30', 18.37\n",
    ")\n",
    "SELECT h.ticker,\n",
    "    h.when,\n",
    "    p.when as stock_price_ts,\n",
    "    price,\n",
    "    shares,\n",
    "    price * shares AS value\n",
    "FROM portfolio_holdings h\n",
    " JOIN stock_prices p\n",
    "       ON h.ticker = p.ticker\n",
    "      AND h.when >= p.when\n",
    "ORDER BY 1, 2;"
   ]
  },
  {
   "cell_type": "markdown",
   "id": "dc0a0430-a533-46d0-a5e7-dee9a6f47927",
   "metadata": {},
   "source": [
    "If we do not use `asof` join, we will have to use windows to filter out data. \n",
    "![as of join](./images/asof.png)"
   ]
  },
  {
   "cell_type": "markdown",
   "id": "0cf993b3-59b7-40cb-b822-16a982dfc500",
   "metadata": {},
   "source": [
    "### 7.2. Get rows in table1 that are not in table2 with ANTI JOIN"
   ]
  },
  {
   "cell_type": "code",
   "execution_count": 34,
   "id": "caed5403-48bf-4633-b552-58115aab8691",
   "metadata": {},
   "outputs": [
    {
     "data": {
      "text/html": [
       "<span style=\"None\">Running query in &#x27;duckdb&#x27;</span>"
      ],
      "text/plain": [
       "Running query in 'duckdb'"
      ]
     },
     "metadata": {},
     "output_type": "display_data"
    },
    {
     "data": {
      "text/html": [
       "<table>\n",
       "    <thead>\n",
       "        <tr>\n",
       "            <th>c_custkey</th>\n",
       "        </tr>\n",
       "    </thead>\n",
       "    <tbody>\n",
       "        <tr>\n",
       "            <td>3</td>\n",
       "        </tr>\n",
       "        <tr>\n",
       "            <td>6</td>\n",
       "        </tr>\n",
       "        <tr>\n",
       "            <td>9</td>\n",
       "        </tr>\n",
       "        <tr>\n",
       "            <td>12</td>\n",
       "        </tr>\n",
       "        <tr>\n",
       "            <td>15</td>\n",
       "        </tr>\n",
       "    </tbody>\n",
       "</table>"
      ],
      "text/plain": [
       "+-----------+\n",
       "| c_custkey |\n",
       "+-----------+\n",
       "|     3     |\n",
       "|     6     |\n",
       "|     9     |\n",
       "|     12    |\n",
       "|     15    |\n",
       "+-----------+"
      ]
     },
     "execution_count": 34,
     "metadata": {},
     "output_type": "execute_result"
    }
   ],
   "source": [
    "%%sql\n",
    "SELECT c.c_custkey\n",
    "FROM customer c\n",
    "LEFT JOIN orders o\n",
    "ON c.c_custkey = o.o_custkey\n",
    "WHERE o.o_custkey IS NULL\n",
    "ORDER BY c.c_custkey\n",
    "LIMIT 5;"
   ]
  },
  {
   "cell_type": "code",
   "execution_count": 35,
   "id": "5cfde222-a045-429c-befd-baf4efd2aa6a",
   "metadata": {},
   "outputs": [
    {
     "data": {
      "text/html": [
       "<span style=\"None\">Running query in &#x27;duckdb&#x27;</span>"
      ],
      "text/plain": [
       "Running query in 'duckdb'"
      ]
     },
     "metadata": {},
     "output_type": "display_data"
    },
    {
     "data": {
      "text/html": [
       "<table>\n",
       "    <thead>\n",
       "        <tr>\n",
       "            <th>c_custkey</th>\n",
       "        </tr>\n",
       "    </thead>\n",
       "    <tbody>\n",
       "        <tr>\n",
       "            <td>3</td>\n",
       "        </tr>\n",
       "        <tr>\n",
       "            <td>6</td>\n",
       "        </tr>\n",
       "        <tr>\n",
       "            <td>9</td>\n",
       "        </tr>\n",
       "        <tr>\n",
       "            <td>12</td>\n",
       "        </tr>\n",
       "        <tr>\n",
       "            <td>15</td>\n",
       "        </tr>\n",
       "    </tbody>\n",
       "</table>"
      ],
      "text/plain": [
       "+-----------+\n",
       "| c_custkey |\n",
       "+-----------+\n",
       "|     3     |\n",
       "|     6     |\n",
       "|     9     |\n",
       "|     12    |\n",
       "|     15    |\n",
       "+-----------+"
      ]
     },
     "execution_count": 35,
     "metadata": {},
     "output_type": "execute_result"
    }
   ],
   "source": [
    "%%sql\n",
    "-- some DBs have inbuilt support for left anti join\n",
    "SELECT c.c_custkey\n",
    "FROM customer c\n",
    "ANTI JOIN orders o\n",
    "ON c.c_custkey = o.o_custkey\n",
    "ORDER BY c.c_custkey\n",
    "LIMIT 5;"
   ]
  },
  {
   "cell_type": "markdown",
   "id": "59c28d1e-3cf6-440b-80c3-5cd1719339c7",
   "metadata": {},
   "source": [
    "### 7.3. For every row in table1 join will all the \"matching\" rows in table2 with LATERAL JOIN"
   ]
  },
  {
   "cell_type": "code",
   "execution_count": 36,
   "id": "14a02a29-903a-4da4-9c91-7667152c1ec8",
   "metadata": {},
   "outputs": [
    {
     "data": {
      "text/html": [
       "<span style=\"None\">Running query in &#x27;duckdb&#x27;</span>"
      ],
      "text/plain": [
       "Running query in 'duckdb'"
      ]
     },
     "metadata": {},
     "output_type": "display_data"
    },
    {
     "data": {
      "text/html": [
       "<table>\n",
       "    <thead>\n",
       "        <tr>\n",
       "            <th>o_orderkey</th>\n",
       "            <th>o_totalprice</th>\n",
       "            <th>l_linenumber</th>\n",
       "            <th>l_extendedprice</th>\n",
       "        </tr>\n",
       "    </thead>\n",
       "    <tbody>\n",
       "        <tr>\n",
       "            <td>1</td>\n",
       "            <td>172799.49</td>\n",
       "            <td>1</td>\n",
       "            <td>24710.35</td>\n",
       "        </tr>\n",
       "        <tr>\n",
       "            <td>1</td>\n",
       "            <td>172799.49</td>\n",
       "            <td>2</td>\n",
       "            <td>56688.12</td>\n",
       "        </tr>\n",
       "        <tr>\n",
       "            <td>3</td>\n",
       "            <td>205654.30</td>\n",
       "            <td>1</td>\n",
       "            <td>42436.80</td>\n",
       "        </tr>\n",
       "        <tr>\n",
       "            <td>3</td>\n",
       "            <td>205654.30</td>\n",
       "            <td>2</td>\n",
       "            <td>53468.31</td>\n",
       "        </tr>\n",
       "        <tr>\n",
       "            <td>5</td>\n",
       "            <td>105367.67</td>\n",
       "            <td>1</td>\n",
       "            <td>14806.20</td>\n",
       "        </tr>\n",
       "        <tr>\n",
       "            <td>5</td>\n",
       "            <td>105367.67</td>\n",
       "            <td>2</td>\n",
       "            <td>29672.24</td>\n",
       "        </tr>\n",
       "        <tr>\n",
       "            <td>7</td>\n",
       "            <td>271885.66</td>\n",
       "            <td>1</td>\n",
       "            <td>20673.84</td>\n",
       "        </tr>\n",
       "        <tr>\n",
       "            <td>7</td>\n",
       "            <td>271885.66</td>\n",
       "            <td>2</td>\n",
       "            <td>12190.05</td>\n",
       "        </tr>\n",
       "        <tr>\n",
       "            <td>32</td>\n",
       "            <td>198665.57</td>\n",
       "            <td>1</td>\n",
       "            <td>48406.96</td>\n",
       "        </tr>\n",
       "        <tr>\n",
       "            <td>32</td>\n",
       "            <td>198665.57</td>\n",
       "            <td>2</td>\n",
       "            <td>60223.36</td>\n",
       "        </tr>\n",
       "    </tbody>\n",
       "</table>\n",
       "<span style=\"font-style:italic;text-align:center;\">Truncated to <a href=\"https://jupysql.ploomber.io/en/latest/api/configuration.html#displaylimit\">displaylimit</a> of 10.</span>"
      ],
      "text/plain": [
       "+------------+--------------+--------------+-----------------+\n",
       "| o_orderkey | o_totalprice | l_linenumber | l_extendedprice |\n",
       "+------------+--------------+--------------+-----------------+\n",
       "|     1      |  172799.49   |      1       |     24710.35    |\n",
       "|     1      |  172799.49   |      2       |     56688.12    |\n",
       "|     3      |  205654.30   |      1       |     42436.80    |\n",
       "|     3      |  205654.30   |      2       |     53468.31    |\n",
       "|     5      |  105367.67   |      1       |     14806.20    |\n",
       "|     5      |  105367.67   |      2       |     29672.24    |\n",
       "|     7      |  271885.66   |      1       |     20673.84    |\n",
       "|     7      |  271885.66   |      2       |     12190.05    |\n",
       "|     32     |  198665.57   |      1       |     48406.96    |\n",
       "|     32     |  198665.57   |      2       |     60223.36    |\n",
       "+------------+--------------+--------------+-----------------+\n",
       "Truncated to displaylimit of 10."
      ]
     },
     "execution_count": 36,
     "metadata": {},
     "output_type": "execute_result"
    }
   ],
   "source": [
    "%%sql\n",
    "SELECT \n",
    "    o.o_orderkey, \n",
    "    o.o_totalprice, \n",
    "    l.l_linenumber,\n",
    "    l.l_extendedprice\n",
    "FROM orders o,\n",
    "LATERAL (\n",
    "    SELECT l.l_linenumber,\n",
    "    l_extendedprice\n",
    "    FROM lineitem l\n",
    "    WHERE l.l_orderkey = o.o_orderkey\n",
    "    and l.l_linenumber <= 2\n",
    "    and l.l_extendedprice < (o.o_totalprice/2)\n",
    ") AS l\n",
    "    ORDER BY 1, 3;"
   ]
  },
  {
   "cell_type": "markdown",
   "id": "9067940b-8697-4d4b-8ab5-1b7292ec1837",
   "metadata": {},
   "source": [
    "For each row in the orders table (o), the subquery in the LATERAL JOIN selects line items (l) that match certain conditions."
   ]
  },
  {
   "cell_type": "code",
   "execution_count": 37,
   "id": "0e76969b-a8ff-437a-9a67-1a887164cf98",
   "metadata": {},
   "outputs": [
    {
     "data": {
      "text/html": [
       "<span style=\"None\">Running query in &#x27;duckdb&#x27;</span>"
      ],
      "text/plain": [
       "Running query in 'duckdb'"
      ]
     },
     "metadata": {},
     "output_type": "display_data"
    },
    {
     "data": {
      "text/html": [
       "<table>\n",
       "    <thead>\n",
       "        <tr>\n",
       "            <th>i</th>\n",
       "            <th>j</th>\n",
       "        </tr>\n",
       "    </thead>\n",
       "    <tbody>\n",
       "        <tr>\n",
       "            <td>0</td>\n",
       "            <td>1</td>\n",
       "        </tr>\n",
       "        <tr>\n",
       "            <td>2</td>\n",
       "            <td>3</td>\n",
       "        </tr>\n",
       "        <tr>\n",
       "            <td>1</td>\n",
       "            <td>2</td>\n",
       "        </tr>\n",
       "    </tbody>\n",
       "</table>"
      ],
      "text/plain": [
       "+---+---+\n",
       "| i | j |\n",
       "+---+---+\n",
       "| 0 | 1 |\n",
       "| 2 | 3 |\n",
       "| 1 | 2 |\n",
       "+---+---+"
      ]
     },
     "execution_count": 37,
     "metadata": {},
     "output_type": "execute_result"
    }
   ],
   "source": [
    "%%sql\n",
    "SELECT *\n",
    "FROM range(3) t(i), LATERAL (SELECT i + 1) t2(j);"
   ]
  },
  {
   "cell_type": "code",
   "execution_count": 38,
   "id": "a44bb1f9-e701-4af9-b71b-c090548f3fe0",
   "metadata": {},
   "outputs": [
    {
     "data": {
      "text/html": [
       "<span style=\"None\">Running query in &#x27;duckdb&#x27;</span>"
      ],
      "text/plain": [
       "Running query in 'duckdb'"
      ]
     },
     "metadata": {},
     "output_type": "display_data"
    },
    {
     "data": {
      "text/html": [
       "<table>\n",
       "    <thead>\n",
       "        <tr>\n",
       "            <th>o_orderkey</th>\n",
       "            <th>o_totalprice</th>\n",
       "            <th>lineitem_count</th>\n",
       "        </tr>\n",
       "    </thead>\n",
       "    <tbody>\n",
       "        <tr>\n",
       "            <td>1</td>\n",
       "            <td>172799.49</td>\n",
       "            <td>6</td>\n",
       "        </tr>\n",
       "        <tr>\n",
       "            <td>32</td>\n",
       "            <td>198665.57</td>\n",
       "            <td>6</td>\n",
       "        </tr>\n",
       "        <tr>\n",
       "            <td>33</td>\n",
       "            <td>146567.24</td>\n",
       "            <td>4</td>\n",
       "        </tr>\n",
       "        <tr>\n",
       "            <td>68</td>\n",
       "            <td>301968.79</td>\n",
       "            <td>7</td>\n",
       "        </tr>\n",
       "        <tr>\n",
       "            <td>98</td>\n",
       "            <td>71721.40</td>\n",
       "            <td>4</td>\n",
       "        </tr>\n",
       "        <tr>\n",
       "            <td>133</td>\n",
       "            <td>95971.06</td>\n",
       "            <td>4</td>\n",
       "        </tr>\n",
       "        <tr>\n",
       "            <td>164</td>\n",
       "            <td>250417.20</td>\n",
       "            <td>7</td>\n",
       "        </tr>\n",
       "        <tr>\n",
       "            <td>167</td>\n",
       "            <td>64017.85</td>\n",
       "            <td>2</td>\n",
       "        </tr>\n",
       "        <tr>\n",
       "            <td>352</td>\n",
       "            <td>25542.02</td>\n",
       "            <td>1</td>\n",
       "        </tr>\n",
       "        <tr>\n",
       "            <td>356</td>\n",
       "            <td>189160.02</td>\n",
       "            <td>5</td>\n",
       "        </tr>\n",
       "    </tbody>\n",
       "</table>\n",
       "<span style=\"font-style:italic;text-align:center;\">Truncated to <a href=\"https://jupysql.ploomber.io/en/latest/api/configuration.html#displaylimit\">displaylimit</a> of 10.</span>"
      ],
      "text/plain": [
       "+------------+--------------+----------------+\n",
       "| o_orderkey | o_totalprice | lineitem_count |\n",
       "+------------+--------------+----------------+\n",
       "|     1      |  172799.49   |       6        |\n",
       "|     32     |  198665.57   |       6        |\n",
       "|     33     |  146567.24   |       4        |\n",
       "|     68     |  301968.79   |       7        |\n",
       "|     98     |   71721.40   |       4        |\n",
       "|    133     |   95971.06   |       4        |\n",
       "|    164     |  250417.20   |       7        |\n",
       "|    167     |   64017.85   |       2        |\n",
       "|    352     |   25542.02   |       1        |\n",
       "|    356     |  189160.02   |       5        |\n",
       "+------------+--------------+----------------+\n",
       "Truncated to displaylimit of 10."
      ]
     },
     "execution_count": 38,
     "metadata": {},
     "output_type": "execute_result"
    }
   ],
   "source": [
    "%%sql\n",
    "SELECT \n",
    "    o.o_orderkey, \n",
    "    o.o_totalprice, \n",
    "    l.lineitem_count\n",
    "FROM orders o,\n",
    "LATERAL (\n",
    "    SELECT COUNT(*) AS lineitem_count\n",
    "    FROM lineitem l\n",
    "    WHERE l.l_orderkey = o.o_orderkey\n",
    ") AS l;"
   ]
  },
  {
   "cell_type": "markdown",
   "id": "415c3f6b-8461-45bd-a789-189b1063dabd",
   "metadata": {},
   "source": [
    "For each row in the orders table (o), the subquery in the LATERAL JOIN counts the number of line items (lineitem_count) related to that order.\n"
   ]
  },
  {
   "cell_type": "markdown",
   "id": "14edc6b5-9e7f-4887-9489-87a773ca75ad",
   "metadata": {},
   "source": [
    "## 8. Business use cases"
   ]
  },
  {
   "cell_type": "markdown",
   "id": "c5462214-51c9-438e-a911-8ef29756a2b3",
   "metadata": {},
   "source": [
    "### 8.1. Change dimension values to individual columns with PIVOT"
   ]
  },
  {
   "cell_type": "code",
   "execution_count": 39,
   "id": "a380c129-aba9-407e-a2ef-9323de312bec",
   "metadata": {},
   "outputs": [
    {
     "data": {
      "text/html": [
       "<span style=\"None\">Running query in &#x27;duckdb&#x27;</span>"
      ],
      "text/plain": [
       "Running query in 'duckdb'"
      ]
     },
     "metadata": {},
     "output_type": "display_data"
    },
    {
     "data": {
      "text/html": [
       "<table>\n",
       "    <thead>\n",
       "        <tr>\n",
       "            <th>o_custkey</th>\n",
       "            <th>fulfilled_total</th>\n",
       "            <th>open_total</th>\n",
       "            <th>pending_total</th>\n",
       "        </tr>\n",
       "    </thead>\n",
       "    <tbody>\n",
       "        <tr>\n",
       "            <td>1</td>\n",
       "            <td>286642.08</td>\n",
       "            <td>1142231.53</td>\n",
       "            <td>0.00</td>\n",
       "        </tr>\n",
       "        <tr>\n",
       "            <td>2</td>\n",
       "            <td>631323.16</td>\n",
       "            <td>525181.76</td>\n",
       "            <td>0.00</td>\n",
       "        </tr>\n",
       "        <tr>\n",
       "            <td>4</td>\n",
       "            <td>1208443.25</td>\n",
       "            <td>2926124.14</td>\n",
       "            <td>0.00</td>\n",
       "        </tr>\n",
       "        <tr>\n",
       "            <td>5</td>\n",
       "            <td>435083.27</td>\n",
       "            <td>648959.47</td>\n",
       "            <td>0.00</td>\n",
       "        </tr>\n",
       "        <tr>\n",
       "            <td>7</td>\n",
       "            <td>1840220.65</td>\n",
       "            <td>2081800.33</td>\n",
       "            <td>0.00</td>\n",
       "        </tr>\n",
       "        <tr>\n",
       "            <td>8</td>\n",
       "            <td>1288436.76</td>\n",
       "            <td>1023161.99</td>\n",
       "            <td>0.00</td>\n",
       "        </tr>\n",
       "        <tr>\n",
       "            <td>10</td>\n",
       "            <td>2248225.63</td>\n",
       "            <td>1616872.55</td>\n",
       "            <td>0.00</td>\n",
       "        </tr>\n",
       "        <tr>\n",
       "            <td>11</td>\n",
       "            <td>804864.98</td>\n",
       "            <td>428621.55</td>\n",
       "            <td>0.00</td>\n",
       "        </tr>\n",
       "        <tr>\n",
       "            <td>13</td>\n",
       "            <td>1028321.46</td>\n",
       "            <td>1264513.11</td>\n",
       "            <td>0.00</td>\n",
       "        </tr>\n",
       "        <tr>\n",
       "            <td>14</td>\n",
       "            <td>968245.45</td>\n",
       "            <td>819113.63</td>\n",
       "            <td>0.00</td>\n",
       "        </tr>\n",
       "    </tbody>\n",
       "</table>\n",
       "<span style=\"font-style:italic;text-align:center;\">Truncated to <a href=\"https://jupysql.ploomber.io/en/latest/api/configuration.html#displaylimit\">displaylimit</a> of 10.</span>"
      ],
      "text/plain": [
       "+-----------+-----------------+------------+---------------+\n",
       "| o_custkey | fulfilled_total | open_total | pending_total |\n",
       "+-----------+-----------------+------------+---------------+\n",
       "|     1     |    286642.08    | 1142231.53 |      0.00     |\n",
       "|     2     |    631323.16    | 525181.76  |      0.00     |\n",
       "|     4     |    1208443.25   | 2926124.14 |      0.00     |\n",
       "|     5     |    435083.27    | 648959.47  |      0.00     |\n",
       "|     7     |    1840220.65   | 2081800.33 |      0.00     |\n",
       "|     8     |    1288436.76   | 1023161.99 |      0.00     |\n",
       "|     10    |    2248225.63   | 1616872.55 |      0.00     |\n",
       "|     11    |    804864.98    | 428621.55  |      0.00     |\n",
       "|     13    |    1028321.46   | 1264513.11 |      0.00     |\n",
       "|     14    |    968245.45    | 819113.63  |      0.00     |\n",
       "+-----------+-----------------+------------+---------------+\n",
       "Truncated to displaylimit of 10."
      ]
     },
     "execution_count": 39,
     "metadata": {},
     "output_type": "execute_result"
    }
   ],
   "source": [
    "%%sql\n",
    "SELECT \n",
    "    o_custkey,\n",
    "    SUM(CASE WHEN o_orderstatus = 'F' THEN o_totalprice ELSE 0 END) AS fulfilled_total,\n",
    "    SUM(CASE WHEN o_orderstatus = 'O' THEN o_totalprice ELSE 0 END) AS open_total,\n",
    "    SUM(CASE WHEN o_orderstatus = 'P' THEN o_totalprice ELSE 0 END) AS pending_total\n",
    "FROM orders\n",
    "GROUP BY o_custkey\n",
    "ORDER BY o_custkey;"
   ]
  },
  {
   "cell_type": "markdown",
   "id": "e1c992be-fe38-44ce-9c82-39d91095c2e1",
   "metadata": {},
   "source": [
    "Explanation:\n",
    "\n",
    "* SUM(CASE WHEN o_orderstatus = 'F' THEN o_totalprice ELSE 0 END): This sums up the o_totalprice for orders that have a status of 'F' (Fulfilled) for each customer (o_custkey).\n",
    "* Similarly, we apply this for other statuses like 'O' (Open) and 'P' (Pending) to pivot the data by o_orderstatus.\n",
    "* GROUP BY o_custkey: Groups the data by each customer to aggregate the total prices based on order status."
   ]
  },
  {
   "cell_type": "code",
   "execution_count": 40,
   "id": "6fa3cded-8b9f-4111-88f9-dbf10e9c36a5",
   "metadata": {},
   "outputs": [
    {
     "data": {
      "text/html": [
       "<span style=\"None\">Running query in &#x27;duckdb&#x27;</span>"
      ],
      "text/plain": [
       "Running query in 'duckdb'"
      ]
     },
     "metadata": {},
     "output_type": "display_data"
    },
    {
     "data": {
      "text/html": [
       "<table>\n",
       "    <thead>\n",
       "        <tr>\n",
       "            <th>o_custkey</th>\n",
       "            <th>F</th>\n",
       "            <th>O</th>\n",
       "            <th>P</th>\n",
       "        </tr>\n",
       "    </thead>\n",
       "    <tbody>\n",
       "        <tr>\n",
       "            <td>1</td>\n",
       "            <td>286642.08</td>\n",
       "            <td>1142231.53</td>\n",
       "            <td>None</td>\n",
       "        </tr>\n",
       "        <tr>\n",
       "            <td>2</td>\n",
       "            <td>631323.16</td>\n",
       "            <td>525181.76</td>\n",
       "            <td>None</td>\n",
       "        </tr>\n",
       "        <tr>\n",
       "            <td>4</td>\n",
       "            <td>1208443.25</td>\n",
       "            <td>2926124.14</td>\n",
       "            <td>None</td>\n",
       "        </tr>\n",
       "        <tr>\n",
       "            <td>5</td>\n",
       "            <td>435083.27</td>\n",
       "            <td>648959.47</td>\n",
       "            <td>None</td>\n",
       "        </tr>\n",
       "        <tr>\n",
       "            <td>7</td>\n",
       "            <td>1840220.65</td>\n",
       "            <td>2081800.33</td>\n",
       "            <td>None</td>\n",
       "        </tr>\n",
       "        <tr>\n",
       "            <td>8</td>\n",
       "            <td>1288436.76</td>\n",
       "            <td>1023161.99</td>\n",
       "            <td>None</td>\n",
       "        </tr>\n",
       "        <tr>\n",
       "            <td>10</td>\n",
       "            <td>2248225.63</td>\n",
       "            <td>1616872.55</td>\n",
       "            <td>None</td>\n",
       "        </tr>\n",
       "        <tr>\n",
       "            <td>11</td>\n",
       "            <td>804864.98</td>\n",
       "            <td>428621.55</td>\n",
       "            <td>None</td>\n",
       "        </tr>\n",
       "        <tr>\n",
       "            <td>13</td>\n",
       "            <td>1028321.46</td>\n",
       "            <td>1264513.11</td>\n",
       "            <td>None</td>\n",
       "        </tr>\n",
       "        <tr>\n",
       "            <td>14</td>\n",
       "            <td>968245.45</td>\n",
       "            <td>819113.63</td>\n",
       "            <td>None</td>\n",
       "        </tr>\n",
       "    </tbody>\n",
       "</table>\n",
       "<span style=\"font-style:italic;text-align:center;\">Truncated to <a href=\"https://jupysql.ploomber.io/en/latest/api/configuration.html#displaylimit\">displaylimit</a> of 10.</span>"
      ],
      "text/plain": [
       "+-----------+------------+------------+------+\n",
       "| o_custkey |     F      |     O      |  P   |\n",
       "+-----------+------------+------------+------+\n",
       "|     1     | 286642.08  | 1142231.53 | None |\n",
       "|     2     | 631323.16  | 525181.76  | None |\n",
       "|     4     | 1208443.25 | 2926124.14 | None |\n",
       "|     5     | 435083.27  | 648959.47  | None |\n",
       "|     7     | 1840220.65 | 2081800.33 | None |\n",
       "|     8     | 1288436.76 | 1023161.99 | None |\n",
       "|     10    | 2248225.63 | 1616872.55 | None |\n",
       "|     11    | 804864.98  | 428621.55  | None |\n",
       "|     13    | 1028321.46 | 1264513.11 | None |\n",
       "|     14    | 968245.45  | 819113.63  | None |\n",
       "+-----------+------------+------------+------+\n",
       "Truncated to displaylimit of 10."
      ]
     },
     "execution_count": 40,
     "metadata": {},
     "output_type": "execute_result"
    }
   ],
   "source": [
    "%%sql\n",
    "-- some DBs have support for PIVOT\n",
    "FROM orders\n",
    "PIVOT (\n",
    "    sum(o_totalprice)\n",
    "    FOR\n",
    "        o_orderstatus IN ('F', 'O', 'P')\n",
    "    GROUP BY o_custkey\n",
    ")\n",
    "    ORDER BY o_custkey;"
   ]
  },
  {
   "cell_type": "markdown",
   "id": "301530e0-6f51-4675-a4eb-e04b8d76eb18",
   "metadata": {},
   "source": [
    "### 8.2. Generate metrics for every possible combination of dimensions with CUBE"
   ]
  },
  {
   "cell_type": "code",
   "execution_count": 41,
   "id": "c89debc8-4e26-4dda-95ab-03e3581612c5",
   "metadata": {},
   "outputs": [
    {
     "data": {
      "text/html": [
       "<span style=\"None\">Running query in &#x27;duckdb&#x27;</span>"
      ],
      "text/plain": [
       "Running query in 'duckdb'"
      ]
     },
     "metadata": {},
     "output_type": "display_data"
    },
    {
     "data": {
      "text/html": [
       "<table>\n",
       "    <thead>\n",
       "        <tr>\n",
       "            <th>o_orderpriority</th>\n",
       "            <th>o_orderstatus</th>\n",
       "            <th>order_year</th>\n",
       "            <th>total_sales</th>\n",
       "        </tr>\n",
       "    </thead>\n",
       "    <tbody>\n",
       "        <tr>\n",
       "            <td>1-URGENT</td>\n",
       "            <td>F</td>\n",
       "            <td>1992</td>\n",
       "            <td>65037070.10</td>\n",
       "        </tr>\n",
       "        <tr>\n",
       "            <td>1-URGENT</td>\n",
       "            <td>F</td>\n",
       "            <td>1993</td>\n",
       "            <td>60503901.99</td>\n",
       "        </tr>\n",
       "        <tr>\n",
       "            <td>1-URGENT</td>\n",
       "            <td>F</td>\n",
       "            <td>1994</td>\n",
       "            <td>68381440.65</td>\n",
       "        </tr>\n",
       "        <tr>\n",
       "            <td>1-URGENT</td>\n",
       "            <td>F</td>\n",
       "            <td>1995</td>\n",
       "            <td>12186862.02</td>\n",
       "        </tr>\n",
       "        <tr>\n",
       "            <td>1-URGENT</td>\n",
       "            <td>F</td>\n",
       "            <td>None</td>\n",
       "            <td>206109274.76</td>\n",
       "        </tr>\n",
       "        <tr>\n",
       "            <td>1-URGENT</td>\n",
       "            <td>O</td>\n",
       "            <td>1995</td>\n",
       "            <td>40259411.38</td>\n",
       "        </tr>\n",
       "        <tr>\n",
       "            <td>1-URGENT</td>\n",
       "            <td>O</td>\n",
       "            <td>1996</td>\n",
       "            <td>64262978.01</td>\n",
       "        </tr>\n",
       "        <tr>\n",
       "            <td>1-URGENT</td>\n",
       "            <td>O</td>\n",
       "            <td>1997</td>\n",
       "            <td>67931485.24</td>\n",
       "        </tr>\n",
       "        <tr>\n",
       "            <td>1-URGENT</td>\n",
       "            <td>O</td>\n",
       "            <td>1998</td>\n",
       "            <td>36552106.60</td>\n",
       "        </tr>\n",
       "        <tr>\n",
       "            <td>1-URGENT</td>\n",
       "            <td>O</td>\n",
       "            <td>None</td>\n",
       "            <td>209005981.23</td>\n",
       "        </tr>\n",
       "    </tbody>\n",
       "</table>\n",
       "<span style=\"font-style:italic;text-align:center;\">Truncated to <a href=\"https://jupysql.ploomber.io/en/latest/api/configuration.html#displaylimit\">displaylimit</a> of 10.</span>"
      ],
      "text/plain": [
       "+-----------------+---------------+------------+--------------+\n",
       "| o_orderpriority | o_orderstatus | order_year | total_sales  |\n",
       "+-----------------+---------------+------------+--------------+\n",
       "|     1-URGENT    |       F       |    1992    | 65037070.10  |\n",
       "|     1-URGENT    |       F       |    1993    | 60503901.99  |\n",
       "|     1-URGENT    |       F       |    1994    | 68381440.65  |\n",
       "|     1-URGENT    |       F       |    1995    | 12186862.02  |\n",
       "|     1-URGENT    |       F       |    None    | 206109274.76 |\n",
       "|     1-URGENT    |       O       |    1995    | 40259411.38  |\n",
       "|     1-URGENT    |       O       |    1996    | 64262978.01  |\n",
       "|     1-URGENT    |       O       |    1997    | 67931485.24  |\n",
       "|     1-URGENT    |       O       |    1998    | 36552106.60  |\n",
       "|     1-URGENT    |       O       |    None    | 209005981.23 |\n",
       "+-----------------+---------------+------------+--------------+\n",
       "Truncated to displaylimit of 10."
      ]
     },
     "execution_count": 41,
     "metadata": {},
     "output_type": "execute_result"
    }
   ],
   "source": [
    "%%sql\n",
    "SELECT \n",
    "    o_orderpriority,\n",
    "    o_orderstatus,\n",
    "    EXTRACT(YEAR FROM o_orderdate) AS order_year,\n",
    "    SUM(o_totalprice) AS total_sales\n",
    "FROM orders\n",
    "GROUP BY CUBE (o_orderpriority, o_orderstatus, order_year)\n",
    "ORDER BY 1,2,3;"
   ]
  },
  {
   "cell_type": "markdown",
   "id": "9dd921a4-fe01-4233-87c7-017499f8c839",
   "metadata": {},
   "source": [
    "Explanation:\n",
    "\n",
    "* CUBE (o_custkey, o_orderstatus, order_year): This will group the data and calculate subtotals and grand totals for all possible combinations of o_custkey, o_orderstatus, and order_year.\n",
    "* It will generate all combinations of the grouping columns, including:\n",
    "    * Grouping by just o_custkey\n",
    "    * Grouping by just o_orderstatus\n",
    "    * Grouping by just order_year\n",
    "    * Grouping by all three together\n",
    "    * Grouping by pairs of columns\n",
    "    * A grand total (no grouping by any column)\n",
    "    * SUM(o_totalprice): For each combination of groupings, it sums the total order price.\n",
    "\n",
    "Example Output:\n",
    "\n",
    "The query will return something like the following:\n",
    "| o_custkey | o_orderstatus | order_year | total_sales |\n",
    "|-----------|---------------|------------|-------------|\n",
    "| 1001      | O             | 2024       | 20000.00    |\n",
    "| 1001      | F             | 2023       | 15000.00    |\n",
    "| 1001      | O             | NULL       | 35000.00    |\n",
    "| 1002      | NULL          | 2024       | 30000.00    |\n",
    "| NULL      | O             | 2024       | 50000.00    |\n",
    "| NULL      | NULL          | NULL       | 100000.00   |\n",
    "\n",
    "\n",
    "Grand Total: The row with all NULL values represents the grand total (total_sales for all customers, all statuses, and all years).\n",
    "                                                                      \n",
    "Subtotals:\n",
    "                                                                      \n",
    "* The row with o_custkey = 1001, o_orderstatus = 'O', and order_year = NULL represents the subtotal of orders for customer 1001 and status 'O' across all years.\n",
    "* The row with o_custkey = NULL, o_orderstatus = 'O', and order_year = 2024 represents the subtotal for all customers with status 'O' in the year 2024.\n",
    "\n",
    "Use Case:\n",
    "\n",
    "1. OLAP Reporting: CUBE is commonly used in OLAP scenarios where you need to analyze data from multiple perspectives. For instance, you may want to generate reports that show total sales by customer, by order status, by year, and all possible combinations of these dimensions.\n",
    "2. Sales Analysis: In sales analysis, CUBE can help create pivot-like summaries that show how different attributes (e.g., region, product, time period) contribute to the overall sales.\n",
    "3. Financial Reports: Financial departments often use CUBE to calculate totals and subtotals across dimensions like departments, time periods, and account categories, making it easier to prepare comprehensive financial reports.\n",
    "\n",
    "This is a powerful tool for producing multidimensional summaries of data in one go, helping with complex reporting and data analysis tasks."
   ]
  }
 ],
 "metadata": {
  "kernelspec": {
   "display_name": "Python 3 (ipykernel)",
   "language": "python",
   "name": "python3"
  },
  "language_info": {
   "codemirror_mode": {
    "name": "ipython",
    "version": 3
   },
   "file_extension": ".py",
   "mimetype": "text/x-python",
   "name": "python",
   "nbconvert_exporter": "python",
   "pygments_lexer": "ipython3",
   "version": "3.11.3"
  }
 },
 "nbformat": 4,
 "nbformat_minor": 5
}
